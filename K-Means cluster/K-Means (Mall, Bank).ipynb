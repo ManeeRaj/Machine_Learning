{
 "cells": [
  {
   "cell_type": "code",
   "execution_count": 1,
   "id": "e2d00c5b",
   "metadata": {},
   "outputs": [
    {
     "data": {
      "text/plain": [
       "'C:\\\\Users\\\\MANEE\\\\Documents\\\\Machine learning\\\\Cluster_Unsupervised'"
      ]
     },
     "execution_count": 1,
     "metadata": {},
     "output_type": "execute_result"
    }
   ],
   "source": [
    "import numpy as np\n",
    "import pandas as pd\n",
    "import seaborn as sns\n",
    "import matplotlib.pyplot as plt\n",
    "%matplotlib inline\n",
    "sns.set()\n",
    "import warnings\n",
    "warnings.filterwarnings('ignore')\n",
    "import os\n",
    "os.getcwd()"
   ]
  },
  {
   "cell_type": "code",
   "execution_count": 2,
   "id": "f3ad4d87",
   "metadata": {},
   "outputs": [
    {
     "data": {
      "text/html": [
       "<div>\n",
       "<style scoped>\n",
       "    .dataframe tbody tr th:only-of-type {\n",
       "        vertical-align: middle;\n",
       "    }\n",
       "\n",
       "    .dataframe tbody tr th {\n",
       "        vertical-align: top;\n",
       "    }\n",
       "\n",
       "    .dataframe thead th {\n",
       "        text-align: right;\n",
       "    }\n",
       "</style>\n",
       "<table border=\"1\" class=\"dataframe\">\n",
       "  <thead>\n",
       "    <tr style=\"text-align: right;\">\n",
       "      <th></th>\n",
       "      <th>Bank</th>\n",
       "      <th>DD</th>\n",
       "      <th>Withdrawals</th>\n",
       "      <th>Deposits</th>\n",
       "      <th>Branch Area in sqft</th>\n",
       "      <th>avg daily walkins</th>\n",
       "    </tr>\n",
       "  </thead>\n",
       "  <tbody>\n",
       "    <tr>\n",
       "      <th>0</th>\n",
       "      <td>1</td>\n",
       "      <td>227</td>\n",
       "      <td>147</td>\n",
       "      <td>111</td>\n",
       "      <td>2460</td>\n",
       "      <td>639</td>\n",
       "    </tr>\n",
       "    <tr>\n",
       "      <th>1</th>\n",
       "      <td>2</td>\n",
       "      <td>123</td>\n",
       "      <td>86</td>\n",
       "      <td>65</td>\n",
       "      <td>3510</td>\n",
       "      <td>436</td>\n",
       "    </tr>\n",
       "    <tr>\n",
       "      <th>2</th>\n",
       "      <td>3</td>\n",
       "      <td>306</td>\n",
       "      <td>149</td>\n",
       "      <td>76</td>\n",
       "      <td>2570</td>\n",
       "      <td>669</td>\n",
       "    </tr>\n",
       "    <tr>\n",
       "      <th>3</th>\n",
       "      <td>4</td>\n",
       "      <td>251</td>\n",
       "      <td>112</td>\n",
       "      <td>129</td>\n",
       "      <td>3650</td>\n",
       "      <td>623</td>\n",
       "    </tr>\n",
       "    <tr>\n",
       "      <th>4</th>\n",
       "      <td>5</td>\n",
       "      <td>174</td>\n",
       "      <td>135</td>\n",
       "      <td>128</td>\n",
       "      <td>3400</td>\n",
       "      <td>579</td>\n",
       "    </tr>\n",
       "  </tbody>\n",
       "</table>\n",
       "</div>"
      ],
      "text/plain": [
       "   Bank   DD  Withdrawals  Deposits  Branch Area in sqft  avg daily walkins\n",
       "0     1  227          147       111                 2460                639\n",
       "1     2  123           86        65                 3510                436\n",
       "2     3  306          149        76                 2570                669\n",
       "3     4  251          112       129                 3650                623\n",
       "4     5  174          135       128                 3400                579"
      ]
     },
     "execution_count": 2,
     "metadata": {},
     "output_type": "execute_result"
    }
   ],
   "source": [
    "data_df = pd.read_csv('bank.csv')\n",
    "data_df.head()"
   ]
  },
  {
   "cell_type": "code",
   "execution_count": 3,
   "id": "2ca74d7c",
   "metadata": {},
   "outputs": [
    {
     "data": {
      "text/plain": [
       "(515, 6)"
      ]
     },
     "execution_count": 3,
     "metadata": {},
     "output_type": "execute_result"
    }
   ],
   "source": [
    "data_df.shape"
   ]
  },
  {
   "cell_type": "code",
   "execution_count": 4,
   "id": "210789b3",
   "metadata": {},
   "outputs": [
    {
     "name": "stdout",
     "output_type": "stream",
     "text": [
      "<class 'pandas.core.frame.DataFrame'>\n",
      "RangeIndex: 515 entries, 0 to 514\n",
      "Data columns (total 6 columns):\n",
      " #   Column               Non-Null Count  Dtype\n",
      "---  ------               --------------  -----\n",
      " 0   Bank                 515 non-null    int64\n",
      " 1   DD                   515 non-null    int64\n",
      " 2   Withdrawals          515 non-null    int64\n",
      " 3   Deposits             515 non-null    int64\n",
      " 4   Branch Area in sqft  515 non-null    int64\n",
      " 5   avg daily walkins    515 non-null    int64\n",
      "dtypes: int64(6)\n",
      "memory usage: 24.3 KB\n"
     ]
    }
   ],
   "source": [
    "data_df.info()"
   ]
  },
  {
   "cell_type": "code",
   "execution_count": 5,
   "id": "8ee42b4a",
   "metadata": {},
   "outputs": [
    {
     "data": {
      "text/html": [
       "<div>\n",
       "<style scoped>\n",
       "    .dataframe tbody tr th:only-of-type {\n",
       "        vertical-align: middle;\n",
       "    }\n",
       "\n",
       "    .dataframe tbody tr th {\n",
       "        vertical-align: top;\n",
       "    }\n",
       "\n",
       "    .dataframe thead th {\n",
       "        text-align: right;\n",
       "    }\n",
       "</style>\n",
       "<table border=\"1\" class=\"dataframe\">\n",
       "  <thead>\n",
       "    <tr style=\"text-align: right;\">\n",
       "      <th></th>\n",
       "      <th>Bank</th>\n",
       "      <th>DD</th>\n",
       "      <th>Withdrawals</th>\n",
       "      <th>Deposits</th>\n",
       "      <th>Branch Area in sqft</th>\n",
       "      <th>avg daily walkins</th>\n",
       "    </tr>\n",
       "  </thead>\n",
       "  <tbody>\n",
       "    <tr>\n",
       "      <th>count</th>\n",
       "      <td>515.000000</td>\n",
       "      <td>515.000000</td>\n",
       "      <td>515.000000</td>\n",
       "      <td>515.000000</td>\n",
       "      <td>515.000000</td>\n",
       "      <td>515.000000</td>\n",
       "    </tr>\n",
       "    <tr>\n",
       "      <th>mean</th>\n",
       "      <td>258.000000</td>\n",
       "      <td>232.252427</td>\n",
       "      <td>150.693204</td>\n",
       "      <td>81.687379</td>\n",
       "      <td>2934.669903</td>\n",
       "      <td>598.603883</td>\n",
       "    </tr>\n",
       "    <tr>\n",
       "      <th>std</th>\n",
       "      <td>148.811962</td>\n",
       "      <td>66.648815</td>\n",
       "      <td>56.897777</td>\n",
       "      <td>28.596912</td>\n",
       "      <td>437.062831</td>\n",
       "      <td>83.487891</td>\n",
       "    </tr>\n",
       "    <tr>\n",
       "      <th>min</th>\n",
       "      <td>1.000000</td>\n",
       "      <td>120.000000</td>\n",
       "      <td>10.000000</td>\n",
       "      <td>33.000000</td>\n",
       "      <td>1200.000000</td>\n",
       "      <td>380.000000</td>\n",
       "    </tr>\n",
       "    <tr>\n",
       "      <th>25%</th>\n",
       "      <td>129.500000</td>\n",
       "      <td>169.500000</td>\n",
       "      <td>103.000000</td>\n",
       "      <td>58.000000</td>\n",
       "      <td>2675.000000</td>\n",
       "      <td>537.500000</td>\n",
       "    </tr>\n",
       "    <tr>\n",
       "      <th>50%</th>\n",
       "      <td>258.000000</td>\n",
       "      <td>237.000000</td>\n",
       "      <td>152.000000</td>\n",
       "      <td>80.000000</td>\n",
       "      <td>2960.000000</td>\n",
       "      <td>601.000000</td>\n",
       "    </tr>\n",
       "    <tr>\n",
       "      <th>75%</th>\n",
       "      <td>386.500000</td>\n",
       "      <td>291.000000</td>\n",
       "      <td>200.000000</td>\n",
       "      <td>105.000000</td>\n",
       "      <td>3300.000000</td>\n",
       "      <td>657.500000</td>\n",
       "    </tr>\n",
       "    <tr>\n",
       "      <th>max</th>\n",
       "      <td>515.000000</td>\n",
       "      <td>350.000000</td>\n",
       "      <td>247.000000</td>\n",
       "      <td>212.000000</td>\n",
       "      <td>3650.000000</td>\n",
       "      <td>838.000000</td>\n",
       "    </tr>\n",
       "  </tbody>\n",
       "</table>\n",
       "</div>"
      ],
      "text/plain": [
       "             Bank          DD  Withdrawals    Deposits  Branch Area in sqft  \\\n",
       "count  515.000000  515.000000   515.000000  515.000000           515.000000   \n",
       "mean   258.000000  232.252427   150.693204   81.687379          2934.669903   \n",
       "std    148.811962   66.648815    56.897777   28.596912           437.062831   \n",
       "min      1.000000  120.000000    10.000000   33.000000          1200.000000   \n",
       "25%    129.500000  169.500000   103.000000   58.000000          2675.000000   \n",
       "50%    258.000000  237.000000   152.000000   80.000000          2960.000000   \n",
       "75%    386.500000  291.000000   200.000000  105.000000          3300.000000   \n",
       "max    515.000000  350.000000   247.000000  212.000000          3650.000000   \n",
       "\n",
       "       avg daily walkins  \n",
       "count         515.000000  \n",
       "mean          598.603883  \n",
       "std            83.487891  \n",
       "min           380.000000  \n",
       "25%           537.500000  \n",
       "50%           601.000000  \n",
       "75%           657.500000  \n",
       "max           838.000000  "
      ]
     },
     "execution_count": 5,
     "metadata": {},
     "output_type": "execute_result"
    }
   ],
   "source": [
    "data_df.describe()"
   ]
  },
  {
   "cell_type": "code",
   "execution_count": 6,
   "id": "8a82e0e2",
   "metadata": {},
   "outputs": [
    {
     "data": {
      "text/plain": [
       "0"
      ]
     },
     "execution_count": 6,
     "metadata": {},
     "output_type": "execute_result"
    }
   ],
   "source": [
    "data_df.duplicated().sum()"
   ]
  },
  {
   "cell_type": "markdown",
   "id": "7a459936",
   "metadata": {},
   "source": [
    "# Scaling the data"
   ]
  },
  {
   "cell_type": "code",
   "execution_count": 7,
   "id": "e94d1cd8",
   "metadata": {},
   "outputs": [],
   "source": [
    "from sklearn.preprocessing import StandardScaler"
   ]
  },
  {
   "cell_type": "code",
   "execution_count": 8,
   "id": "708f3f26",
   "metadata": {},
   "outputs": [],
   "source": [
    "x = StandardScaler()\n",
    "scaled_x = pd.DataFrame(x.fit_transform(data_df.iloc[:,1:6]), columns=data_df.columns[1:])"
   ]
  },
  {
   "cell_type": "code",
   "execution_count": 9,
   "id": "a8a38a37",
   "metadata": {},
   "outputs": [
    {
     "data": {
      "text/html": [
       "<div>\n",
       "<style scoped>\n",
       "    .dataframe tbody tr th:only-of-type {\n",
       "        vertical-align: middle;\n",
       "    }\n",
       "\n",
       "    .dataframe tbody tr th {\n",
       "        vertical-align: top;\n",
       "    }\n",
       "\n",
       "    .dataframe thead th {\n",
       "        text-align: right;\n",
       "    }\n",
       "</style>\n",
       "<table border=\"1\" class=\"dataframe\">\n",
       "  <thead>\n",
       "    <tr style=\"text-align: right;\">\n",
       "      <th></th>\n",
       "      <th>DD</th>\n",
       "      <th>Withdrawals</th>\n",
       "      <th>Deposits</th>\n",
       "      <th>Branch Area in sqft</th>\n",
       "      <th>avg daily walkins</th>\n",
       "    </tr>\n",
       "  </thead>\n",
       "  <tbody>\n",
       "    <tr>\n",
       "      <th>0</th>\n",
       "      <td>-0.078884</td>\n",
       "      <td>-0.064973</td>\n",
       "      <td>1.026024</td>\n",
       "      <td>-1.087101</td>\n",
       "      <td>0.484326</td>\n",
       "    </tr>\n",
       "    <tr>\n",
       "      <th>1</th>\n",
       "      <td>-1.640819</td>\n",
       "      <td>-1.138113</td>\n",
       "      <td>-0.584105</td>\n",
       "      <td>1.317635</td>\n",
       "      <td>-1.949528</td>\n",
       "    </tr>\n",
       "    <tr>\n",
       "      <th>2</th>\n",
       "      <td>1.107586</td>\n",
       "      <td>-0.029788</td>\n",
       "      <td>-0.199074</td>\n",
       "      <td>-0.835176</td>\n",
       "      <td>0.844009</td>\n",
       "    </tr>\n",
       "    <tr>\n",
       "      <th>3</th>\n",
       "      <td>0.281562</td>\n",
       "      <td>-0.680709</td>\n",
       "      <td>1.656075</td>\n",
       "      <td>1.638267</td>\n",
       "      <td>0.292496</td>\n",
       "    </tr>\n",
       "    <tr>\n",
       "      <th>4</th>\n",
       "      <td>-0.874870</td>\n",
       "      <td>-0.276082</td>\n",
       "      <td>1.621072</td>\n",
       "      <td>1.065711</td>\n",
       "      <td>-0.235039</td>\n",
       "    </tr>\n",
       "    <tr>\n",
       "      <th>...</th>\n",
       "      <td>...</td>\n",
       "      <td>...</td>\n",
       "      <td>...</td>\n",
       "      <td>...</td>\n",
       "      <td>...</td>\n",
       "    </tr>\n",
       "    <tr>\n",
       "      <th>510</th>\n",
       "      <td>1.573163</td>\n",
       "      <td>-0.188120</td>\n",
       "      <td>1.026024</td>\n",
       "      <td>-0.674860</td>\n",
       "      <td>1.143745</td>\n",
       "    </tr>\n",
       "    <tr>\n",
       "      <th>511</th>\n",
       "      <td>-0.964982</td>\n",
       "      <td>-0.346452</td>\n",
       "      <td>-0.759119</td>\n",
       "      <td>-0.674860</td>\n",
       "      <td>-0.894458</td>\n",
       "    </tr>\n",
       "    <tr>\n",
       "      <th>512</th>\n",
       "      <td>1.513088</td>\n",
       "      <td>-1.138113</td>\n",
       "      <td>0.921016</td>\n",
       "      <td>-0.193913</td>\n",
       "      <td>0.927935</td>\n",
       "    </tr>\n",
       "    <tr>\n",
       "      <th>513</th>\n",
       "      <td>-0.604535</td>\n",
       "      <td>0.445209</td>\n",
       "      <td>-1.669192</td>\n",
       "      <td>-0.400033</td>\n",
       "      <td>-1.122257</td>\n",
       "    </tr>\n",
       "    <tr>\n",
       "      <th>514</th>\n",
       "      <td>1.483051</td>\n",
       "      <td>0.621134</td>\n",
       "      <td>0.535985</td>\n",
       "      <td>-0.537447</td>\n",
       "      <td>2.018974</td>\n",
       "    </tr>\n",
       "  </tbody>\n",
       "</table>\n",
       "<p>515 rows × 5 columns</p>\n",
       "</div>"
      ],
      "text/plain": [
       "           DD  Withdrawals  Deposits  Branch Area in sqft  avg daily walkins\n",
       "0   -0.078884    -0.064973  1.026024            -1.087101           0.484326\n",
       "1   -1.640819    -1.138113 -0.584105             1.317635          -1.949528\n",
       "2    1.107586    -0.029788 -0.199074            -0.835176           0.844009\n",
       "3    0.281562    -0.680709  1.656075             1.638267           0.292496\n",
       "4   -0.874870    -0.276082  1.621072             1.065711          -0.235039\n",
       "..        ...          ...       ...                  ...                ...\n",
       "510  1.573163    -0.188120  1.026024            -0.674860           1.143745\n",
       "511 -0.964982    -0.346452 -0.759119            -0.674860          -0.894458\n",
       "512  1.513088    -1.138113  0.921016            -0.193913           0.927935\n",
       "513 -0.604535     0.445209 -1.669192            -0.400033          -1.122257\n",
       "514  1.483051     0.621134  0.535985            -0.537447           2.018974\n",
       "\n",
       "[515 rows x 5 columns]"
      ]
     },
     "execution_count": 9,
     "metadata": {},
     "output_type": "execute_result"
    }
   ],
   "source": [
    "scaled_x"
   ]
  },
  {
   "cell_type": "code",
   "execution_count": 10,
   "id": "c0c5c73c",
   "metadata": {},
   "outputs": [
    {
     "data": {
      "text/html": [
       "<div>\n",
       "<style scoped>\n",
       "    .dataframe tbody tr th:only-of-type {\n",
       "        vertical-align: middle;\n",
       "    }\n",
       "\n",
       "    .dataframe tbody tr th {\n",
       "        vertical-align: top;\n",
       "    }\n",
       "\n",
       "    .dataframe thead th {\n",
       "        text-align: right;\n",
       "    }\n",
       "</style>\n",
       "<table border=\"1\" class=\"dataframe\">\n",
       "  <thead>\n",
       "    <tr style=\"text-align: right;\">\n",
       "      <th></th>\n",
       "      <th>DD</th>\n",
       "      <th>Withdrawals</th>\n",
       "      <th>Deposits</th>\n",
       "      <th>Branch Area in sqft</th>\n",
       "      <th>avg daily walkins</th>\n",
       "    </tr>\n",
       "  </thead>\n",
       "  <tbody>\n",
       "    <tr>\n",
       "      <th>count</th>\n",
       "      <td>5.150000e+02</td>\n",
       "      <td>5.150000e+02</td>\n",
       "      <td>5.150000e+02</td>\n",
       "      <td>5.150000e+02</td>\n",
       "      <td>5.150000e+02</td>\n",
       "    </tr>\n",
       "    <tr>\n",
       "      <th>mean</th>\n",
       "      <td>-1.345202e-16</td>\n",
       "      <td>-2.218290e-16</td>\n",
       "      <td>4.440892e-17</td>\n",
       "      <td>4.083034e-16</td>\n",
       "      <td>7.415859e-17</td>\n",
       "    </tr>\n",
       "    <tr>\n",
       "      <th>std</th>\n",
       "      <td>1.000972e+00</td>\n",
       "      <td>1.000972e+00</td>\n",
       "      <td>1.000972e+00</td>\n",
       "      <td>1.000972e+00</td>\n",
       "      <td>1.000972e+00</td>\n",
       "    </tr>\n",
       "    <tr>\n",
       "      <th>min</th>\n",
       "      <td>-1.685875e+00</td>\n",
       "      <td>-2.475141e+00</td>\n",
       "      <td>-1.704195e+00</td>\n",
       "      <td>-3.972785e+00</td>\n",
       "      <td>-2.620936e+00</td>\n",
       "    </tr>\n",
       "    <tr>\n",
       "      <th>25%</th>\n",
       "      <td>-9.424540e-01</td>\n",
       "      <td>-8.390411e-01</td>\n",
       "      <td>-8.291248e-01</td>\n",
       "      <td>-5.947025e-01</td>\n",
       "      <td>-7.326008e-01</td>\n",
       "    </tr>\n",
       "    <tr>\n",
       "      <th>50%</th>\n",
       "      <td>7.130193e-02</td>\n",
       "      <td>2.298977e-02</td>\n",
       "      <td>-5.906299e-02</td>\n",
       "      <td>5.801163e-02</td>\n",
       "      <td>2.872807e-02</td>\n",
       "    </tr>\n",
       "    <tr>\n",
       "      <th>75%</th>\n",
       "      <td>8.823066e-01</td>\n",
       "      <td>8.674282e-01</td>\n",
       "      <td>8.160073e-01</td>\n",
       "      <td>8.366882e-01</td>\n",
       "      <td>7.061309e-01</td>\n",
       "    </tr>\n",
       "    <tr>\n",
       "      <th>max</th>\n",
       "      <td>1.768404e+00</td>\n",
       "      <td>1.694274e+00</td>\n",
       "      <td>4.561308e+00</td>\n",
       "      <td>1.638267e+00</td>\n",
       "      <td>2.870223e+00</td>\n",
       "    </tr>\n",
       "  </tbody>\n",
       "</table>\n",
       "</div>"
      ],
      "text/plain": [
       "                 DD   Withdrawals      Deposits  Branch Area in sqft  \\\n",
       "count  5.150000e+02  5.150000e+02  5.150000e+02         5.150000e+02   \n",
       "mean  -1.345202e-16 -2.218290e-16  4.440892e-17         4.083034e-16   \n",
       "std    1.000972e+00  1.000972e+00  1.000972e+00         1.000972e+00   \n",
       "min   -1.685875e+00 -2.475141e+00 -1.704195e+00        -3.972785e+00   \n",
       "25%   -9.424540e-01 -8.390411e-01 -8.291248e-01        -5.947025e-01   \n",
       "50%    7.130193e-02  2.298977e-02 -5.906299e-02         5.801163e-02   \n",
       "75%    8.823066e-01  8.674282e-01  8.160073e-01         8.366882e-01   \n",
       "max    1.768404e+00  1.694274e+00  4.561308e+00         1.638267e+00   \n",
       "\n",
       "       avg daily walkins  \n",
       "count       5.150000e+02  \n",
       "mean        7.415859e-17  \n",
       "std         1.000972e+00  \n",
       "min        -2.620936e+00  \n",
       "25%        -7.326008e-01  \n",
       "50%         2.872807e-02  \n",
       "75%         7.061309e-01  \n",
       "max         2.870223e+00  "
      ]
     },
     "execution_count": 10,
     "metadata": {},
     "output_type": "execute_result"
    }
   ],
   "source": [
    "scaled_x.describe()"
   ]
  },
  {
   "cell_type": "markdown",
   "id": "4814153f",
   "metadata": {},
   "source": [
    "# Creating Clusters using KMeans"
   ]
  },
  {
   "cell_type": "code",
   "execution_count": 11,
   "id": "4f1b8220",
   "metadata": {},
   "outputs": [
    {
     "data": {
      "text/html": [
       "<style>#sk-container-id-1 {color: black;background-color: white;}#sk-container-id-1 pre{padding: 0;}#sk-container-id-1 div.sk-toggleable {background-color: white;}#sk-container-id-1 label.sk-toggleable__label {cursor: pointer;display: block;width: 100%;margin-bottom: 0;padding: 0.3em;box-sizing: border-box;text-align: center;}#sk-container-id-1 label.sk-toggleable__label-arrow:before {content: \"▸\";float: left;margin-right: 0.25em;color: #696969;}#sk-container-id-1 label.sk-toggleable__label-arrow:hover:before {color: black;}#sk-container-id-1 div.sk-estimator:hover label.sk-toggleable__label-arrow:before {color: black;}#sk-container-id-1 div.sk-toggleable__content {max-height: 0;max-width: 0;overflow: hidden;text-align: left;background-color: #f0f8ff;}#sk-container-id-1 div.sk-toggleable__content pre {margin: 0.2em;color: black;border-radius: 0.25em;background-color: #f0f8ff;}#sk-container-id-1 input.sk-toggleable__control:checked~div.sk-toggleable__content {max-height: 200px;max-width: 100%;overflow: auto;}#sk-container-id-1 input.sk-toggleable__control:checked~label.sk-toggleable__label-arrow:before {content: \"▾\";}#sk-container-id-1 div.sk-estimator input.sk-toggleable__control:checked~label.sk-toggleable__label {background-color: #d4ebff;}#sk-container-id-1 div.sk-label input.sk-toggleable__control:checked~label.sk-toggleable__label {background-color: #d4ebff;}#sk-container-id-1 input.sk-hidden--visually {border: 0;clip: rect(1px 1px 1px 1px);clip: rect(1px, 1px, 1px, 1px);height: 1px;margin: -1px;overflow: hidden;padding: 0;position: absolute;width: 1px;}#sk-container-id-1 div.sk-estimator {font-family: monospace;background-color: #f0f8ff;border: 1px dotted black;border-radius: 0.25em;box-sizing: border-box;margin-bottom: 0.5em;}#sk-container-id-1 div.sk-estimator:hover {background-color: #d4ebff;}#sk-container-id-1 div.sk-parallel-item::after {content: \"\";width: 100%;border-bottom: 1px solid gray;flex-grow: 1;}#sk-container-id-1 div.sk-label:hover label.sk-toggleable__label {background-color: #d4ebff;}#sk-container-id-1 div.sk-serial::before {content: \"\";position: absolute;border-left: 1px solid gray;box-sizing: border-box;top: 0;bottom: 0;left: 50%;z-index: 0;}#sk-container-id-1 div.sk-serial {display: flex;flex-direction: column;align-items: center;background-color: white;padding-right: 0.2em;padding-left: 0.2em;position: relative;}#sk-container-id-1 div.sk-item {position: relative;z-index: 1;}#sk-container-id-1 div.sk-parallel {display: flex;align-items: stretch;justify-content: center;background-color: white;position: relative;}#sk-container-id-1 div.sk-item::before, #sk-container-id-1 div.sk-parallel-item::before {content: \"\";position: absolute;border-left: 1px solid gray;box-sizing: border-box;top: 0;bottom: 0;left: 50%;z-index: -1;}#sk-container-id-1 div.sk-parallel-item {display: flex;flex-direction: column;z-index: 1;position: relative;background-color: white;}#sk-container-id-1 div.sk-parallel-item:first-child::after {align-self: flex-end;width: 50%;}#sk-container-id-1 div.sk-parallel-item:last-child::after {align-self: flex-start;width: 50%;}#sk-container-id-1 div.sk-parallel-item:only-child::after {width: 0;}#sk-container-id-1 div.sk-dashed-wrapped {border: 1px dashed gray;margin: 0 0.4em 0.5em 0.4em;box-sizing: border-box;padding-bottom: 0.4em;background-color: white;}#sk-container-id-1 div.sk-label label {font-family: monospace;font-weight: bold;display: inline-block;line-height: 1.2em;}#sk-container-id-1 div.sk-label-container {text-align: center;}#sk-container-id-1 div.sk-container {/* jupyter's `normalize.less` sets `[hidden] { display: none; }` but bootstrap.min.css set `[hidden] { display: none !important; }` so we also need the `!important` here to be able to override the default hidden behavior on the sphinx rendered scikit-learn.org. See: https://github.com/scikit-learn/scikit-learn/issues/21755 */display: inline-block !important;position: relative;}#sk-container-id-1 div.sk-text-repr-fallback {display: none;}</style><div id=\"sk-container-id-1\" class=\"sk-top-container\"><div class=\"sk-text-repr-fallback\"><pre>KMeans(n_clusters=2, random_state=1)</pre><b>In a Jupyter environment, please rerun this cell to show the HTML representation or trust the notebook. <br />On GitHub, the HTML representation is unable to render, please try loading this page with nbviewer.org.</b></div><div class=\"sk-container\" hidden><div class=\"sk-item\"><div class=\"sk-estimator sk-toggleable\"><input class=\"sk-toggleable__control sk-hidden--visually\" id=\"sk-estimator-id-1\" type=\"checkbox\" checked><label for=\"sk-estimator-id-1\" class=\"sk-toggleable__label sk-toggleable__label-arrow\">KMeans</label><div class=\"sk-toggleable__content\"><pre>KMeans(n_clusters=2, random_state=1)</pre></div></div></div></div></div>"
      ],
      "text/plain": [
       "KMeans(n_clusters=2, random_state=1)"
      ]
     },
     "execution_count": 11,
     "metadata": {},
     "output_type": "execute_result"
    }
   ],
   "source": [
    "# rule 1 - create k means cluster and store the result in the object k_means\n",
    "# randomely n_cluster =2\n",
    "from sklearn.cluster import KMeans\n",
    "k_means = KMeans(n_clusters=2, random_state=1)\n",
    "k_means.fit(scaled_x)"
   ]
  },
  {
   "cell_type": "code",
   "execution_count": 12,
   "id": "7be4e112",
   "metadata": {},
   "outputs": [
    {
     "data": {
      "text/plain": [
       "array([0, 1, 0, 1, 1, 0, 1, 0, 0, 0, 0, 0, 0, 1, 0, 0, 1, 1, 1, 0, 1, 1,\n",
       "       0, 0, 1, 0, 1, 1, 1, 0, 0, 1, 1, 1, 0, 0, 1, 0, 0, 1, 1, 0, 0, 0,\n",
       "       0, 1, 0, 0, 0, 0, 1, 0, 0, 0, 1, 0, 1, 0, 0, 0, 0, 0, 0, 0, 1, 1,\n",
       "       1, 1, 1, 0, 1, 0, 1, 1, 0, 0, 0, 1, 1, 0, 0, 1, 1, 1, 0, 0, 0, 1,\n",
       "       1, 0, 0, 0, 0, 1, 1, 1, 1, 0, 1, 0, 0, 1, 0, 1, 0, 1, 0, 0, 0, 0,\n",
       "       1, 1, 0, 0, 1, 1, 1, 0, 0, 0, 0, 1, 0, 0, 1, 1, 0, 1, 1, 0, 1, 0,\n",
       "       0, 0, 0, 1, 1, 1, 0, 0, 0, 0, 1, 0, 0, 1, 0, 0, 0, 0, 1, 0, 0, 0,\n",
       "       1, 1, 0, 1, 0, 1, 0, 0, 0, 0, 0, 1, 1, 1, 0, 1, 1, 0, 0, 0, 1, 0,\n",
       "       1, 0, 0, 1, 1, 1, 1, 1, 1, 1, 0, 1, 1, 1, 1, 1, 1, 1, 0, 1, 1, 1,\n",
       "       0, 0, 1, 0, 1, 1, 0, 1, 1, 1, 0, 0, 1, 0, 0, 1, 1, 0, 0, 1, 1, 0,\n",
       "       0, 1, 0, 0, 0, 1, 0, 0, 0, 0, 0, 1, 0, 0, 1, 0, 1, 1, 0, 0, 0, 0,\n",
       "       0, 0, 0, 0, 0, 1, 0, 1, 1, 0, 1, 0, 1, 1, 1, 1, 0, 0, 0, 1, 1, 1,\n",
       "       1, 0, 1, 1, 0, 0, 0, 1, 0, 0, 0, 0, 1, 0, 0, 0, 0, 0, 0, 0, 1, 0,\n",
       "       0, 0, 0, 1, 0, 0, 1, 1, 1, 1, 0, 1, 0, 0, 0, 0, 0, 1, 0, 0, 0, 1,\n",
       "       0, 1, 0, 1, 1, 1, 0, 1, 1, 0, 0, 0, 0, 1, 0, 0, 0, 0, 0, 1, 1, 1,\n",
       "       0, 0, 0, 0, 0, 0, 0, 0, 1, 1, 1, 1, 0, 1, 1, 0, 1, 0, 1, 1, 1, 1,\n",
       "       1, 0, 1, 1, 1, 0, 1, 0, 0, 1, 0, 1, 0, 0, 0, 0, 1, 1, 1, 0, 1, 1,\n",
       "       1, 0, 1, 0, 0, 1, 1, 0, 0, 0, 0, 1, 0, 1, 0, 0, 1, 1, 1, 0, 0, 1,\n",
       "       1, 0, 0, 1, 1, 1, 0, 1, 1, 0, 1, 1, 1, 1, 0, 0, 0, 1, 1, 1, 0, 1,\n",
       "       1, 1, 0, 0, 0, 0, 1, 0, 0, 0, 1, 0, 1, 1, 0, 1, 1, 0, 1, 1, 1, 0,\n",
       "       1, 1, 1, 1, 0, 0, 0, 1, 1, 1, 0, 1, 0, 1, 1, 0, 1, 0, 0, 0, 1, 1,\n",
       "       0, 0, 0, 1, 0, 0, 1, 1, 0, 1, 0, 1, 1, 1, 1, 1, 1, 0, 0, 0, 0, 0,\n",
       "       0, 0, 1, 0, 1, 0, 1, 0, 1, 1, 1, 1, 0, 0, 1, 1, 1, 0, 1, 0, 0, 1,\n",
       "       1, 0, 0, 1, 0, 1, 0, 1, 0])"
      ]
     },
     "execution_count": 12,
     "metadata": {},
     "output_type": "execute_result"
    }
   ],
   "source": [
    "k_means.labels_"
   ]
  },
  {
   "cell_type": "code",
   "execution_count": 13,
   "id": "daf86d7a",
   "metadata": {},
   "outputs": [
    {
     "data": {
      "text/plain": [
       "1943.3740862056477"
      ]
     },
     "execution_count": 13,
     "metadata": {},
     "output_type": "execute_result"
    }
   ],
   "source": [
    "# within cluster sum of square\n",
    "k_means.inertia_"
   ]
  },
  {
   "cell_type": "code",
   "execution_count": 14,
   "id": "7cf63ed3",
   "metadata": {},
   "outputs": [
    {
     "data": {
      "text/plain": [
       "2575.0000000000005"
      ]
     },
     "execution_count": 14,
     "metadata": {},
     "output_type": "execute_result"
    }
   ],
   "source": [
    "k_means = KMeans(n_clusters=1, random_state=1)\n",
    "k_means.fit(scaled_x)\n",
    "k_means.inertia_"
   ]
  },
  {
   "cell_type": "code",
   "execution_count": 15,
   "id": "9578e0a0",
   "metadata": {},
   "outputs": [
    {
     "data": {
      "text/plain": [
       "1593.970857719221"
      ]
     },
     "execution_count": 15,
     "metadata": {},
     "output_type": "execute_result"
    }
   ],
   "source": [
    "k_means = KMeans(n_clusters=3, random_state=1)\n",
    "k_means.fit(scaled_x)\n",
    "k_means.inertia_"
   ]
  },
  {
   "cell_type": "code",
   "execution_count": 16,
   "id": "f315b03b",
   "metadata": {},
   "outputs": [
    {
     "data": {
      "text/plain": [
       "1375.4932875022525"
      ]
     },
     "execution_count": 16,
     "metadata": {},
     "output_type": "execute_result"
    }
   ],
   "source": [
    "k_means = KMeans(n_clusters=4, random_state=1)\n",
    "k_means.fit(scaled_x)\n",
    "k_means.inertia_"
   ]
  },
  {
   "cell_type": "code",
   "execution_count": 17,
   "id": "fee407ad",
   "metadata": {},
   "outputs": [
    {
     "data": {
      "text/plain": [
       "1220.2742967592992"
      ]
     },
     "execution_count": 17,
     "metadata": {},
     "output_type": "execute_result"
    }
   ],
   "source": [
    "k_means = KMeans(n_clusters=5, random_state=1)\n",
    "k_means.fit(scaled_x)\n",
    "k_means.inertia_"
   ]
  },
  {
   "cell_type": "code",
   "execution_count": 18,
   "id": "03408ab2",
   "metadata": {},
   "outputs": [],
   "source": [
    "# Calculate WSS for other values of K - Elbow method\n",
    "# Elbor method will decide how many cluster is required"
   ]
  },
  {
   "cell_type": "code",
   "execution_count": 19,
   "id": "b0facca8",
   "metadata": {},
   "outputs": [],
   "source": [
    "wss = []\n",
    "\n",
    "for i in range(1,11):\n",
    "    KM = KMeans(n_clusters=i, random_state=1)\n",
    "    KM.fit(scaled_x)\n",
    "    wss.append(KM.inertia_)"
   ]
  },
  {
   "cell_type": "code",
   "execution_count": 20,
   "id": "6feba8d7",
   "metadata": {},
   "outputs": [
    {
     "data": {
      "text/plain": [
       "[2575.0000000000005,\n",
       " 1943.3740862056477,\n",
       " 1593.970857719221,\n",
       " 1375.4932875022525,\n",
       " 1220.2742967592992,\n",
       " 1115.743872395149,\n",
       " 1024.2940640357656,\n",
       " 945.039078113271,\n",
       " 886.3657321414202,\n",
       " 832.7774003606155]"
      ]
     },
     "execution_count": 20,
     "metadata": {},
     "output_type": "execute_result"
    }
   ],
   "source": [
    "wss"
   ]
  },
  {
   "cell_type": "code",
   "execution_count": 21,
   "id": "a983c4c5",
   "metadata": {},
   "outputs": [],
   "source": [
    "a = [1,2,3,4,5,6,7,8,9,10]"
   ]
  },
  {
   "cell_type": "code",
   "execution_count": 22,
   "id": "0015dc35",
   "metadata": {},
   "outputs": [
    {
     "data": {
      "text/plain": [
       "<AxesSubplot:>"
      ]
     },
     "execution_count": 22,
     "metadata": {},
     "output_type": "execute_result"
    },
    {
     "data": {
      "image/png": "[encoded data removed]",
      "text/plain": [
       "<Figure size 432x288 with 1 Axes>"
      ]
     },
     "metadata": {},
     "output_type": "display_data"
    }
   ],
   "source": [
    "sns.pointplot(a, wss)"
   ]
  },
  {
   "cell_type": "markdown",
   "id": "5457677c",
   "metadata": {},
   "source": [
    "# KMeans with K=3 or K=5"
   ]
  },
  {
   "cell_type": "code",
   "execution_count": 23,
   "id": "c7bcf7cb",
   "metadata": {},
   "outputs": [
    {
     "data": {
      "text/plain": [
       "array([4, 3, 1, 4, 4, 2, 3, 2, 1, 1, 2, 2, 1, 4, 0, 0, 2, 3, 2, 0, 3, 3,\n",
       "       2, 1, 3, 0, 4, 3, 4, 1, 1, 4, 4, 4, 0, 4, 2, 4, 1, 2, 3, 1, 0, 2,\n",
       "       2, 4, 1, 0, 2, 4, 3, 1, 4, 1, 3, 1, 2, 0, 4, 0, 0, 0, 0, 4, 2, 3,\n",
       "       4, 2, 3, 1, 2, 2, 3, 2, 0, 0, 0, 3, 4, 1, 1, 2, 0, 3, 0, 4, 1, 4,\n",
       "       3, 0, 0, 4, 1, 4, 4, 2, 2, 1, 3, 4, 4, 2, 0, 2, 1, 4, 4, 2, 1, 0,\n",
       "       4, 3, 0, 0, 2, 2, 0, 0, 0, 4, 0, 2, 4, 4, 4, 3, 0, 2, 0, 0, 3, 0,\n",
       "       0, 1, 1, 4, 3, 2, 1, 2, 4, 2, 0, 1, 1, 3, 1, 0, 1, 4, 3, 1, 1, 4,\n",
       "       2, 2, 0, 3, 2, 4, 2, 1, 4, 1, 1, 0, 3, 3, 1, 0, 3, 0, 0, 2, 2, 1,\n",
       "       3, 4, 1, 3, 3, 2, 2, 2, 4, 0, 1, 3, 0, 3, 4, 2, 2, 3, 2, 2, 3, 2,\n",
       "       4, 0, 3, 0, 0, 3, 1, 0, 2, 4, 4, 0, 0, 0, 0, 3, 0, 0, 4, 2, 0, 1,\n",
       "       1, 3, 0, 0, 1, 3, 4, 2, 1, 2, 4, 2, 4, 0, 3, 4, 4, 4, 4, 0, 1, 2,\n",
       "       1, 0, 2, 0, 4, 3, 4, 2, 2, 2, 2, 1, 0, 0, 3, 0, 4, 2, 1, 4, 0, 2,\n",
       "       2, 0, 3, 3, 1, 1, 0, 0, 4, 4, 2, 4, 2, 1, 1, 2, 4, 4, 4, 1, 4, 1,\n",
       "       4, 1, 1, 0, 0, 1, 0, 3, 0, 0, 1, 2, 4, 1, 1, 0, 0, 4, 4, 1, 1, 0,\n",
       "       0, 0, 1, 4, 2, 3, 0, 3, 3, 4, 1, 0, 0, 2, 0, 1, 2, 1, 2, 2, 3, 4,\n",
       "       1, 1, 2, 0, 1, 4, 0, 2, 3, 0, 2, 0, 1, 3, 3, 2, 4, 0, 2, 3, 2, 0,\n",
       "       3, 1, 2, 4, 0, 1, 3, 1, 1, 0, 1, 0, 0, 0, 0, 0, 2, 2, 3, 1, 0, 3,\n",
       "       2, 1, 0, 1, 1, 4, 2, 1, 1, 0, 0, 3, 0, 3, 1, 1, 0, 3, 2, 0, 1, 2,\n",
       "       3, 0, 1, 2, 2, 2, 1, 3, 2, 1, 2, 3, 0, 2, 4, 0, 1, 0, 3, 3, 0, 0,\n",
       "       2, 2, 2, 4, 1, 1, 0, 1, 1, 0, 3, 4, 2, 3, 2, 0, 0, 0, 2, 4, 0, 1,\n",
       "       2, 0, 0, 3, 1, 0, 0, 3, 2, 3, 4, 3, 0, 3, 0, 0, 3, 1, 1, 0, 3, 2,\n",
       "       4, 0, 1, 3, 1, 1, 0, 3, 0, 3, 2, 3, 3, 3, 4, 3, 3, 0, 0, 1, 1, 0,\n",
       "       1, 0, 4, 0, 2, 4, 2, 4, 0, 3, 3, 4, 1, 0, 3, 3, 3, 0, 2, 1, 2, 2,\n",
       "       3, 2, 2, 0, 1, 2, 0, 2, 1])"
      ]
     },
     "execution_count": 23,
     "metadata": {},
     "output_type": "execute_result"
    }
   ],
   "source": [
    "k_means = KMeans(n_clusters=5, random_state=1)\n",
    "k_means.fit(scaled_x)\n",
    "labels = k_means.labels_\n",
    "labels"
   ]
  },
  {
   "cell_type": "code",
   "execution_count": 24,
   "id": "68e17065",
   "metadata": {},
   "outputs": [],
   "source": [
    "# cluster evaluation for 5 cluster : the silhouette score\n",
    "\n",
    "from sklearn.metrics import silhouette_samples, silhouette_score"
   ]
  },
  {
   "cell_type": "code",
   "execution_count": 25,
   "id": "9e1e152d",
   "metadata": {},
   "outputs": [
    {
     "data": {
      "text/plain": [
       "0.2300408199578604"
      ]
     },
     "execution_count": 25,
     "metadata": {},
     "output_type": "execute_result"
    }
   ],
   "source": [
    "silhouette_score(scaled_x, labels, random_state=1)"
   ]
  },
  {
   "cell_type": "code",
   "execution_count": 26,
   "id": "e47d7726",
   "metadata": {},
   "outputs": [
    {
     "data": {
      "text/plain": [
       "array([2, 1, 2, 0, 1, 2, 1, 0, 2, 2, 2, 2, 2, 0, 0, 0, 1, 0, 1, 0, 1, 1,\n",
       "       2, 2, 0, 0, 1, 1, 1, 2, 2, 1, 1, 1, 0, 2, 1, 2, 2, 1, 1, 2, 0, 2,\n",
       "       2, 1, 2, 0, 2, 2, 1, 2, 2, 2, 1, 2, 1, 0, 2, 0, 0, 0, 0, 2, 1, 1,\n",
       "       1, 1, 1, 2, 1, 2, 1, 1, 2, 0, 0, 1, 0, 2, 2, 1, 0, 0, 2, 2, 2, 1,\n",
       "       1, 0, 0, 2, 2, 1, 1, 1, 1, 2, 1, 2, 1, 1, 0, 1, 2, 1, 2, 2, 2, 0,\n",
       "       1, 1, 0, 0, 1, 1, 0, 0, 0, 2, 0, 1, 2, 2, 1, 1, 0, 1, 0, 0, 1, 0,\n",
       "       0, 2, 2, 1, 1, 1, 2, 2, 2, 0, 0, 2, 2, 1, 2, 0, 2, 2, 1, 2, 2, 2,\n",
       "       1, 1, 0, 0, 2, 1, 2, 2, 2, 2, 2, 0, 1, 1, 2, 0, 0, 0, 0, 2, 1, 2,\n",
       "       1, 2, 2, 1, 1, 1, 1, 1, 1, 0, 2, 1, 0, 1, 1, 1, 0, 0, 2, 1, 1, 1,\n",
       "       2, 0, 1, 0, 0, 1, 2, 0, 1, 1, 2, 0, 0, 0, 0, 1, 0, 0, 2, 1, 0, 2,\n",
       "       2, 0, 0, 0, 2, 1, 2, 2, 2, 0, 2, 1, 2, 0, 1, 2, 1, 1, 1, 0, 2, 2,\n",
       "       2, 0, 2, 0, 2, 1, 2, 1, 1, 2, 1, 2, 0, 0, 1, 0, 2, 2, 2, 1, 0, 1,\n",
       "       1, 0, 1, 1, 2, 2, 0, 0, 2, 1, 2, 2, 1, 2, 2, 2, 2, 2, 2, 2, 1, 2,\n",
       "       2, 2, 2, 0, 0, 2, 0, 1, 0, 0, 2, 1, 2, 2, 2, 0, 0, 1, 2, 2, 2, 0,\n",
       "       0, 0, 2, 1, 1, 1, 0, 1, 1, 2, 2, 0, 0, 1, 0, 2, 0, 2, 0, 1, 1, 0,\n",
       "       2, 2, 2, 0, 2, 0, 0, 2, 1, 0, 1, 0, 2, 1, 1, 2, 1, 2, 1, 1, 1, 0,\n",
       "       1, 2, 1, 1, 0, 2, 1, 2, 2, 0, 2, 0, 2, 2, 0, 2, 1, 1, 1, 2, 0, 1,\n",
       "       1, 2, 0, 2, 2, 1, 1, 2, 2, 0, 0, 1, 0, 1, 2, 2, 0, 1, 1, 0, 2, 1,\n",
       "       1, 0, 2, 1, 1, 1, 2, 1, 1, 2, 1, 1, 0, 1, 2, 0, 2, 0, 1, 0, 0, 0,\n",
       "       1, 1, 2, 2, 2, 2, 0, 2, 2, 0, 0, 2, 1, 1, 2, 0, 0, 0, 1, 1, 0, 2,\n",
       "       1, 0, 0, 1, 2, 0, 0, 1, 1, 1, 2, 0, 0, 1, 0, 0, 1, 2, 2, 0, 0, 1,\n",
       "       2, 0, 2, 1, 2, 2, 0, 1, 0, 0, 0, 1, 1, 0, 0, 1, 1, 0, 0, 2, 2, 0,\n",
       "       2, 0, 0, 0, 1, 2, 1, 1, 0, 1, 1, 0, 2, 0, 1, 1, 1, 0, 1, 2, 2, 1,\n",
       "       1, 2, 2, 0, 2, 1, 0, 1, 2])"
      ]
     },
     "execution_count": 26,
     "metadata": {},
     "output_type": "execute_result"
    }
   ],
   "source": [
    "k_means = KMeans(n_clusters=3, random_state=1)\n",
    "k_means.fit(scaled_x)\n",
    "labels = k_means.labels_\n",
    "labels"
   ]
  },
  {
   "cell_type": "code",
   "execution_count": 27,
   "id": "0d73976e",
   "metadata": {},
   "outputs": [
    {
     "data": {
      "text/plain": [
       "0.218819843712231"
      ]
     },
     "execution_count": 27,
     "metadata": {},
     "output_type": "execute_result"
    }
   ],
   "source": [
    "silhouette_score(scaled_x, labels, random_state=1)"
   ]
  },
  {
   "cell_type": "code",
   "execution_count": 28,
   "id": "90215893",
   "metadata": {},
   "outputs": [
    {
     "data": {
      "text/html": [
       "<div>\n",
       "<style scoped>\n",
       "    .dataframe tbody tr th:only-of-type {\n",
       "        vertical-align: middle;\n",
       "    }\n",
       "\n",
       "    .dataframe tbody tr th {\n",
       "        vertical-align: top;\n",
       "    }\n",
       "\n",
       "    .dataframe thead th {\n",
       "        text-align: right;\n",
       "    }\n",
       "</style>\n",
       "<table border=\"1\" class=\"dataframe\">\n",
       "  <thead>\n",
       "    <tr style=\"text-align: right;\">\n",
       "      <th></th>\n",
       "      <th>Bank</th>\n",
       "      <th>DD</th>\n",
       "      <th>Withdrawals</th>\n",
       "      <th>Deposits</th>\n",
       "      <th>Branch Area in sqft</th>\n",
       "      <th>avg daily walkins</th>\n",
       "      <th>cluster_kmeans_5</th>\n",
       "    </tr>\n",
       "  </thead>\n",
       "  <tbody>\n",
       "    <tr>\n",
       "      <th>0</th>\n",
       "      <td>1</td>\n",
       "      <td>227</td>\n",
       "      <td>147</td>\n",
       "      <td>111</td>\n",
       "      <td>2460</td>\n",
       "      <td>639</td>\n",
       "      <td>2</td>\n",
       "    </tr>\n",
       "    <tr>\n",
       "      <th>1</th>\n",
       "      <td>2</td>\n",
       "      <td>123</td>\n",
       "      <td>86</td>\n",
       "      <td>65</td>\n",
       "      <td>3510</td>\n",
       "      <td>436</td>\n",
       "      <td>1</td>\n",
       "    </tr>\n",
       "    <tr>\n",
       "      <th>2</th>\n",
       "      <td>3</td>\n",
       "      <td>306</td>\n",
       "      <td>149</td>\n",
       "      <td>76</td>\n",
       "      <td>2570</td>\n",
       "      <td>669</td>\n",
       "      <td>2</td>\n",
       "    </tr>\n",
       "    <tr>\n",
       "      <th>3</th>\n",
       "      <td>4</td>\n",
       "      <td>251</td>\n",
       "      <td>112</td>\n",
       "      <td>129</td>\n",
       "      <td>3650</td>\n",
       "      <td>623</td>\n",
       "      <td>0</td>\n",
       "    </tr>\n",
       "    <tr>\n",
       "      <th>4</th>\n",
       "      <td>5</td>\n",
       "      <td>174</td>\n",
       "      <td>135</td>\n",
       "      <td>128</td>\n",
       "      <td>3400</td>\n",
       "      <td>579</td>\n",
       "      <td>1</td>\n",
       "    </tr>\n",
       "  </tbody>\n",
       "</table>\n",
       "</div>"
      ],
      "text/plain": [
       "   Bank   DD  Withdrawals  Deposits  Branch Area in sqft  avg daily walkins  \\\n",
       "0     1  227          147       111                 2460                639   \n",
       "1     2  123           86        65                 3510                436   \n",
       "2     3  306          149        76                 2570                669   \n",
       "3     4  251          112       129                 3650                623   \n",
       "4     5  174          135       128                 3400                579   \n",
       "\n",
       "   cluster_kmeans_5  \n",
       "0                 2  \n",
       "1                 1  \n",
       "2                 2  \n",
       "3                 0  \n",
       "4                 1  "
      ]
     },
     "execution_count": 28,
     "metadata": {},
     "output_type": "execute_result"
    }
   ],
   "source": [
    "data_df['cluster_kmeans_5'] = labels\n",
    "data_df.head()"
   ]
  },
  {
   "cell_type": "code",
   "execution_count": 29,
   "id": "326d6df1",
   "metadata": {},
   "outputs": [
    {
     "data": {
      "text/plain": [
       "0    154\n",
       "1    178\n",
       "2    183\n",
       "Name: cluster_kmeans_5, dtype: int64"
      ]
     },
     "execution_count": 29,
     "metadata": {},
     "output_type": "execute_result"
    }
   ],
   "source": [
    "data_df['cluster_kmeans_5'].value_counts().sort_index()"
   ]
  },
  {
   "cell_type": "code",
   "execution_count": 30,
   "id": "15f9d274",
   "metadata": {},
   "outputs": [
    {
     "data": {
      "text/html": [
       "<div>\n",
       "<style scoped>\n",
       "    .dataframe tbody tr th:only-of-type {\n",
       "        vertical-align: middle;\n",
       "    }\n",
       "\n",
       "    .dataframe tbody tr th {\n",
       "        vertical-align: top;\n",
       "    }\n",
       "\n",
       "    .dataframe thead th {\n",
       "        text-align: right;\n",
       "    }\n",
       "</style>\n",
       "<table border=\"1\" class=\"dataframe\">\n",
       "  <thead>\n",
       "    <tr style=\"text-align: right;\">\n",
       "      <th></th>\n",
       "      <th>DD</th>\n",
       "      <th>Withdrawals</th>\n",
       "      <th>Deposits</th>\n",
       "      <th>Branch Area in sqft</th>\n",
       "      <th>avg daily walkins</th>\n",
       "      <th>frequency</th>\n",
       "    </tr>\n",
       "    <tr>\n",
       "      <th>cluster_kmeans_5</th>\n",
       "      <th></th>\n",
       "      <th></th>\n",
       "      <th></th>\n",
       "      <th></th>\n",
       "      <th></th>\n",
       "      <th></th>\n",
       "    </tr>\n",
       "  </thead>\n",
       "  <tbody>\n",
       "    <tr>\n",
       "      <th>0</th>\n",
       "      <td>286.032468</td>\n",
       "      <td>103.038961</td>\n",
       "      <td>75.564935</td>\n",
       "      <td>3115.389610</td>\n",
       "      <td>596.428571</td>\n",
       "      <td>154</td>\n",
       "    </tr>\n",
       "    <tr>\n",
       "      <th>1</th>\n",
       "      <td>159.730337</td>\n",
       "      <td>144.213483</td>\n",
       "      <td>80.921348</td>\n",
       "      <td>3013.960674</td>\n",
       "      <td>520.825843</td>\n",
       "      <td>178</td>\n",
       "    </tr>\n",
       "    <tr>\n",
       "      <th>2</th>\n",
       "      <td>257.535519</td>\n",
       "      <td>197.098361</td>\n",
       "      <td>87.584699</td>\n",
       "      <td>2705.464481</td>\n",
       "      <td>676.087432</td>\n",
       "      <td>183</td>\n",
       "    </tr>\n",
       "  </tbody>\n",
       "</table>\n",
       "</div>"
      ],
      "text/plain": [
       "                          DD  Withdrawals   Deposits  Branch Area in sqft  \\\n",
       "cluster_kmeans_5                                                            \n",
       "0                 286.032468   103.038961  75.564935          3115.389610   \n",
       "1                 159.730337   144.213483  80.921348          3013.960674   \n",
       "2                 257.535519   197.098361  87.584699          2705.464481   \n",
       "\n",
       "                  avg daily walkins  frequency  \n",
       "cluster_kmeans_5                                \n",
       "0                        596.428571        154  \n",
       "1                        520.825843        178  \n",
       "2                        676.087432        183  "
      ]
     },
     "execution_count": 30,
     "metadata": {},
     "output_type": "execute_result"
    }
   ],
   "source": [
    "clust_profile = data_df.drop(['Bank'], axis=1)\n",
    "clust_profile = clust_profile.groupby('cluster_kmeans_5').mean()\n",
    "clust_profile['frequency'] = data_df['cluster_kmeans_5'].value_counts().sort_index()\n",
    "clust_profile"
   ]
  },
  {
   "cell_type": "code",
   "execution_count": 31,
   "id": "fef1bd5f",
   "metadata": {},
   "outputs": [],
   "source": [
    "clust_profile.to_csv('bank_cluster_details.csv')"
   ]
  },
  {
   "cell_type": "code",
   "execution_count": 32,
   "id": "e3b6bee0",
   "metadata": {},
   "outputs": [],
   "source": [
    "data_df.to_csv('final_datapoint.csv')"
   ]
  },
  {
   "cell_type": "code",
   "execution_count": null,
   "id": "af095c4b",
   "metadata": {},
   "outputs": [],
   "source": []
  },
  {
   "cell_type": "markdown",
   "id": "2ba31ac7",
   "metadata": {},
   "source": [
    "# Mall Customer Dataset"
   ]
  },
  {
   "cell_type": "code",
   "execution_count": 33,
   "id": "72673cb9",
   "metadata": {},
   "outputs": [
    {
     "data": {
      "text/plain": [
       "'C:\\\\Users\\\\MANEE\\\\Documents\\\\Machine learning\\\\Cluster_Unsupervised'"
      ]
     },
     "execution_count": 33,
     "metadata": {},
     "output_type": "execute_result"
    }
   ],
   "source": [
    "import numpy as np\n",
    "import pandas as pd\n",
    "import seaborn as sns\n",
    "import matplotlib.pyplot as plt\n",
    "%matplotlib inline\n",
    "sns.set()\n",
    "import warnings\n",
    "warnings.filterwarnings('ignore')\n",
    "import os\n",
    "os.getcwd()"
   ]
  },
  {
   "cell_type": "code",
   "execution_count": 34,
   "id": "47745b69",
   "metadata": {},
   "outputs": [
    {
     "data": {
      "text/html": [
       "<div>\n",
       "<style scoped>\n",
       "    .dataframe tbody tr th:only-of-type {\n",
       "        vertical-align: middle;\n",
       "    }\n",
       "\n",
       "    .dataframe tbody tr th {\n",
       "        vertical-align: top;\n",
       "    }\n",
       "\n",
       "    .dataframe thead th {\n",
       "        text-align: right;\n",
       "    }\n",
       "</style>\n",
       "<table border=\"1\" class=\"dataframe\">\n",
       "  <thead>\n",
       "    <tr style=\"text-align: right;\">\n",
       "      <th></th>\n",
       "      <th>CustomerID</th>\n",
       "      <th>Gender</th>\n",
       "      <th>Age</th>\n",
       "      <th>Annual Income (k$)</th>\n",
       "      <th>Spending Score (1-100)</th>\n",
       "    </tr>\n",
       "  </thead>\n",
       "  <tbody>\n",
       "    <tr>\n",
       "      <th>0</th>\n",
       "      <td>1</td>\n",
       "      <td>Male</td>\n",
       "      <td>19</td>\n",
       "      <td>15</td>\n",
       "      <td>39</td>\n",
       "    </tr>\n",
       "    <tr>\n",
       "      <th>1</th>\n",
       "      <td>2</td>\n",
       "      <td>Male</td>\n",
       "      <td>21</td>\n",
       "      <td>15</td>\n",
       "      <td>81</td>\n",
       "    </tr>\n",
       "    <tr>\n",
       "      <th>2</th>\n",
       "      <td>3</td>\n",
       "      <td>Female</td>\n",
       "      <td>20</td>\n",
       "      <td>16</td>\n",
       "      <td>6</td>\n",
       "    </tr>\n",
       "    <tr>\n",
       "      <th>3</th>\n",
       "      <td>4</td>\n",
       "      <td>Female</td>\n",
       "      <td>23</td>\n",
       "      <td>16</td>\n",
       "      <td>77</td>\n",
       "    </tr>\n",
       "    <tr>\n",
       "      <th>4</th>\n",
       "      <td>5</td>\n",
       "      <td>Female</td>\n",
       "      <td>31</td>\n",
       "      <td>17</td>\n",
       "      <td>40</td>\n",
       "    </tr>\n",
       "  </tbody>\n",
       "</table>\n",
       "</div>"
      ],
      "text/plain": [
       "   CustomerID  Gender  Age  Annual Income (k$)  Spending Score (1-100)\n",
       "0           1    Male   19                  15                      39\n",
       "1           2    Male   21                  15                      81\n",
       "2           3  Female   20                  16                       6\n",
       "3           4  Female   23                  16                      77\n",
       "4           5  Female   31                  17                      40"
      ]
     },
     "execution_count": 34,
     "metadata": {},
     "output_type": "execute_result"
    }
   ],
   "source": [
    "mydata = pd.read_csv('Mall_Customers.csv')\n",
    "mydata.head()"
   ]
  },
  {
   "cell_type": "code",
   "execution_count": 35,
   "id": "81a94975",
   "metadata": {},
   "outputs": [
    {
     "data": {
      "text/plain": [
       "array([[ 15,  39],\n",
       "       [ 15,  81],\n",
       "       [ 16,   6],\n",
       "       [ 16,  77],\n",
       "       [ 17,  40],\n",
       "       [ 17,  76],\n",
       "       [ 18,   6],\n",
       "       [ 18,  94],\n",
       "       [ 19,   3],\n",
       "       [ 19,  72],\n",
       "       [ 19,  14],\n",
       "       [ 19,  99],\n",
       "       [ 20,  15],\n",
       "       [ 20,  77],\n",
       "       [ 20,  13],\n",
       "       [ 20,  79],\n",
       "       [ 21,  35],\n",
       "       [ 21,  66],\n",
       "       [ 23,  29],\n",
       "       [ 23,  98],\n",
       "       [ 24,  35],\n",
       "       [ 24,  73],\n",
       "       [ 25,   5],\n",
       "       [ 25,  73],\n",
       "       [ 28,  14],\n",
       "       [ 28,  82],\n",
       "       [ 28,  32],\n",
       "       [ 28,  61],\n",
       "       [ 29,  31],\n",
       "       [ 29,  87],\n",
       "       [ 30,   4],\n",
       "       [ 30,  73],\n",
       "       [ 33,   4],\n",
       "       [ 33,  92],\n",
       "       [ 33,  14],\n",
       "       [ 33,  81],\n",
       "       [ 34,  17],\n",
       "       [ 34,  73],\n",
       "       [ 37,  26],\n",
       "       [ 37,  75],\n",
       "       [ 38,  35],\n",
       "       [ 38,  92],\n",
       "       [ 39,  36],\n",
       "       [ 39,  61],\n",
       "       [ 39,  28],\n",
       "       [ 39,  65],\n",
       "       [ 40,  55],\n",
       "       [ 40,  47],\n",
       "       [ 40,  42],\n",
       "       [ 40,  42],\n",
       "       [ 42,  52],\n",
       "       [ 42,  60],\n",
       "       [ 43,  54],\n",
       "       [ 43,  60],\n",
       "       [ 43,  45],\n",
       "       [ 43,  41],\n",
       "       [ 44,  50],\n",
       "       [ 44,  46],\n",
       "       [ 46,  51],\n",
       "       [ 46,  46],\n",
       "       [ 46,  56],\n",
       "       [ 46,  55],\n",
       "       [ 47,  52],\n",
       "       [ 47,  59],\n",
       "       [ 48,  51],\n",
       "       [ 48,  59],\n",
       "       [ 48,  50],\n",
       "       [ 48,  48],\n",
       "       [ 48,  59],\n",
       "       [ 48,  47],\n",
       "       [ 49,  55],\n",
       "       [ 49,  42],\n",
       "       [ 50,  49],\n",
       "       [ 50,  56],\n",
       "       [ 54,  47],\n",
       "       [ 54,  54],\n",
       "       [ 54,  53],\n",
       "       [ 54,  48],\n",
       "       [ 54,  52],\n",
       "       [ 54,  42],\n",
       "       [ 54,  51],\n",
       "       [ 54,  55],\n",
       "       [ 54,  41],\n",
       "       [ 54,  44],\n",
       "       [ 54,  57],\n",
       "       [ 54,  46],\n",
       "       [ 57,  58],\n",
       "       [ 57,  55],\n",
       "       [ 58,  60],\n",
       "       [ 58,  46],\n",
       "       [ 59,  55],\n",
       "       [ 59,  41],\n",
       "       [ 60,  49],\n",
       "       [ 60,  40],\n",
       "       [ 60,  42],\n",
       "       [ 60,  52],\n",
       "       [ 60,  47],\n",
       "       [ 60,  50],\n",
       "       [ 61,  42],\n",
       "       [ 61,  49],\n",
       "       [ 62,  41],\n",
       "       [ 62,  48],\n",
       "       [ 62,  59],\n",
       "       [ 62,  55],\n",
       "       [ 62,  56],\n",
       "       [ 62,  42],\n",
       "       [ 63,  50],\n",
       "       [ 63,  46],\n",
       "       [ 63,  43],\n",
       "       [ 63,  48],\n",
       "       [ 63,  52],\n",
       "       [ 63,  54],\n",
       "       [ 64,  42],\n",
       "       [ 64,  46],\n",
       "       [ 65,  48],\n",
       "       [ 65,  50],\n",
       "       [ 65,  43],\n",
       "       [ 65,  59],\n",
       "       [ 67,  43],\n",
       "       [ 67,  57],\n",
       "       [ 67,  56],\n",
       "       [ 67,  40],\n",
       "       [ 69,  58],\n",
       "       [ 69,  91],\n",
       "       [ 70,  29],\n",
       "       [ 70,  77],\n",
       "       [ 71,  35],\n",
       "       [ 71,  95],\n",
       "       [ 71,  11],\n",
       "       [ 71,  75],\n",
       "       [ 71,   9],\n",
       "       [ 71,  75],\n",
       "       [ 72,  34],\n",
       "       [ 72,  71],\n",
       "       [ 73,   5],\n",
       "       [ 73,  88],\n",
       "       [ 73,   7],\n",
       "       [ 73,  73],\n",
       "       [ 74,  10],\n",
       "       [ 74,  72],\n",
       "       [ 75,   5],\n",
       "       [ 75,  93],\n",
       "       [ 76,  40],\n",
       "       [ 76,  87],\n",
       "       [ 77,  12],\n",
       "       [ 77,  97],\n",
       "       [ 77,  36],\n",
       "       [ 77,  74],\n",
       "       [ 78,  22],\n",
       "       [ 78,  90],\n",
       "       [ 78,  17],\n",
       "       [ 78,  88],\n",
       "       [ 78,  20],\n",
       "       [ 78,  76],\n",
       "       [ 78,  16],\n",
       "       [ 78,  89],\n",
       "       [ 78,   1],\n",
       "       [ 78,  78],\n",
       "       [ 78,   1],\n",
       "       [ 78,  73],\n",
       "       [ 79,  35],\n",
       "       [ 79,  83],\n",
       "       [ 81,   5],\n",
       "       [ 81,  93],\n",
       "       [ 85,  26],\n",
       "       [ 85,  75],\n",
       "       [ 86,  20],\n",
       "       [ 86,  95],\n",
       "       [ 87,  27],\n",
       "       [ 87,  63],\n",
       "       [ 87,  13],\n",
       "       [ 87,  75],\n",
       "       [ 87,  10],\n",
       "       [ 87,  92],\n",
       "       [ 88,  13],\n",
       "       [ 88,  86],\n",
       "       [ 88,  15],\n",
       "       [ 88,  69],\n",
       "       [ 93,  14],\n",
       "       [ 93,  90],\n",
       "       [ 97,  32],\n",
       "       [ 97,  86],\n",
       "       [ 98,  15],\n",
       "       [ 98,  88],\n",
       "       [ 99,  39],\n",
       "       [ 99,  97],\n",
       "       [101,  24],\n",
       "       [101,  68],\n",
       "       [103,  17],\n",
       "       [103,  85],\n",
       "       [103,  23],\n",
       "       [103,  69],\n",
       "       [113,   8],\n",
       "       [113,  91],\n",
       "       [120,  16],\n",
       "       [120,  79],\n",
       "       [126,  28],\n",
       "       [126,  74],\n",
       "       [137,  18],\n",
       "       [137,  83]], dtype=int64)"
      ]
     },
     "execution_count": 35,
     "metadata": {},
     "output_type": "execute_result"
    }
   ],
   "source": [
    "x = mydata.iloc[:,3:].values\n",
    "x"
   ]
  },
  {
   "cell_type": "code",
   "execution_count": 36,
   "id": "646feff3",
   "metadata": {},
   "outputs": [],
   "source": [
    "from sklearn.cluster import KMeans"
   ]
  },
  {
   "cell_type": "code",
   "execution_count": 37,
   "id": "af4ba7c1",
   "metadata": {},
   "outputs": [
    {
     "data": {
      "text/plain": [
       "CustomerID                0\n",
       "Gender                    0\n",
       "Age                       0\n",
       "Annual Income (k$)        0\n",
       "Spending Score (1-100)    0\n",
       "dtype: int64"
      ]
     },
     "execution_count": 37,
     "metadata": {},
     "output_type": "execute_result"
    }
   ],
   "source": [
    "mydata.isnull().sum()"
   ]
  },
  {
   "cell_type": "code",
   "execution_count": 38,
   "id": "dc8aba70",
   "metadata": {},
   "outputs": [
    {
     "data": {
      "text/plain": [
       "0    0\n",
       "1    0\n",
       "dtype: int64"
      ]
     },
     "execution_count": 38,
     "metadata": {},
     "output_type": "execute_result"
    }
   ],
   "source": [
    "pd.DataFrame(x).isnull().sum()"
   ]
  },
  {
   "cell_type": "code",
   "execution_count": 39,
   "id": "ed3de533",
   "metadata": {},
   "outputs": [],
   "source": [
    "kmeans = KMeans(n_clusters=5, init='k-means++')\n",
    "y_kmeans = kmeans.fit_predict(x)"
   ]
  },
  {
   "cell_type": "code",
   "execution_count": 40,
   "id": "8897b2cd",
   "metadata": {},
   "outputs": [
    {
     "data": {
      "text/plain": [
       "array([1, 3, 1, 3, 1, 3, 1, 3, 1, 3, 1, 3, 1, 3, 1, 3, 1, 3, 1, 3, 1, 3,\n",
       "       1, 3, 1, 3, 1, 3, 1, 3, 1, 3, 1, 3, 1, 3, 1, 3, 1, 3, 1, 3, 1, 0,\n",
       "       1, 3, 0, 0, 0, 0, 0, 0, 0, 0, 0, 0, 0, 0, 0, 0, 0, 0, 0, 0, 0, 0,\n",
       "       0, 0, 0, 0, 0, 0, 0, 0, 0, 0, 0, 0, 0, 0, 0, 0, 0, 0, 0, 0, 0, 0,\n",
       "       0, 0, 0, 0, 0, 0, 0, 0, 0, 0, 0, 0, 0, 0, 0, 0, 0, 0, 0, 0, 0, 0,\n",
       "       0, 0, 0, 0, 0, 0, 0, 0, 0, 0, 0, 0, 0, 4, 2, 4, 0, 4, 2, 4, 2, 4,\n",
       "       0, 4, 2, 4, 2, 4, 2, 4, 2, 4, 0, 4, 2, 4, 2, 4, 2, 4, 2, 4, 2, 4,\n",
       "       2, 4, 2, 4, 2, 4, 2, 4, 2, 4, 2, 4, 2, 4, 2, 4, 2, 4, 2, 4, 2, 4,\n",
       "       2, 4, 2, 4, 2, 4, 2, 4, 2, 4, 2, 4, 2, 4, 2, 4, 2, 4, 2, 4, 2, 4,\n",
       "       2, 4])"
      ]
     },
     "execution_count": 40,
     "metadata": {},
     "output_type": "execute_result"
    }
   ],
   "source": [
    "y_kmeans"
   ]
  },
  {
   "cell_type": "code",
   "execution_count": 41,
   "id": "0becd807",
   "metadata": {},
   "outputs": [
    {
     "data": {
      "text/html": [
       "<div>\n",
       "<style scoped>\n",
       "    .dataframe tbody tr th:only-of-type {\n",
       "        vertical-align: middle;\n",
       "    }\n",
       "\n",
       "    .dataframe tbody tr th {\n",
       "        vertical-align: top;\n",
       "    }\n",
       "\n",
       "    .dataframe thead th {\n",
       "        text-align: right;\n",
       "    }\n",
       "</style>\n",
       "<table border=\"1\" class=\"dataframe\">\n",
       "  <thead>\n",
       "    <tr style=\"text-align: right;\">\n",
       "      <th></th>\n",
       "      <th>CustomerID</th>\n",
       "      <th>Gender</th>\n",
       "      <th>Age</th>\n",
       "      <th>Annual Income (k$)</th>\n",
       "      <th>Spending Score (1-100)</th>\n",
       "      <th>0</th>\n",
       "    </tr>\n",
       "  </thead>\n",
       "  <tbody>\n",
       "    <tr>\n",
       "      <th>0</th>\n",
       "      <td>1</td>\n",
       "      <td>Male</td>\n",
       "      <td>19</td>\n",
       "      <td>15</td>\n",
       "      <td>39</td>\n",
       "      <td>1</td>\n",
       "    </tr>\n",
       "    <tr>\n",
       "      <th>1</th>\n",
       "      <td>2</td>\n",
       "      <td>Male</td>\n",
       "      <td>21</td>\n",
       "      <td>15</td>\n",
       "      <td>81</td>\n",
       "      <td>3</td>\n",
       "    </tr>\n",
       "    <tr>\n",
       "      <th>2</th>\n",
       "      <td>3</td>\n",
       "      <td>Female</td>\n",
       "      <td>20</td>\n",
       "      <td>16</td>\n",
       "      <td>6</td>\n",
       "      <td>1</td>\n",
       "    </tr>\n",
       "    <tr>\n",
       "      <th>3</th>\n",
       "      <td>4</td>\n",
       "      <td>Female</td>\n",
       "      <td>23</td>\n",
       "      <td>16</td>\n",
       "      <td>77</td>\n",
       "      <td>3</td>\n",
       "    </tr>\n",
       "    <tr>\n",
       "      <th>4</th>\n",
       "      <td>5</td>\n",
       "      <td>Female</td>\n",
       "      <td>31</td>\n",
       "      <td>17</td>\n",
       "      <td>40</td>\n",
       "      <td>1</td>\n",
       "    </tr>\n",
       "    <tr>\n",
       "      <th>...</th>\n",
       "      <td>...</td>\n",
       "      <td>...</td>\n",
       "      <td>...</td>\n",
       "      <td>...</td>\n",
       "      <td>...</td>\n",
       "      <td>...</td>\n",
       "    </tr>\n",
       "    <tr>\n",
       "      <th>195</th>\n",
       "      <td>196</td>\n",
       "      <td>Female</td>\n",
       "      <td>35</td>\n",
       "      <td>120</td>\n",
       "      <td>79</td>\n",
       "      <td>4</td>\n",
       "    </tr>\n",
       "    <tr>\n",
       "      <th>196</th>\n",
       "      <td>197</td>\n",
       "      <td>Female</td>\n",
       "      <td>45</td>\n",
       "      <td>126</td>\n",
       "      <td>28</td>\n",
       "      <td>2</td>\n",
       "    </tr>\n",
       "    <tr>\n",
       "      <th>197</th>\n",
       "      <td>198</td>\n",
       "      <td>Male</td>\n",
       "      <td>32</td>\n",
       "      <td>126</td>\n",
       "      <td>74</td>\n",
       "      <td>4</td>\n",
       "    </tr>\n",
       "    <tr>\n",
       "      <th>198</th>\n",
       "      <td>199</td>\n",
       "      <td>Male</td>\n",
       "      <td>32</td>\n",
       "      <td>137</td>\n",
       "      <td>18</td>\n",
       "      <td>2</td>\n",
       "    </tr>\n",
       "    <tr>\n",
       "      <th>199</th>\n",
       "      <td>200</td>\n",
       "      <td>Male</td>\n",
       "      <td>30</td>\n",
       "      <td>137</td>\n",
       "      <td>83</td>\n",
       "      <td>4</td>\n",
       "    </tr>\n",
       "  </tbody>\n",
       "</table>\n",
       "<p>200 rows × 6 columns</p>\n",
       "</div>"
      ],
      "text/plain": [
       "     CustomerID  Gender  Age  Annual Income (k$)  Spending Score (1-100)  0\n",
       "0             1    Male   19                  15                      39  1\n",
       "1             2    Male   21                  15                      81  3\n",
       "2             3  Female   20                  16                       6  1\n",
       "3             4  Female   23                  16                      77  3\n",
       "4             5  Female   31                  17                      40  1\n",
       "..          ...     ...  ...                 ...                     ... ..\n",
       "195         196  Female   35                 120                      79  4\n",
       "196         197  Female   45                 126                      28  2\n",
       "197         198    Male   32                 126                      74  4\n",
       "198         199    Male   32                 137                      18  2\n",
       "199         200    Male   30                 137                      83  4\n",
       "\n",
       "[200 rows x 6 columns]"
      ]
     },
     "execution_count": 41,
     "metadata": {},
     "output_type": "execute_result"
    }
   ],
   "source": [
    "combind = pd.concat([mydata, pd.DataFrame(y_kmeans)], axis=1)\n",
    "combind"
   ]
  },
  {
   "cell_type": "code",
   "execution_count": 42,
   "id": "e0b66c49",
   "metadata": {},
   "outputs": [
    {
     "data": {
      "text/plain": [
       "<matplotlib.collections.PathCollection at 0x1f3175aeb20>"
      ]
     },
     "execution_count": 42,
     "metadata": {},
     "output_type": "execute_result"
    },
    {
     "data": {
      "image/png": "[encoded data removed]",
      "text/plain": [
       "<Figure size 432x288 with 1 Axes>"
      ]
     },
     "metadata": {},
     "output_type": "display_data"
    }
   ],
   "source": [
    "plt.scatter(x[y_kmeans==0,0], x[y_kmeans==0,1], s=100, c ='red', label='Cluster1')\n",
    "plt.scatter(x[y_kmeans==1,0], x[y_kmeans==1,1], s=100, c ='yellow', label='Cluster2')\n",
    "plt.scatter(x[y_kmeans==2,0], x[y_kmeans==2,1], s=100, c ='black', label='Cluster3')\n",
    "plt.scatter(x[y_kmeans==3,0], x[y_kmeans==3,1], s=100, c ='pink', label='Cluster4')\n",
    "plt.scatter(x[y_kmeans==4,0], x[y_kmeans==4,1], s=100, c ='green', label='Cluster5')"
   ]
  }
 ],
 "metadata": {
  "kernelspec": {
   "display_name": "Python 3 (ipykernel)",
   "language": "python",
   "name": "python3"
  },
  "language_info": {
   "codemirror_mode": {
    "name": "ipython",
    "version": 3
   },
   "file_extension": ".py",
   "mimetype": "text/x-python",
   "name": "python",
   "nbconvert_exporter": "python",
   "pygments_lexer": "ipython3",
   "version": "3.9.12"
  }
 },
 "nbformat": 4,
 "nbformat_minor": 5
}
