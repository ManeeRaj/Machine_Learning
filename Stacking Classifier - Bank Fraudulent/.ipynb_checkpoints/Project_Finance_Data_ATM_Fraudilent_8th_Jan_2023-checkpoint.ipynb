{
 "cells": [
  {
   "cell_type": "code",
   "execution_count": null,
   "id": "1f58fc3f",
   "metadata": {
    "id": "1f58fc3f"
   },
   "outputs": [],
   "source": [
    "import os\n",
    "import numpy as np\n",
    "import pandas as pd"
   ]
  },
  {
   "cell_type": "code",
   "execution_count": null,
   "id": "a821d380",
   "metadata": {
    "id": "a821d380"
   },
   "outputs": [],
   "source": [
    "geo = pd.read_csv('Geo_scores.csv')\n",
    "instance = pd.read_csv('instance_scores.csv')\n",
    "lambdawts = pd.read_csv('Lambda_wts.csv')\n",
    "qsets = pd.read_csv('Qset_tats.csv')\n",
    "train = pd.read_csv('train.csv')\n",
    "test = pd.read_csv('test_share.csv')"
   ]
  },
  {
   "cell_type": "code",
   "execution_count": null,
   "id": "a731205d",
   "metadata": {
    "id": "a731205d",
    "outputId": "34beda2a-e4cc-403e-9c83-cab133011891"
   },
   "outputs": [
    {
     "data": {
      "text/html": [
       "<div>\n",
       "<style scoped>\n",
       "    .dataframe tbody tr th:only-of-type {\n",
       "        vertical-align: middle;\n",
       "    }\n",
       "\n",
       "    .dataframe tbody tr th {\n",
       "        vertical-align: top;\n",
       "    }\n",
       "\n",
       "    .dataframe thead th {\n",
       "        text-align: right;\n",
       "    }\n",
       "</style>\n",
       "<table border=\"1\" class=\"dataframe\">\n",
       "  <thead>\n",
       "    <tr style=\"text-align: right;\">\n",
       "      <th></th>\n",
       "      <th>id</th>\n",
       "      <th>geo_score</th>\n",
       "    </tr>\n",
       "  </thead>\n",
       "  <tbody>\n",
       "    <tr>\n",
       "      <th>0</th>\n",
       "      <td>26674</td>\n",
       "      <td>4.48</td>\n",
       "    </tr>\n",
       "    <tr>\n",
       "      <th>1</th>\n",
       "      <td>204314</td>\n",
       "      <td>4.48</td>\n",
       "    </tr>\n",
       "  </tbody>\n",
       "</table>\n",
       "</div>"
      ],
      "text/plain": [
       "       id  geo_score\n",
       "0   26674       4.48\n",
       "1  204314       4.48"
      ]
     },
     "execution_count": 3,
     "metadata": {},
     "output_type": "execute_result"
    }
   ],
   "source": [
    "geo.head(2)"
   ]
  },
  {
   "cell_type": "code",
   "execution_count": null,
   "id": "ce584b3a",
   "metadata": {
    "id": "ce584b3a",
    "outputId": "61f7c43a-5a4a-4565-ddfc-07932710bc83"
   },
   "outputs": [
    {
     "data": {
      "text/plain": [
       "26674     5\n",
       "149679    5\n",
       "114110    5\n",
       "24969     5\n",
       "262179    5\n",
       "Name: id, dtype: int64"
      ]
     },
     "execution_count": 4,
     "metadata": {},
     "output_type": "execute_result"
    }
   ],
   "source": [
    "geo['id'].value_counts().head()"
   ]
  },
  {
   "cell_type": "code",
   "execution_count": null,
   "id": "8a17712f",
   "metadata": {
    "id": "8a17712f",
    "outputId": "bfbd78a8-48bc-43cf-e9dc-8677be8807b3"
   },
   "outputs": [
    {
     "data": {
      "text/plain": [
       "id           0.000000\n",
       "geo_score    5.023964\n",
       "dtype: float64"
      ]
     },
     "execution_count": 5,
     "metadata": {},
     "output_type": "execute_result"
    }
   ],
   "source": [
    "geo.isnull().sum()/len(geo)*100"
   ]
  },
  {
   "cell_type": "code",
   "execution_count": null,
   "id": "b9e9c7b4",
   "metadata": {
    "id": "b9e9c7b4",
    "outputId": "a8a37cc5-4678-485e-af9e-6be1102206da"
   },
   "outputs": [
    {
     "data": {
      "text/plain": [
       "(1424035, 2)"
      ]
     },
     "execution_count": 6,
     "metadata": {},
     "output_type": "execute_result"
    }
   ],
   "source": [
    "geo.shape"
   ]
  },
  {
   "cell_type": "code",
   "execution_count": null,
   "id": "1c6ad1ae",
   "metadata": {
    "id": "1c6ad1ae",
    "outputId": "54bda8b6-5261-4515-9583-43db28846a95"
   },
   "outputs": [
    {
     "data": {
      "text/html": [
       "<div>\n",
       "<style scoped>\n",
       "    .dataframe tbody tr th:only-of-type {\n",
       "        vertical-align: middle;\n",
       "    }\n",
       "\n",
       "    .dataframe tbody tr th {\n",
       "        vertical-align: top;\n",
       "    }\n",
       "\n",
       "    .dataframe thead th {\n",
       "        text-align: right;\n",
       "    }\n",
       "</style>\n",
       "<table border=\"1\" class=\"dataframe\">\n",
       "  <thead>\n",
       "    <tr style=\"text-align: right;\">\n",
       "      <th></th>\n",
       "      <th>id</th>\n",
       "      <th>instance_scores</th>\n",
       "    </tr>\n",
       "  </thead>\n",
       "  <tbody>\n",
       "    <tr>\n",
       "      <th>0</th>\n",
       "      <td>173444</td>\n",
       "      <td>-0.88</td>\n",
       "    </tr>\n",
       "    <tr>\n",
       "      <th>1</th>\n",
       "      <td>259378</td>\n",
       "      <td>1.50</td>\n",
       "    </tr>\n",
       "  </tbody>\n",
       "</table>\n",
       "</div>"
      ],
      "text/plain": [
       "       id  instance_scores\n",
       "0  173444            -0.88\n",
       "1  259378             1.50"
      ]
     },
     "execution_count": 7,
     "metadata": {},
     "output_type": "execute_result"
    }
   ],
   "source": [
    "instance.head(2)"
   ]
  },
  {
   "cell_type": "code",
   "execution_count": null,
   "id": "4d6cb058",
   "metadata": {
    "id": "4d6cb058",
    "outputId": "7b895010-55e1-4a2c-eef9-af7440bbe532"
   },
   "outputs": [
    {
     "data": {
      "text/plain": [
       "173444    5\n",
       "240342    5\n",
       "147158    5\n",
       "83677     5\n",
       "127535    5\n",
       "Name: id, dtype: int64"
      ]
     },
     "execution_count": 8,
     "metadata": {},
     "output_type": "execute_result"
    }
   ],
   "source": [
    "instance['id'].value_counts().head()"
   ]
  },
  {
   "cell_type": "code",
   "execution_count": null,
   "id": "8e9f96bc",
   "metadata": {
    "id": "8e9f96bc",
    "outputId": "cb262c04-84e9-4025-9490-41a0ebf22a38"
   },
   "outputs": [
    {
     "data": {
      "text/plain": [
       "id                 0\n",
       "instance_scores    0\n",
       "dtype: int64"
      ]
     },
     "execution_count": 9,
     "metadata": {},
     "output_type": "execute_result"
    }
   ],
   "source": [
    "instance.isnull().sum()"
   ]
  },
  {
   "cell_type": "code",
   "execution_count": null,
   "id": "55096145",
   "metadata": {
    "id": "55096145"
   },
   "outputs": [],
   "source": []
  },
  {
   "cell_type": "code",
   "execution_count": null,
   "id": "08a16d68",
   "metadata": {
    "id": "08a16d68",
    "outputId": "2e681289-0ff6-4681-9656-45bf2b54107f"
   },
   "outputs": [
    {
     "data": {
      "text/html": [
       "<div>\n",
       "<style scoped>\n",
       "    .dataframe tbody tr th:only-of-type {\n",
       "        vertical-align: middle;\n",
       "    }\n",
       "\n",
       "    .dataframe tbody tr th {\n",
       "        vertical-align: top;\n",
       "    }\n",
       "\n",
       "    .dataframe thead th {\n",
       "        text-align: right;\n",
       "    }\n",
       "</style>\n",
       "<table border=\"1\" class=\"dataframe\">\n",
       "  <thead>\n",
       "    <tr style=\"text-align: right;\">\n",
       "      <th></th>\n",
       "      <th>Group</th>\n",
       "      <th>lambda_wt</th>\n",
       "    </tr>\n",
       "  </thead>\n",
       "  <tbody>\n",
       "    <tr>\n",
       "      <th>0</th>\n",
       "      <td>Grp936</td>\n",
       "      <td>3.41</td>\n",
       "    </tr>\n",
       "    <tr>\n",
       "      <th>1</th>\n",
       "      <td>Grp347</td>\n",
       "      <td>-2.88</td>\n",
       "    </tr>\n",
       "    <tr>\n",
       "      <th>2</th>\n",
       "      <td>Grp188</td>\n",
       "      <td>0.39</td>\n",
       "    </tr>\n",
       "    <tr>\n",
       "      <th>3</th>\n",
       "      <td>Grp1053</td>\n",
       "      <td>-2.75</td>\n",
       "    </tr>\n",
       "    <tr>\n",
       "      <th>4</th>\n",
       "      <td>Grp56</td>\n",
       "      <td>-0.83</td>\n",
       "    </tr>\n",
       "  </tbody>\n",
       "</table>\n",
       "</div>"
      ],
      "text/plain": [
       "     Group  lambda_wt\n",
       "0   Grp936       3.41\n",
       "1   Grp347      -2.88\n",
       "2   Grp188       0.39\n",
       "3  Grp1053      -2.75\n",
       "4    Grp56      -0.83"
      ]
     },
     "execution_count": 10,
     "metadata": {},
     "output_type": "execute_result"
    }
   ],
   "source": [
    "lambdawts.head()"
   ]
  },
  {
   "cell_type": "code",
   "execution_count": null,
   "id": "a83178ff",
   "metadata": {
    "id": "a83178ff",
    "outputId": "4bbc3733-9e15-443a-db07-ffde9dc1b078"
   },
   "outputs": [
    {
     "data": {
      "text/plain": [
       "Grp936     1\n",
       "Grp1128    1\n",
       "Grp341     1\n",
       "Grp63      1\n",
       "Grp173     1\n",
       "Name: Group, dtype: int64"
      ]
     },
     "execution_count": 11,
     "metadata": {},
     "output_type": "execute_result"
    }
   ],
   "source": [
    "lambdawts['Group'].value_counts().head()"
   ]
  },
  {
   "cell_type": "code",
   "execution_count": null,
   "id": "4af3af35",
   "metadata": {
    "id": "4af3af35",
    "outputId": "9f838095-162e-465d-9af6-a8f9a4ec97ba"
   },
   "outputs": [
    {
     "data": {
      "text/plain": [
       "Group        0\n",
       "lambda_wt    0\n",
       "dtype: int64"
      ]
     },
     "execution_count": 12,
     "metadata": {},
     "output_type": "execute_result"
    }
   ],
   "source": [
    "lambdawts.isnull().sum()"
   ]
  },
  {
   "cell_type": "code",
   "execution_count": null,
   "id": "34c92327",
   "metadata": {
    "id": "34c92327"
   },
   "outputs": [],
   "source": []
  },
  {
   "cell_type": "code",
   "execution_count": null,
   "id": "22d8a128",
   "metadata": {
    "id": "22d8a128",
    "outputId": "883d70f1-9005-4d7c-bf21-faef5304d075"
   },
   "outputs": [
    {
     "data": {
      "text/html": [
       "<div>\n",
       "<style scoped>\n",
       "    .dataframe tbody tr th:only-of-type {\n",
       "        vertical-align: middle;\n",
       "    }\n",
       "\n",
       "    .dataframe tbody tr th {\n",
       "        vertical-align: top;\n",
       "    }\n",
       "\n",
       "    .dataframe thead th {\n",
       "        text-align: right;\n",
       "    }\n",
       "</style>\n",
       "<table border=\"1\" class=\"dataframe\">\n",
       "  <thead>\n",
       "    <tr style=\"text-align: right;\">\n",
       "      <th></th>\n",
       "      <th>id</th>\n",
       "      <th>qsets_normalized_tat</th>\n",
       "    </tr>\n",
       "  </thead>\n",
       "  <tbody>\n",
       "    <tr>\n",
       "      <th>0</th>\n",
       "      <td>9983</td>\n",
       "      <td>2.41</td>\n",
       "    </tr>\n",
       "    <tr>\n",
       "      <th>1</th>\n",
       "      <td>266000</td>\n",
       "      <td>3.10</td>\n",
       "    </tr>\n",
       "  </tbody>\n",
       "</table>\n",
       "</div>"
      ],
      "text/plain": [
       "       id  qsets_normalized_tat\n",
       "0    9983                  2.41\n",
       "1  266000                  3.10"
      ]
     },
     "execution_count": 13,
     "metadata": {},
     "output_type": "execute_result"
    }
   ],
   "source": [
    "qsets.head(2)"
   ]
  },
  {
   "cell_type": "code",
   "execution_count": null,
   "id": "63f515e0",
   "metadata": {
    "id": "63f515e0",
    "outputId": "ec566d47-8c9a-4b1a-def2-d2b3f78977da"
   },
   "outputs": [
    {
     "data": {
      "text/plain": [
       "9983      5\n",
       "146106    5\n",
       "133237    5\n",
       "262326    5\n",
       "79108     5\n",
       "Name: id, dtype: int64"
      ]
     },
     "execution_count": 14,
     "metadata": {},
     "output_type": "execute_result"
    }
   ],
   "source": [
    "qsets['id'].value_counts().head()"
   ]
  },
  {
   "cell_type": "code",
   "execution_count": null,
   "id": "815f6816",
   "metadata": {
    "id": "815f6816",
    "outputId": "caa77c21-d1ca-4a07-d333-bc545cc9e13f"
   },
   "outputs": [
    {
     "data": {
      "text/plain": [
       "id                           0\n",
       "qsets_normalized_tat    103201\n",
       "dtype: int64"
      ]
     },
     "execution_count": 15,
     "metadata": {},
     "output_type": "execute_result"
    }
   ],
   "source": [
    "qsets.isnull().sum()"
   ]
  },
  {
   "cell_type": "code",
   "execution_count": null,
   "id": "b6f45e10",
   "metadata": {
    "id": "b6f45e10"
   },
   "outputs": [],
   "source": []
  },
  {
   "cell_type": "code",
   "execution_count": null,
   "id": "56c7637e",
   "metadata": {
    "id": "56c7637e",
    "outputId": "d27596c1-4ee1-4a12-9d8d-8bbab2742b7d"
   },
   "outputs": [
    {
     "data": {
      "text/html": [
       "<div>\n",
       "<style scoped>\n",
       "    .dataframe tbody tr th:only-of-type {\n",
       "        vertical-align: middle;\n",
       "    }\n",
       "\n",
       "    .dataframe tbody tr th {\n",
       "        vertical-align: top;\n",
       "    }\n",
       "\n",
       "    .dataframe thead th {\n",
       "        text-align: right;\n",
       "    }\n",
       "</style>\n",
       "<table border=\"1\" class=\"dataframe\">\n",
       "  <thead>\n",
       "    <tr style=\"text-align: right;\">\n",
       "      <th></th>\n",
       "      <th>id</th>\n",
       "      <th>Group</th>\n",
       "      <th>Per1</th>\n",
       "      <th>Per2</th>\n",
       "      <th>Per3</th>\n",
       "      <th>Per4</th>\n",
       "      <th>Per5</th>\n",
       "      <th>Per6</th>\n",
       "      <th>Per7</th>\n",
       "      <th>Per8</th>\n",
       "      <th>...</th>\n",
       "      <th>Dem8</th>\n",
       "      <th>Dem9</th>\n",
       "      <th>Cred1</th>\n",
       "      <th>Cred2</th>\n",
       "      <th>Cred3</th>\n",
       "      <th>Cred4</th>\n",
       "      <th>Cred5</th>\n",
       "      <th>Cred6</th>\n",
       "      <th>Normalised_FNT</th>\n",
       "      <th>Target</th>\n",
       "    </tr>\n",
       "  </thead>\n",
       "  <tbody>\n",
       "    <tr>\n",
       "      <th>0</th>\n",
       "      <td>112751</td>\n",
       "      <td>Grp169</td>\n",
       "      <td>1.070000</td>\n",
       "      <td>0.580000</td>\n",
       "      <td>0.480000</td>\n",
       "      <td>0.766667</td>\n",
       "      <td>1.233333</td>\n",
       "      <td>1.993333</td>\n",
       "      <td>0.34</td>\n",
       "      <td>1.010000</td>\n",
       "      <td>...</td>\n",
       "      <td>0.680000</td>\n",
       "      <td>0.726667</td>\n",
       "      <td>0.606667</td>\n",
       "      <td>1.01</td>\n",
       "      <td>0.933333</td>\n",
       "      <td>0.603333</td>\n",
       "      <td>0.686667</td>\n",
       "      <td>0.673333</td>\n",
       "      <td>-245.75</td>\n",
       "      <td>0</td>\n",
       "    </tr>\n",
       "    <tr>\n",
       "      <th>1</th>\n",
       "      <td>18495</td>\n",
       "      <td>Grp161</td>\n",
       "      <td>0.473333</td>\n",
       "      <td>1.206667</td>\n",
       "      <td>0.883333</td>\n",
       "      <td>1.430000</td>\n",
       "      <td>0.726667</td>\n",
       "      <td>0.626667</td>\n",
       "      <td>0.81</td>\n",
       "      <td>0.783333</td>\n",
       "      <td>...</td>\n",
       "      <td>0.716667</td>\n",
       "      <td>0.743333</td>\n",
       "      <td>0.680000</td>\n",
       "      <td>0.69</td>\n",
       "      <td>0.560000</td>\n",
       "      <td>0.670000</td>\n",
       "      <td>0.553333</td>\n",
       "      <td>0.653333</td>\n",
       "      <td>-248.00</td>\n",
       "      <td>0</td>\n",
       "    </tr>\n",
       "  </tbody>\n",
       "</table>\n",
       "<p>2 rows × 28 columns</p>\n",
       "</div>"
      ],
      "text/plain": [
       "       id   Group      Per1      Per2      Per3      Per4      Per5      Per6  \\\n",
       "0  112751  Grp169  1.070000  0.580000  0.480000  0.766667  1.233333  1.993333   \n",
       "1   18495  Grp161  0.473333  1.206667  0.883333  1.430000  0.726667  0.626667   \n",
       "\n",
       "   Per7      Per8  ...      Dem8      Dem9     Cred1  Cred2     Cred3  \\\n",
       "0  0.34  1.010000  ...  0.680000  0.726667  0.606667   1.01  0.933333   \n",
       "1  0.81  0.783333  ...  0.716667  0.743333  0.680000   0.69  0.560000   \n",
       "\n",
       "      Cred4     Cred5     Cred6  Normalised_FNT  Target  \n",
       "0  0.603333  0.686667  0.673333         -245.75       0  \n",
       "1  0.670000  0.553333  0.653333         -248.00       0  \n",
       "\n",
       "[2 rows x 28 columns]"
      ]
     },
     "execution_count": 16,
     "metadata": {},
     "output_type": "execute_result"
    }
   ],
   "source": [
    "train.head(2)"
   ]
  },
  {
   "cell_type": "code",
   "execution_count": null,
   "id": "f82fcf68",
   "metadata": {
    "id": "f82fcf68",
    "outputId": "697650c3-f85a-49b5-986f-e279c199ab04"
   },
   "outputs": [
    {
     "data": {
      "text/plain": [
       "(227845, 28)"
      ]
     },
     "execution_count": 17,
     "metadata": {},
     "output_type": "execute_result"
    }
   ],
   "source": [
    "train.shape"
   ]
  },
  {
   "cell_type": "code",
   "execution_count": null,
   "id": "9e1ab77f",
   "metadata": {
    "id": "9e1ab77f",
    "outputId": "a39968b6-a1fc-456f-e0b1-66f947e1cbb1"
   },
   "outputs": [
    {
     "data": {
      "text/plain": [
       "id                0\n",
       "Group             0\n",
       "Per1              0\n",
       "Per2              0\n",
       "Per3              0\n",
       "Per4              0\n",
       "Per5              0\n",
       "Per6              0\n",
       "Per7              0\n",
       "Per8              0\n",
       "Per9              0\n",
       "Dem1              0\n",
       "Dem2              0\n",
       "Dem3              0\n",
       "Dem4              0\n",
       "Dem5              0\n",
       "Dem6              0\n",
       "Dem7              0\n",
       "Dem8              0\n",
       "Dem9              0\n",
       "Cred1             0\n",
       "Cred2             0\n",
       "Cred3             0\n",
       "Cred4             0\n",
       "Cred5             0\n",
       "Cred6             0\n",
       "Normalised_FNT    0\n",
       "Target            0\n",
       "dtype: int64"
      ]
     },
     "execution_count": 18,
     "metadata": {},
     "output_type": "execute_result"
    }
   ],
   "source": [
    "train.isnull().sum()"
   ]
  },
  {
   "cell_type": "code",
   "execution_count": null,
   "id": "f623f7f3",
   "metadata": {
    "id": "f623f7f3",
    "outputId": "f4239c7a-0638-4b53-9409-b130dda6310e"
   },
   "outputs": [
    {
     "data": {
      "text/html": [
       "<div>\n",
       "<style scoped>\n",
       "    .dataframe tbody tr th:only-of-type {\n",
       "        vertical-align: middle;\n",
       "    }\n",
       "\n",
       "    .dataframe tbody tr th {\n",
       "        vertical-align: top;\n",
       "    }\n",
       "\n",
       "    .dataframe thead th {\n",
       "        text-align: right;\n",
       "    }\n",
       "</style>\n",
       "<table border=\"1\" class=\"dataframe\">\n",
       "  <thead>\n",
       "    <tr style=\"text-align: right;\">\n",
       "      <th></th>\n",
       "      <th>id</th>\n",
       "      <th>Group</th>\n",
       "      <th>Per1</th>\n",
       "      <th>Per2</th>\n",
       "      <th>Per3</th>\n",
       "      <th>Per4</th>\n",
       "      <th>Per5</th>\n",
       "      <th>Per6</th>\n",
       "      <th>Per7</th>\n",
       "      <th>Per8</th>\n",
       "      <th>...</th>\n",
       "      <th>Dem7</th>\n",
       "      <th>Dem8</th>\n",
       "      <th>Dem9</th>\n",
       "      <th>Cred1</th>\n",
       "      <th>Cred2</th>\n",
       "      <th>Cred3</th>\n",
       "      <th>Cred4</th>\n",
       "      <th>Cred5</th>\n",
       "      <th>Cred6</th>\n",
       "      <th>Normalised_FNT</th>\n",
       "    </tr>\n",
       "  </thead>\n",
       "  <tbody>\n",
       "    <tr>\n",
       "      <th>0</th>\n",
       "      <td>146574</td>\n",
       "      <td>Grp229</td>\n",
       "      <td>-0.300000</td>\n",
       "      <td>1.540000</td>\n",
       "      <td>0.22</td>\n",
       "      <td>-0.280000</td>\n",
       "      <td>0.57</td>\n",
       "      <td>0.260000</td>\n",
       "      <td>0.70</td>\n",
       "      <td>1.076667</td>\n",
       "      <td>...</td>\n",
       "      <td>0.786667</td>\n",
       "      <td>0.546667</td>\n",
       "      <td>0.313333</td>\n",
       "      <td>0.703333</td>\n",
       "      <td>0.813333</td>\n",
       "      <td>0.776667</td>\n",
       "      <td>0.796667</td>\n",
       "      <td>0.823333</td>\n",
       "      <td>0.783333</td>\n",
       "      <td>-249.7500</td>\n",
       "    </tr>\n",
       "    <tr>\n",
       "      <th>1</th>\n",
       "      <td>268759</td>\n",
       "      <td>Grp141</td>\n",
       "      <td>0.633333</td>\n",
       "      <td>0.953333</td>\n",
       "      <td>0.81</td>\n",
       "      <td>0.466667</td>\n",
       "      <td>0.91</td>\n",
       "      <td>0.253333</td>\n",
       "      <td>1.04</td>\n",
       "      <td>0.550000</td>\n",
       "      <td>...</td>\n",
       "      <td>0.636667</td>\n",
       "      <td>0.770000</td>\n",
       "      <td>0.993333</td>\n",
       "      <td>0.536667</td>\n",
       "      <td>0.703333</td>\n",
       "      <td>0.806667</td>\n",
       "      <td>0.630000</td>\n",
       "      <td>0.673333</td>\n",
       "      <td>0.673333</td>\n",
       "      <td>-249.8125</td>\n",
       "    </tr>\n",
       "  </tbody>\n",
       "</table>\n",
       "<p>2 rows × 27 columns</p>\n",
       "</div>"
      ],
      "text/plain": [
       "       id   Group      Per1      Per2  Per3      Per4  Per5      Per6  Per7  \\\n",
       "0  146574  Grp229 -0.300000  1.540000  0.22 -0.280000  0.57  0.260000  0.70   \n",
       "1  268759  Grp141  0.633333  0.953333  0.81  0.466667  0.91  0.253333  1.04   \n",
       "\n",
       "       Per8  ...      Dem7      Dem8      Dem9     Cred1     Cred2     Cred3  \\\n",
       "0  1.076667  ...  0.786667  0.546667  0.313333  0.703333  0.813333  0.776667   \n",
       "1  0.550000  ...  0.636667  0.770000  0.993333  0.536667  0.703333  0.806667   \n",
       "\n",
       "      Cred4     Cred5     Cred6  Normalised_FNT  \n",
       "0  0.796667  0.823333  0.783333       -249.7500  \n",
       "1  0.630000  0.673333  0.673333       -249.8125  \n",
       "\n",
       "[2 rows x 27 columns]"
      ]
     },
     "execution_count": 19,
     "metadata": {},
     "output_type": "execute_result"
    }
   ],
   "source": [
    "test.head(2)"
   ]
  },
  {
   "cell_type": "code",
   "execution_count": null,
   "id": "c614808e",
   "metadata": {
    "id": "c614808e",
    "outputId": "ea77ac87-d390-4090-e32c-05fbc4977990"
   },
   "outputs": [
    {
     "data": {
      "text/plain": [
       "id                0\n",
       "Group             0\n",
       "Per1              0\n",
       "Per2              0\n",
       "Per3              0\n",
       "Per4              0\n",
       "Per5              0\n",
       "Per6              0\n",
       "Per7              0\n",
       "Per8              0\n",
       "Per9              0\n",
       "Dem1              0\n",
       "Dem2              0\n",
       "Dem3              0\n",
       "Dem4              0\n",
       "Dem5              0\n",
       "Dem6              0\n",
       "Dem7              0\n",
       "Dem8              0\n",
       "Dem9              0\n",
       "Cred1             0\n",
       "Cred2             0\n",
       "Cred3             0\n",
       "Cred4             0\n",
       "Cred5             0\n",
       "Cred6             0\n",
       "Normalised_FNT    0\n",
       "dtype: int64"
      ]
     },
     "execution_count": 20,
     "metadata": {},
     "output_type": "execute_result"
    }
   ],
   "source": [
    "test.isnull().sum()"
   ]
  },
  {
   "cell_type": "code",
   "execution_count": null,
   "id": "899cbbf0",
   "metadata": {
    "id": "899cbbf0"
   },
   "outputs": [],
   "source": [
    "# missing data found in geo table and qsets table\n",
    "# for simplicity, I am filling zero with missing data"
   ]
  },
  {
   "cell_type": "code",
   "execution_count": null,
   "id": "6ba81ae4",
   "metadata": {
    "id": "6ba81ae4"
   },
   "outputs": [],
   "source": [
    "# Handling missing value with Zero for identification purpose\n",
    "geo.fillna(0, inplace=True)\n",
    "qsets.fillna(0, inplace=True)"
   ]
  },
  {
   "cell_type": "code",
   "execution_count": null,
   "id": "352862ce",
   "metadata": {
    "id": "352862ce",
    "outputId": "a1050b85-89f9-4def-a4fe-8da3b0a00054"
   },
   "outputs": [
    {
     "data": {
      "text/plain": [
       "id           0\n",
       "geo_score    0\n",
       "dtype: int64"
      ]
     },
     "execution_count": 23,
     "metadata": {},
     "output_type": "execute_result"
    }
   ],
   "source": [
    "geo.isnull().sum()"
   ]
  },
  {
   "cell_type": "code",
   "execution_count": null,
   "id": "0ac5c981",
   "metadata": {
    "id": "0ac5c981",
    "outputId": "cca710c8-76ab-46d7-bf31-7863d7293286"
   },
   "outputs": [
    {
     "data": {
      "text/plain": [
       "id                      0\n",
       "qsets_normalized_tat    0\n",
       "dtype: int64"
      ]
     },
     "execution_count": 24,
     "metadata": {},
     "output_type": "execute_result"
    }
   ],
   "source": [
    "qsets.isnull().sum()"
   ]
  },
  {
   "cell_type": "code",
   "execution_count": null,
   "id": "c2c392ea",
   "metadata": {
    "id": "c2c392ea"
   },
   "outputs": [],
   "source": [
    "geo = geo.groupby('id').mean()"
   ]
  },
  {
   "cell_type": "code",
   "execution_count": null,
   "id": "0949b871",
   "metadata": {
    "id": "0949b871",
    "outputId": "9d718b59-8d3b-46a1-b7c2-b84990a48e66"
   },
   "outputs": [
    {
     "data": {
      "text/html": [
       "<div>\n",
       "<style scoped>\n",
       "    .dataframe tbody tr th:only-of-type {\n",
       "        vertical-align: middle;\n",
       "    }\n",
       "\n",
       "    .dataframe tbody tr th {\n",
       "        vertical-align: top;\n",
       "    }\n",
       "\n",
       "    .dataframe thead th {\n",
       "        text-align: right;\n",
       "    }\n",
       "</style>\n",
       "<table border=\"1\" class=\"dataframe\">\n",
       "  <thead>\n",
       "    <tr style=\"text-align: right;\">\n",
       "      <th></th>\n",
       "      <th>geo_score</th>\n",
       "    </tr>\n",
       "    <tr>\n",
       "      <th>id</th>\n",
       "      <th></th>\n",
       "    </tr>\n",
       "  </thead>\n",
       "  <tbody>\n",
       "    <tr>\n",
       "      <th>0</th>\n",
       "      <td>-0.62</td>\n",
       "    </tr>\n",
       "    <tr>\n",
       "      <th>1</th>\n",
       "      <td>1.07</td>\n",
       "    </tr>\n",
       "    <tr>\n",
       "      <th>2</th>\n",
       "      <td>0.07</td>\n",
       "    </tr>\n",
       "    <tr>\n",
       "      <th>3</th>\n",
       "      <td>0.18</td>\n",
       "    </tr>\n",
       "    <tr>\n",
       "      <th>4</th>\n",
       "      <td>0.54</td>\n",
       "    </tr>\n",
       "  </tbody>\n",
       "</table>\n",
       "</div>"
      ],
      "text/plain": [
       "    geo_score\n",
       "id           \n",
       "0       -0.62\n",
       "1        1.07\n",
       "2        0.07\n",
       "3        0.18\n",
       "4        0.54"
      ]
     },
     "execution_count": 26,
     "metadata": {},
     "output_type": "execute_result"
    }
   ],
   "source": [
    "geo.head()"
   ]
  },
  {
   "cell_type": "code",
   "execution_count": null,
   "id": "e9bdbdb0",
   "metadata": {
    "id": "e9bdbdb0",
    "outputId": "71171637-1aaf-4844-bab7-a680055a5850"
   },
   "outputs": [
    {
     "data": {
      "text/plain": [
       "(284807, 1)"
      ]
     },
     "execution_count": 27,
     "metadata": {},
     "output_type": "execute_result"
    }
   ],
   "source": [
    "geo.shape"
   ]
  },
  {
   "cell_type": "code",
   "execution_count": null,
   "id": "f900152d",
   "metadata": {
    "id": "f900152d",
    "outputId": "c5ab1e08-5ab5-449b-ee94-30918e01a134"
   },
   "outputs": [
    {
     "data": {
      "text/plain": [
       "(1424035, 2)"
      ]
     },
     "execution_count": 28,
     "metadata": {},
     "output_type": "execute_result"
    }
   ],
   "source": [
    "qsets.shape"
   ]
  },
  {
   "cell_type": "code",
   "execution_count": null,
   "id": "d4aa9043",
   "metadata": {
    "id": "d4aa9043"
   },
   "outputs": [],
   "source": [
    "qsets = qsets.groupby('id').mean()"
   ]
  },
  {
   "cell_type": "code",
   "execution_count": null,
   "id": "40fbd9c8",
   "metadata": {
    "id": "40fbd9c8",
    "outputId": "6bedbacc-8fbf-448f-8c9c-e889b08ae1df"
   },
   "outputs": [
    {
     "data": {
      "text/html": [
       "<div>\n",
       "<style scoped>\n",
       "    .dataframe tbody tr th:only-of-type {\n",
       "        vertical-align: middle;\n",
       "    }\n",
       "\n",
       "    .dataframe tbody tr th {\n",
       "        vertical-align: top;\n",
       "    }\n",
       "\n",
       "    .dataframe thead th {\n",
       "        text-align: right;\n",
       "    }\n",
       "</style>\n",
       "<table border=\"1\" class=\"dataframe\">\n",
       "  <thead>\n",
       "    <tr style=\"text-align: right;\">\n",
       "      <th></th>\n",
       "      <th>qsets_normalized_tat</th>\n",
       "    </tr>\n",
       "    <tr>\n",
       "      <th>id</th>\n",
       "      <th></th>\n",
       "    </tr>\n",
       "  </thead>\n",
       "  <tbody>\n",
       "    <tr>\n",
       "      <th>0</th>\n",
       "      <td>0.21</td>\n",
       "    </tr>\n",
       "    <tr>\n",
       "      <th>1</th>\n",
       "      <td>-0.11</td>\n",
       "    </tr>\n",
       "    <tr>\n",
       "      <th>2</th>\n",
       "      <td>1.11</td>\n",
       "    </tr>\n",
       "    <tr>\n",
       "      <th>3</th>\n",
       "      <td>-0.68</td>\n",
       "    </tr>\n",
       "    <tr>\n",
       "      <th>4</th>\n",
       "      <td>-0.24</td>\n",
       "    </tr>\n",
       "    <tr>\n",
       "      <th>...</th>\n",
       "      <td>...</td>\n",
       "    </tr>\n",
       "    <tr>\n",
       "      <th>284802</th>\n",
       "      <td>1.99</td>\n",
       "    </tr>\n",
       "    <tr>\n",
       "      <th>284803</th>\n",
       "      <td>-0.03</td>\n",
       "    </tr>\n",
       "    <tr>\n",
       "      <th>284804</th>\n",
       "      <td>0.31</td>\n",
       "    </tr>\n",
       "    <tr>\n",
       "      <th>284805</th>\n",
       "      <td>0.51</td>\n",
       "    </tr>\n",
       "    <tr>\n",
       "      <th>284806</th>\n",
       "      <td>-0.66</td>\n",
       "    </tr>\n",
       "  </tbody>\n",
       "</table>\n",
       "<p>284807 rows × 1 columns</p>\n",
       "</div>"
      ],
      "text/plain": [
       "        qsets_normalized_tat\n",
       "id                          \n",
       "0                       0.21\n",
       "1                      -0.11\n",
       "2                       1.11\n",
       "3                      -0.68\n",
       "4                      -0.24\n",
       "...                      ...\n",
       "284802                  1.99\n",
       "284803                 -0.03\n",
       "284804                  0.31\n",
       "284805                  0.51\n",
       "284806                 -0.66\n",
       "\n",
       "[284807 rows x 1 columns]"
      ]
     },
     "execution_count": 30,
     "metadata": {},
     "output_type": "execute_result"
    }
   ],
   "source": [
    "qsets"
   ]
  },
  {
   "cell_type": "code",
   "execution_count": null,
   "id": "9281e8a9",
   "metadata": {
    "id": "9281e8a9",
    "outputId": "baf2eb14-35bc-4c0e-f711-71c5f0f8583e"
   },
   "outputs": [
    {
     "data": {
      "text/plain": [
       "(284807, 1)"
      ]
     },
     "execution_count": 31,
     "metadata": {},
     "output_type": "execute_result"
    }
   ],
   "source": [
    "qsets.shape"
   ]
  },
  {
   "cell_type": "code",
   "execution_count": null,
   "id": "ea53af6c",
   "metadata": {
    "id": "ea53af6c",
    "outputId": "fd5bef48-1414-4918-c29b-582402fa3a7b"
   },
   "outputs": [
    {
     "data": {
      "text/plain": [
       "(1424035, 2)"
      ]
     },
     "execution_count": 32,
     "metadata": {},
     "output_type": "execute_result"
    }
   ],
   "source": [
    "instance.shape"
   ]
  },
  {
   "cell_type": "code",
   "execution_count": null,
   "id": "6a488b7a",
   "metadata": {
    "id": "6a488b7a"
   },
   "outputs": [],
   "source": [
    "instance = instance.groupby('id').mean()"
   ]
  },
  {
   "cell_type": "code",
   "execution_count": null,
   "id": "2d8013ed",
   "metadata": {
    "id": "2d8013ed",
    "outputId": "751badf9-053d-4f00-889e-3127e3bee312"
   },
   "outputs": [
    {
     "data": {
      "text/plain": [
       "(284807, 1)"
      ]
     },
     "execution_count": 34,
     "metadata": {},
     "output_type": "execute_result"
    }
   ],
   "source": [
    "instance.shape"
   ]
  },
  {
   "cell_type": "code",
   "execution_count": null,
   "id": "7a88a9f8",
   "metadata": {
    "id": "7a88a9f8",
    "outputId": "c7a589ee-3c02-4cf2-eba9-ec697022beec"
   },
   "outputs": [
    {
     "data": {
      "text/html": [
       "<div>\n",
       "<style scoped>\n",
       "    .dataframe tbody tr th:only-of-type {\n",
       "        vertical-align: middle;\n",
       "    }\n",
       "\n",
       "    .dataframe tbody tr th {\n",
       "        vertical-align: top;\n",
       "    }\n",
       "\n",
       "    .dataframe thead th {\n",
       "        text-align: right;\n",
       "    }\n",
       "</style>\n",
       "<table border=\"1\" class=\"dataframe\">\n",
       "  <thead>\n",
       "    <tr style=\"text-align: right;\">\n",
       "      <th></th>\n",
       "      <th>id</th>\n",
       "      <th>Group</th>\n",
       "      <th>Per1</th>\n",
       "      <th>Per2</th>\n",
       "      <th>Per3</th>\n",
       "      <th>Per4</th>\n",
       "      <th>Per5</th>\n",
       "      <th>Per6</th>\n",
       "      <th>Per7</th>\n",
       "      <th>Per8</th>\n",
       "      <th>...</th>\n",
       "      <th>Dem8</th>\n",
       "      <th>Dem9</th>\n",
       "      <th>Cred1</th>\n",
       "      <th>Cred2</th>\n",
       "      <th>Cred3</th>\n",
       "      <th>Cred4</th>\n",
       "      <th>Cred5</th>\n",
       "      <th>Cred6</th>\n",
       "      <th>Normalised_FNT</th>\n",
       "      <th>Target</th>\n",
       "    </tr>\n",
       "  </thead>\n",
       "  <tbody>\n",
       "    <tr>\n",
       "      <th>0</th>\n",
       "      <td>112751</td>\n",
       "      <td>Grp169</td>\n",
       "      <td>1.070000</td>\n",
       "      <td>0.580000</td>\n",
       "      <td>0.480000</td>\n",
       "      <td>0.766667</td>\n",
       "      <td>1.233333</td>\n",
       "      <td>1.993333</td>\n",
       "      <td>0.34</td>\n",
       "      <td>1.010000</td>\n",
       "      <td>...</td>\n",
       "      <td>0.680000</td>\n",
       "      <td>0.726667</td>\n",
       "      <td>0.606667</td>\n",
       "      <td>1.01</td>\n",
       "      <td>0.933333</td>\n",
       "      <td>0.603333</td>\n",
       "      <td>0.686667</td>\n",
       "      <td>0.673333</td>\n",
       "      <td>-245.75</td>\n",
       "      <td>0</td>\n",
       "    </tr>\n",
       "    <tr>\n",
       "      <th>1</th>\n",
       "      <td>18495</td>\n",
       "      <td>Grp161</td>\n",
       "      <td>0.473333</td>\n",
       "      <td>1.206667</td>\n",
       "      <td>0.883333</td>\n",
       "      <td>1.430000</td>\n",
       "      <td>0.726667</td>\n",
       "      <td>0.626667</td>\n",
       "      <td>0.81</td>\n",
       "      <td>0.783333</td>\n",
       "      <td>...</td>\n",
       "      <td>0.716667</td>\n",
       "      <td>0.743333</td>\n",
       "      <td>0.680000</td>\n",
       "      <td>0.69</td>\n",
       "      <td>0.560000</td>\n",
       "      <td>0.670000</td>\n",
       "      <td>0.553333</td>\n",
       "      <td>0.653333</td>\n",
       "      <td>-248.00</td>\n",
       "      <td>0</td>\n",
       "    </tr>\n",
       "  </tbody>\n",
       "</table>\n",
       "<p>2 rows × 28 columns</p>\n",
       "</div>"
      ],
      "text/plain": [
       "       id   Group      Per1      Per2      Per3      Per4      Per5      Per6  \\\n",
       "0  112751  Grp169  1.070000  0.580000  0.480000  0.766667  1.233333  1.993333   \n",
       "1   18495  Grp161  0.473333  1.206667  0.883333  1.430000  0.726667  0.626667   \n",
       "\n",
       "   Per7      Per8  ...      Dem8      Dem9     Cred1  Cred2     Cred3  \\\n",
       "0  0.34  1.010000  ...  0.680000  0.726667  0.606667   1.01  0.933333   \n",
       "1  0.81  0.783333  ...  0.716667  0.743333  0.680000   0.69  0.560000   \n",
       "\n",
       "      Cred4     Cred5     Cred6  Normalised_FNT  Target  \n",
       "0  0.603333  0.686667  0.673333         -245.75       0  \n",
       "1  0.670000  0.553333  0.653333         -248.00       0  \n",
       "\n",
       "[2 rows x 28 columns]"
      ]
     },
     "execution_count": 35,
     "metadata": {},
     "output_type": "execute_result"
    }
   ],
   "source": [
    "train.head(2)"
   ]
  },
  {
   "cell_type": "code",
   "execution_count": null,
   "id": "ca515138",
   "metadata": {
    "id": "ca515138"
   },
   "outputs": [],
   "source": [
    "train['data'] = 'train'"
   ]
  },
  {
   "cell_type": "code",
   "execution_count": null,
   "id": "3bdf98a1",
   "metadata": {
    "id": "3bdf98a1",
    "outputId": "9bf419c0-84d6-495a-d1a1-83c30fa67601"
   },
   "outputs": [
    {
     "data": {
      "text/html": [
       "<div>\n",
       "<style scoped>\n",
       "    .dataframe tbody tr th:only-of-type {\n",
       "        vertical-align: middle;\n",
       "    }\n",
       "\n",
       "    .dataframe tbody tr th {\n",
       "        vertical-align: top;\n",
       "    }\n",
       "\n",
       "    .dataframe thead th {\n",
       "        text-align: right;\n",
       "    }\n",
       "</style>\n",
       "<table border=\"1\" class=\"dataframe\">\n",
       "  <thead>\n",
       "    <tr style=\"text-align: right;\">\n",
       "      <th></th>\n",
       "      <th>id</th>\n",
       "      <th>Group</th>\n",
       "      <th>Per1</th>\n",
       "      <th>Per2</th>\n",
       "      <th>Per3</th>\n",
       "      <th>Per4</th>\n",
       "      <th>Per5</th>\n",
       "      <th>Per6</th>\n",
       "      <th>Per7</th>\n",
       "      <th>Per8</th>\n",
       "      <th>...</th>\n",
       "      <th>Dem9</th>\n",
       "      <th>Cred1</th>\n",
       "      <th>Cred2</th>\n",
       "      <th>Cred3</th>\n",
       "      <th>Cred4</th>\n",
       "      <th>Cred5</th>\n",
       "      <th>Cred6</th>\n",
       "      <th>Normalised_FNT</th>\n",
       "      <th>Target</th>\n",
       "      <th>data</th>\n",
       "    </tr>\n",
       "  </thead>\n",
       "  <tbody>\n",
       "    <tr>\n",
       "      <th>0</th>\n",
       "      <td>112751</td>\n",
       "      <td>Grp169</td>\n",
       "      <td>1.070000</td>\n",
       "      <td>0.580000</td>\n",
       "      <td>0.480000</td>\n",
       "      <td>0.766667</td>\n",
       "      <td>1.233333</td>\n",
       "      <td>1.993333</td>\n",
       "      <td>0.340000</td>\n",
       "      <td>1.010000</td>\n",
       "      <td>...</td>\n",
       "      <td>0.726667</td>\n",
       "      <td>0.606667</td>\n",
       "      <td>1.010000</td>\n",
       "      <td>0.933333</td>\n",
       "      <td>0.603333</td>\n",
       "      <td>0.686667</td>\n",
       "      <td>0.673333</td>\n",
       "      <td>-245.7500</td>\n",
       "      <td>0</td>\n",
       "      <td>train</td>\n",
       "    </tr>\n",
       "    <tr>\n",
       "      <th>1</th>\n",
       "      <td>18495</td>\n",
       "      <td>Grp161</td>\n",
       "      <td>0.473333</td>\n",
       "      <td>1.206667</td>\n",
       "      <td>0.883333</td>\n",
       "      <td>1.430000</td>\n",
       "      <td>0.726667</td>\n",
       "      <td>0.626667</td>\n",
       "      <td>0.810000</td>\n",
       "      <td>0.783333</td>\n",
       "      <td>...</td>\n",
       "      <td>0.743333</td>\n",
       "      <td>0.680000</td>\n",
       "      <td>0.690000</td>\n",
       "      <td>0.560000</td>\n",
       "      <td>0.670000</td>\n",
       "      <td>0.553333</td>\n",
       "      <td>0.653333</td>\n",
       "      <td>-248.0000</td>\n",
       "      <td>0</td>\n",
       "      <td>train</td>\n",
       "    </tr>\n",
       "    <tr>\n",
       "      <th>2</th>\n",
       "      <td>23915</td>\n",
       "      <td>Grp261</td>\n",
       "      <td>1.130000</td>\n",
       "      <td>0.143333</td>\n",
       "      <td>0.946667</td>\n",
       "      <td>0.123333</td>\n",
       "      <td>0.080000</td>\n",
       "      <td>0.836667</td>\n",
       "      <td>0.056667</td>\n",
       "      <td>0.756667</td>\n",
       "      <td>...</td>\n",
       "      <td>0.820000</td>\n",
       "      <td>0.600000</td>\n",
       "      <td>0.383333</td>\n",
       "      <td>0.763333</td>\n",
       "      <td>0.670000</td>\n",
       "      <td>0.686667</td>\n",
       "      <td>0.673333</td>\n",
       "      <td>-233.1250</td>\n",
       "      <td>0</td>\n",
       "      <td>train</td>\n",
       "    </tr>\n",
       "    <tr>\n",
       "      <th>3</th>\n",
       "      <td>50806</td>\n",
       "      <td>Grp198</td>\n",
       "      <td>0.636667</td>\n",
       "      <td>1.090000</td>\n",
       "      <td>0.750000</td>\n",
       "      <td>0.940000</td>\n",
       "      <td>0.743333</td>\n",
       "      <td>0.346667</td>\n",
       "      <td>0.956667</td>\n",
       "      <td>0.633333</td>\n",
       "      <td>...</td>\n",
       "      <td>0.900000</td>\n",
       "      <td>0.680000</td>\n",
       "      <td>0.846667</td>\n",
       "      <td>0.423333</td>\n",
       "      <td>0.520000</td>\n",
       "      <td>0.846667</td>\n",
       "      <td>0.760000</td>\n",
       "      <td>-249.7775</td>\n",
       "      <td>0</td>\n",
       "      <td>train</td>\n",
       "    </tr>\n",
       "    <tr>\n",
       "      <th>4</th>\n",
       "      <td>184244</td>\n",
       "      <td>Grp228</td>\n",
       "      <td>0.560000</td>\n",
       "      <td>1.013333</td>\n",
       "      <td>0.593333</td>\n",
       "      <td>0.416667</td>\n",
       "      <td>0.773333</td>\n",
       "      <td>0.460000</td>\n",
       "      <td>0.853333</td>\n",
       "      <td>0.796667</td>\n",
       "      <td>...</td>\n",
       "      <td>0.486667</td>\n",
       "      <td>0.693333</td>\n",
       "      <td>0.526667</td>\n",
       "      <td>0.520000</td>\n",
       "      <td>0.716667</td>\n",
       "      <td>0.706667</td>\n",
       "      <td>0.673333</td>\n",
       "      <td>-247.5775</td>\n",
       "      <td>0</td>\n",
       "      <td>train</td>\n",
       "    </tr>\n",
       "  </tbody>\n",
       "</table>\n",
       "<p>5 rows × 29 columns</p>\n",
       "</div>"
      ],
      "text/plain": [
       "       id   Group      Per1      Per2      Per3      Per4      Per5      Per6  \\\n",
       "0  112751  Grp169  1.070000  0.580000  0.480000  0.766667  1.233333  1.993333   \n",
       "1   18495  Grp161  0.473333  1.206667  0.883333  1.430000  0.726667  0.626667   \n",
       "2   23915  Grp261  1.130000  0.143333  0.946667  0.123333  0.080000  0.836667   \n",
       "3   50806  Grp198  0.636667  1.090000  0.750000  0.940000  0.743333  0.346667   \n",
       "4  184244  Grp228  0.560000  1.013333  0.593333  0.416667  0.773333  0.460000   \n",
       "\n",
       "       Per7      Per8  ...      Dem9     Cred1     Cred2     Cred3     Cred4  \\\n",
       "0  0.340000  1.010000  ...  0.726667  0.606667  1.010000  0.933333  0.603333   \n",
       "1  0.810000  0.783333  ...  0.743333  0.680000  0.690000  0.560000  0.670000   \n",
       "2  0.056667  0.756667  ...  0.820000  0.600000  0.383333  0.763333  0.670000   \n",
       "3  0.956667  0.633333  ...  0.900000  0.680000  0.846667  0.423333  0.520000   \n",
       "4  0.853333  0.796667  ...  0.486667  0.693333  0.526667  0.520000  0.716667   \n",
       "\n",
       "      Cred5     Cred6  Normalised_FNT  Target   data  \n",
       "0  0.686667  0.673333       -245.7500       0  train  \n",
       "1  0.553333  0.653333       -248.0000       0  train  \n",
       "2  0.686667  0.673333       -233.1250       0  train  \n",
       "3  0.846667  0.760000       -249.7775       0  train  \n",
       "4  0.706667  0.673333       -247.5775       0  train  \n",
       "\n",
       "[5 rows x 29 columns]"
      ]
     },
     "execution_count": 37,
     "metadata": {},
     "output_type": "execute_result"
    }
   ],
   "source": [
    "train.head()"
   ]
  },
  {
   "cell_type": "code",
   "execution_count": null,
   "id": "ed8e5f3c",
   "metadata": {
    "id": "ed8e5f3c",
    "outputId": "990b2669-dff0-4a09-aef7-c31d7db50029"
   },
   "outputs": [
    {
     "data": {
      "text/plain": [
       "(227845, 29)"
      ]
     },
     "execution_count": 38,
     "metadata": {},
     "output_type": "execute_result"
    }
   ],
   "source": [
    "train.shape"
   ]
  },
  {
   "cell_type": "code",
   "execution_count": null,
   "id": "d45050e9",
   "metadata": {
    "id": "d45050e9",
    "outputId": "e1490494-e4c2-4a9a-a174-b5763e179ca4"
   },
   "outputs": [
    {
     "data": {
      "text/html": [
       "<div>\n",
       "<style scoped>\n",
       "    .dataframe tbody tr th:only-of-type {\n",
       "        vertical-align: middle;\n",
       "    }\n",
       "\n",
       "    .dataframe tbody tr th {\n",
       "        vertical-align: top;\n",
       "    }\n",
       "\n",
       "    .dataframe thead th {\n",
       "        text-align: right;\n",
       "    }\n",
       "</style>\n",
       "<table border=\"1\" class=\"dataframe\">\n",
       "  <thead>\n",
       "    <tr style=\"text-align: right;\">\n",
       "      <th></th>\n",
       "      <th>id</th>\n",
       "      <th>Group</th>\n",
       "      <th>Per1</th>\n",
       "      <th>Per2</th>\n",
       "      <th>Per3</th>\n",
       "      <th>Per4</th>\n",
       "      <th>Per5</th>\n",
       "      <th>Per6</th>\n",
       "      <th>Per7</th>\n",
       "      <th>Per8</th>\n",
       "      <th>...</th>\n",
       "      <th>Dem7</th>\n",
       "      <th>Dem8</th>\n",
       "      <th>Dem9</th>\n",
       "      <th>Cred1</th>\n",
       "      <th>Cred2</th>\n",
       "      <th>Cred3</th>\n",
       "      <th>Cred4</th>\n",
       "      <th>Cred5</th>\n",
       "      <th>Cred6</th>\n",
       "      <th>Normalised_FNT</th>\n",
       "    </tr>\n",
       "  </thead>\n",
       "  <tbody>\n",
       "    <tr>\n",
       "      <th>0</th>\n",
       "      <td>146574</td>\n",
       "      <td>Grp229</td>\n",
       "      <td>-0.300000</td>\n",
       "      <td>1.540000</td>\n",
       "      <td>0.220000</td>\n",
       "      <td>-0.280000</td>\n",
       "      <td>0.570000</td>\n",
       "      <td>0.260000</td>\n",
       "      <td>0.700000</td>\n",
       "      <td>1.076667</td>\n",
       "      <td>...</td>\n",
       "      <td>0.786667</td>\n",
       "      <td>0.546667</td>\n",
       "      <td>0.313333</td>\n",
       "      <td>0.703333</td>\n",
       "      <td>0.813333</td>\n",
       "      <td>0.776667</td>\n",
       "      <td>0.796667</td>\n",
       "      <td>0.823333</td>\n",
       "      <td>0.783333</td>\n",
       "      <td>-249.7500</td>\n",
       "    </tr>\n",
       "    <tr>\n",
       "      <th>1</th>\n",
       "      <td>268759</td>\n",
       "      <td>Grp141</td>\n",
       "      <td>0.633333</td>\n",
       "      <td>0.953333</td>\n",
       "      <td>0.810000</td>\n",
       "      <td>0.466667</td>\n",
       "      <td>0.910000</td>\n",
       "      <td>0.253333</td>\n",
       "      <td>1.040000</td>\n",
       "      <td>0.550000</td>\n",
       "      <td>...</td>\n",
       "      <td>0.636667</td>\n",
       "      <td>0.770000</td>\n",
       "      <td>0.993333</td>\n",
       "      <td>0.536667</td>\n",
       "      <td>0.703333</td>\n",
       "      <td>0.806667</td>\n",
       "      <td>0.630000</td>\n",
       "      <td>0.673333</td>\n",
       "      <td>0.673333</td>\n",
       "      <td>-249.8125</td>\n",
       "    </tr>\n",
       "    <tr>\n",
       "      <th>2</th>\n",
       "      <td>59727</td>\n",
       "      <td>Grp188</td>\n",
       "      <td>1.043333</td>\n",
       "      <td>0.740000</td>\n",
       "      <td>0.860000</td>\n",
       "      <td>1.006667</td>\n",
       "      <td>0.583333</td>\n",
       "      <td>0.616667</td>\n",
       "      <td>0.630000</td>\n",
       "      <td>0.686667</td>\n",
       "      <td>...</td>\n",
       "      <td>0.626667</td>\n",
       "      <td>0.756667</td>\n",
       "      <td>0.953333</td>\n",
       "      <td>0.623333</td>\n",
       "      <td>0.753333</td>\n",
       "      <td>0.870000</td>\n",
       "      <td>0.596667</td>\n",
       "      <td>0.680000</td>\n",
       "      <td>0.670000</td>\n",
       "      <td>-248.1200</td>\n",
       "    </tr>\n",
       "    <tr>\n",
       "      <th>3</th>\n",
       "      <td>151544</td>\n",
       "      <td>Grp426</td>\n",
       "      <td>1.283333</td>\n",
       "      <td>0.300000</td>\n",
       "      <td>0.576667</td>\n",
       "      <td>0.636667</td>\n",
       "      <td>0.256667</td>\n",
       "      <td>0.543333</td>\n",
       "      <td>0.356667</td>\n",
       "      <td>0.663333</td>\n",
       "      <td>...</td>\n",
       "      <td>0.480000</td>\n",
       "      <td>0.460000</td>\n",
       "      <td>0.260000</td>\n",
       "      <td>0.800000</td>\n",
       "      <td>0.606667</td>\n",
       "      <td>0.456667</td>\n",
       "      <td>0.320000</td>\n",
       "      <td>0.676667</td>\n",
       "      <td>0.660000</td>\n",
       "      <td>-222.9875</td>\n",
       "    </tr>\n",
       "    <tr>\n",
       "      <th>4</th>\n",
       "      <td>155008</td>\n",
       "      <td>Grp443</td>\n",
       "      <td>1.186667</td>\n",
       "      <td>0.326667</td>\n",
       "      <td>0.476667</td>\n",
       "      <td>0.866667</td>\n",
       "      <td>0.436667</td>\n",
       "      <td>0.680000</td>\n",
       "      <td>0.476667</td>\n",
       "      <td>0.686667</td>\n",
       "      <td>...</td>\n",
       "      <td>0.706667</td>\n",
       "      <td>0.740000</td>\n",
       "      <td>0.823333</td>\n",
       "      <td>0.670000</td>\n",
       "      <td>0.896667</td>\n",
       "      <td>0.566667</td>\n",
       "      <td>0.546667</td>\n",
       "      <td>0.650000</td>\n",
       "      <td>0.663333</td>\n",
       "      <td>-196.2200</td>\n",
       "    </tr>\n",
       "  </tbody>\n",
       "</table>\n",
       "<p>5 rows × 27 columns</p>\n",
       "</div>"
      ],
      "text/plain": [
       "       id   Group      Per1      Per2      Per3      Per4      Per5      Per6  \\\n",
       "0  146574  Grp229 -0.300000  1.540000  0.220000 -0.280000  0.570000  0.260000   \n",
       "1  268759  Grp141  0.633333  0.953333  0.810000  0.466667  0.910000  0.253333   \n",
       "2   59727  Grp188  1.043333  0.740000  0.860000  1.006667  0.583333  0.616667   \n",
       "3  151544  Grp426  1.283333  0.300000  0.576667  0.636667  0.256667  0.543333   \n",
       "4  155008  Grp443  1.186667  0.326667  0.476667  0.866667  0.436667  0.680000   \n",
       "\n",
       "       Per7      Per8  ...      Dem7      Dem8      Dem9     Cred1     Cred2  \\\n",
       "0  0.700000  1.076667  ...  0.786667  0.546667  0.313333  0.703333  0.813333   \n",
       "1  1.040000  0.550000  ...  0.636667  0.770000  0.993333  0.536667  0.703333   \n",
       "2  0.630000  0.686667  ...  0.626667  0.756667  0.953333  0.623333  0.753333   \n",
       "3  0.356667  0.663333  ...  0.480000  0.460000  0.260000  0.800000  0.606667   \n",
       "4  0.476667  0.686667  ...  0.706667  0.740000  0.823333  0.670000  0.896667   \n",
       "\n",
       "      Cred3     Cred4     Cred5     Cred6  Normalised_FNT  \n",
       "0  0.776667  0.796667  0.823333  0.783333       -249.7500  \n",
       "1  0.806667  0.630000  0.673333  0.673333       -249.8125  \n",
       "2  0.870000  0.596667  0.680000  0.670000       -248.1200  \n",
       "3  0.456667  0.320000  0.676667  0.660000       -222.9875  \n",
       "4  0.566667  0.546667  0.650000  0.663333       -196.2200  \n",
       "\n",
       "[5 rows x 27 columns]"
      ]
     },
     "execution_count": 39,
     "metadata": {},
     "output_type": "execute_result"
    }
   ],
   "source": [
    "test.head()"
   ]
  },
  {
   "cell_type": "code",
   "execution_count": null,
   "id": "b5bbbbee",
   "metadata": {
    "id": "b5bbbbee"
   },
   "outputs": [],
   "source": [
    "test['data'] = 'test'"
   ]
  },
  {
   "cell_type": "code",
   "execution_count": null,
   "id": "1f60cb2c",
   "metadata": {
    "id": "1f60cb2c",
    "outputId": "4ee27f39-6d2a-4e41-95d5-f6cc330aa792"
   },
   "outputs": [
    {
     "data": {
      "text/html": [
       "<div>\n",
       "<style scoped>\n",
       "    .dataframe tbody tr th:only-of-type {\n",
       "        vertical-align: middle;\n",
       "    }\n",
       "\n",
       "    .dataframe tbody tr th {\n",
       "        vertical-align: top;\n",
       "    }\n",
       "\n",
       "    .dataframe thead th {\n",
       "        text-align: right;\n",
       "    }\n",
       "</style>\n",
       "<table border=\"1\" class=\"dataframe\">\n",
       "  <thead>\n",
       "    <tr style=\"text-align: right;\">\n",
       "      <th></th>\n",
       "      <th>id</th>\n",
       "      <th>Group</th>\n",
       "      <th>Per1</th>\n",
       "      <th>Per2</th>\n",
       "      <th>Per3</th>\n",
       "      <th>Per4</th>\n",
       "      <th>Per5</th>\n",
       "      <th>Per6</th>\n",
       "      <th>Per7</th>\n",
       "      <th>Per8</th>\n",
       "      <th>...</th>\n",
       "      <th>Dem8</th>\n",
       "      <th>Dem9</th>\n",
       "      <th>Cred1</th>\n",
       "      <th>Cred2</th>\n",
       "      <th>Cred3</th>\n",
       "      <th>Cred4</th>\n",
       "      <th>Cred5</th>\n",
       "      <th>Cred6</th>\n",
       "      <th>Normalised_FNT</th>\n",
       "      <th>data</th>\n",
       "    </tr>\n",
       "  </thead>\n",
       "  <tbody>\n",
       "    <tr>\n",
       "      <th>0</th>\n",
       "      <td>146574</td>\n",
       "      <td>Grp229</td>\n",
       "      <td>-0.300000</td>\n",
       "      <td>1.540000</td>\n",
       "      <td>0.220000</td>\n",
       "      <td>-0.280000</td>\n",
       "      <td>0.570000</td>\n",
       "      <td>0.260000</td>\n",
       "      <td>0.700000</td>\n",
       "      <td>1.076667</td>\n",
       "      <td>...</td>\n",
       "      <td>0.546667</td>\n",
       "      <td>0.313333</td>\n",
       "      <td>0.703333</td>\n",
       "      <td>0.813333</td>\n",
       "      <td>0.776667</td>\n",
       "      <td>0.796667</td>\n",
       "      <td>0.823333</td>\n",
       "      <td>0.783333</td>\n",
       "      <td>-249.7500</td>\n",
       "      <td>test</td>\n",
       "    </tr>\n",
       "    <tr>\n",
       "      <th>1</th>\n",
       "      <td>268759</td>\n",
       "      <td>Grp141</td>\n",
       "      <td>0.633333</td>\n",
       "      <td>0.953333</td>\n",
       "      <td>0.810000</td>\n",
       "      <td>0.466667</td>\n",
       "      <td>0.910000</td>\n",
       "      <td>0.253333</td>\n",
       "      <td>1.040000</td>\n",
       "      <td>0.550000</td>\n",
       "      <td>...</td>\n",
       "      <td>0.770000</td>\n",
       "      <td>0.993333</td>\n",
       "      <td>0.536667</td>\n",
       "      <td>0.703333</td>\n",
       "      <td>0.806667</td>\n",
       "      <td>0.630000</td>\n",
       "      <td>0.673333</td>\n",
       "      <td>0.673333</td>\n",
       "      <td>-249.8125</td>\n",
       "      <td>test</td>\n",
       "    </tr>\n",
       "    <tr>\n",
       "      <th>2</th>\n",
       "      <td>59727</td>\n",
       "      <td>Grp188</td>\n",
       "      <td>1.043333</td>\n",
       "      <td>0.740000</td>\n",
       "      <td>0.860000</td>\n",
       "      <td>1.006667</td>\n",
       "      <td>0.583333</td>\n",
       "      <td>0.616667</td>\n",
       "      <td>0.630000</td>\n",
       "      <td>0.686667</td>\n",
       "      <td>...</td>\n",
       "      <td>0.756667</td>\n",
       "      <td>0.953333</td>\n",
       "      <td>0.623333</td>\n",
       "      <td>0.753333</td>\n",
       "      <td>0.870000</td>\n",
       "      <td>0.596667</td>\n",
       "      <td>0.680000</td>\n",
       "      <td>0.670000</td>\n",
       "      <td>-248.1200</td>\n",
       "      <td>test</td>\n",
       "    </tr>\n",
       "    <tr>\n",
       "      <th>3</th>\n",
       "      <td>151544</td>\n",
       "      <td>Grp426</td>\n",
       "      <td>1.283333</td>\n",
       "      <td>0.300000</td>\n",
       "      <td>0.576667</td>\n",
       "      <td>0.636667</td>\n",
       "      <td>0.256667</td>\n",
       "      <td>0.543333</td>\n",
       "      <td>0.356667</td>\n",
       "      <td>0.663333</td>\n",
       "      <td>...</td>\n",
       "      <td>0.460000</td>\n",
       "      <td>0.260000</td>\n",
       "      <td>0.800000</td>\n",
       "      <td>0.606667</td>\n",
       "      <td>0.456667</td>\n",
       "      <td>0.320000</td>\n",
       "      <td>0.676667</td>\n",
       "      <td>0.660000</td>\n",
       "      <td>-222.9875</td>\n",
       "      <td>test</td>\n",
       "    </tr>\n",
       "    <tr>\n",
       "      <th>4</th>\n",
       "      <td>155008</td>\n",
       "      <td>Grp443</td>\n",
       "      <td>1.186667</td>\n",
       "      <td>0.326667</td>\n",
       "      <td>0.476667</td>\n",
       "      <td>0.866667</td>\n",
       "      <td>0.436667</td>\n",
       "      <td>0.680000</td>\n",
       "      <td>0.476667</td>\n",
       "      <td>0.686667</td>\n",
       "      <td>...</td>\n",
       "      <td>0.740000</td>\n",
       "      <td>0.823333</td>\n",
       "      <td>0.670000</td>\n",
       "      <td>0.896667</td>\n",
       "      <td>0.566667</td>\n",
       "      <td>0.546667</td>\n",
       "      <td>0.650000</td>\n",
       "      <td>0.663333</td>\n",
       "      <td>-196.2200</td>\n",
       "      <td>test</td>\n",
       "    </tr>\n",
       "  </tbody>\n",
       "</table>\n",
       "<p>5 rows × 28 columns</p>\n",
       "</div>"
      ],
      "text/plain": [
       "       id   Group      Per1      Per2      Per3      Per4      Per5      Per6  \\\n",
       "0  146574  Grp229 -0.300000  1.540000  0.220000 -0.280000  0.570000  0.260000   \n",
       "1  268759  Grp141  0.633333  0.953333  0.810000  0.466667  0.910000  0.253333   \n",
       "2   59727  Grp188  1.043333  0.740000  0.860000  1.006667  0.583333  0.616667   \n",
       "3  151544  Grp426  1.283333  0.300000  0.576667  0.636667  0.256667  0.543333   \n",
       "4  155008  Grp443  1.186667  0.326667  0.476667  0.866667  0.436667  0.680000   \n",
       "\n",
       "       Per7      Per8  ...      Dem8      Dem9     Cred1     Cred2     Cred3  \\\n",
       "0  0.700000  1.076667  ...  0.546667  0.313333  0.703333  0.813333  0.776667   \n",
       "1  1.040000  0.550000  ...  0.770000  0.993333  0.536667  0.703333  0.806667   \n",
       "2  0.630000  0.686667  ...  0.756667  0.953333  0.623333  0.753333  0.870000   \n",
       "3  0.356667  0.663333  ...  0.460000  0.260000  0.800000  0.606667  0.456667   \n",
       "4  0.476667  0.686667  ...  0.740000  0.823333  0.670000  0.896667  0.566667   \n",
       "\n",
       "      Cred4     Cred5     Cred6  Normalised_FNT  data  \n",
       "0  0.796667  0.823333  0.783333       -249.7500  test  \n",
       "1  0.630000  0.673333  0.673333       -249.8125  test  \n",
       "2  0.596667  0.680000  0.670000       -248.1200  test  \n",
       "3  0.320000  0.676667  0.660000       -222.9875  test  \n",
       "4  0.546667  0.650000  0.663333       -196.2200  test  \n",
       "\n",
       "[5 rows x 28 columns]"
      ]
     },
     "execution_count": 41,
     "metadata": {},
     "output_type": "execute_result"
    }
   ],
   "source": [
    "test.head()"
   ]
  },
  {
   "cell_type": "code",
   "execution_count": null,
   "id": "cb6c31c8",
   "metadata": {
    "id": "cb6c31c8",
    "outputId": "ee0d2e4a-05be-45e7-f0ee-5dbdbc42ed7e"
   },
   "outputs": [
    {
     "data": {
      "text/plain": [
       "(56962, 28)"
      ]
     },
     "execution_count": 42,
     "metadata": {},
     "output_type": "execute_result"
    }
   ],
   "source": [
    "test.shape"
   ]
  },
  {
   "cell_type": "code",
   "execution_count": null,
   "id": "a63dbbe6",
   "metadata": {
    "id": "a63dbbe6",
    "outputId": "8f6a4726-d7dd-436e-9957-cffc8a368e15"
   },
   "outputs": [
    {
     "data": {
      "text/plain": [
       "284807"
      ]
     },
     "execution_count": 43,
     "metadata": {},
     "output_type": "execute_result"
    }
   ],
   "source": [
    "227845+56962"
   ]
  },
  {
   "cell_type": "code",
   "execution_count": null,
   "id": "adc86fd9",
   "metadata": {
    "id": "adc86fd9"
   },
   "outputs": [],
   "source": [
    "all_data = pd.concat([train, test], axis=0)"
   ]
  },
  {
   "cell_type": "code",
   "execution_count": null,
   "id": "05df24e5",
   "metadata": {
    "id": "05df24e5",
    "outputId": "fc62dee3-c907-445f-d071-d862c4bf61ac"
   },
   "outputs": [
    {
     "data": {
      "text/html": [
       "<div>\n",
       "<style scoped>\n",
       "    .dataframe tbody tr th:only-of-type {\n",
       "        vertical-align: middle;\n",
       "    }\n",
       "\n",
       "    .dataframe tbody tr th {\n",
       "        vertical-align: top;\n",
       "    }\n",
       "\n",
       "    .dataframe thead th {\n",
       "        text-align: right;\n",
       "    }\n",
       "</style>\n",
       "<table border=\"1\" class=\"dataframe\">\n",
       "  <thead>\n",
       "    <tr style=\"text-align: right;\">\n",
       "      <th></th>\n",
       "      <th>id</th>\n",
       "      <th>Group</th>\n",
       "      <th>Per1</th>\n",
       "      <th>Per2</th>\n",
       "      <th>Per3</th>\n",
       "      <th>Per4</th>\n",
       "      <th>Per5</th>\n",
       "      <th>Per6</th>\n",
       "      <th>Per7</th>\n",
       "      <th>Per8</th>\n",
       "      <th>...</th>\n",
       "      <th>Dem9</th>\n",
       "      <th>Cred1</th>\n",
       "      <th>Cred2</th>\n",
       "      <th>Cred3</th>\n",
       "      <th>Cred4</th>\n",
       "      <th>Cred5</th>\n",
       "      <th>Cred6</th>\n",
       "      <th>Normalised_FNT</th>\n",
       "      <th>Target</th>\n",
       "      <th>data</th>\n",
       "    </tr>\n",
       "  </thead>\n",
       "  <tbody>\n",
       "    <tr>\n",
       "      <th>0</th>\n",
       "      <td>112751</td>\n",
       "      <td>Grp169</td>\n",
       "      <td>1.070000</td>\n",
       "      <td>0.580000</td>\n",
       "      <td>0.480000</td>\n",
       "      <td>0.766667</td>\n",
       "      <td>1.233333</td>\n",
       "      <td>1.993333</td>\n",
       "      <td>0.340000</td>\n",
       "      <td>1.010000</td>\n",
       "      <td>...</td>\n",
       "      <td>0.726667</td>\n",
       "      <td>0.606667</td>\n",
       "      <td>1.010000</td>\n",
       "      <td>0.933333</td>\n",
       "      <td>0.603333</td>\n",
       "      <td>0.686667</td>\n",
       "      <td>0.673333</td>\n",
       "      <td>-245.7500</td>\n",
       "      <td>0.0</td>\n",
       "      <td>train</td>\n",
       "    </tr>\n",
       "    <tr>\n",
       "      <th>1</th>\n",
       "      <td>18495</td>\n",
       "      <td>Grp161</td>\n",
       "      <td>0.473333</td>\n",
       "      <td>1.206667</td>\n",
       "      <td>0.883333</td>\n",
       "      <td>1.430000</td>\n",
       "      <td>0.726667</td>\n",
       "      <td>0.626667</td>\n",
       "      <td>0.810000</td>\n",
       "      <td>0.783333</td>\n",
       "      <td>...</td>\n",
       "      <td>0.743333</td>\n",
       "      <td>0.680000</td>\n",
       "      <td>0.690000</td>\n",
       "      <td>0.560000</td>\n",
       "      <td>0.670000</td>\n",
       "      <td>0.553333</td>\n",
       "      <td>0.653333</td>\n",
       "      <td>-248.0000</td>\n",
       "      <td>0.0</td>\n",
       "      <td>train</td>\n",
       "    </tr>\n",
       "    <tr>\n",
       "      <th>2</th>\n",
       "      <td>23915</td>\n",
       "      <td>Grp261</td>\n",
       "      <td>1.130000</td>\n",
       "      <td>0.143333</td>\n",
       "      <td>0.946667</td>\n",
       "      <td>0.123333</td>\n",
       "      <td>0.080000</td>\n",
       "      <td>0.836667</td>\n",
       "      <td>0.056667</td>\n",
       "      <td>0.756667</td>\n",
       "      <td>...</td>\n",
       "      <td>0.820000</td>\n",
       "      <td>0.600000</td>\n",
       "      <td>0.383333</td>\n",
       "      <td>0.763333</td>\n",
       "      <td>0.670000</td>\n",
       "      <td>0.686667</td>\n",
       "      <td>0.673333</td>\n",
       "      <td>-233.1250</td>\n",
       "      <td>0.0</td>\n",
       "      <td>train</td>\n",
       "    </tr>\n",
       "    <tr>\n",
       "      <th>3</th>\n",
       "      <td>50806</td>\n",
       "      <td>Grp198</td>\n",
       "      <td>0.636667</td>\n",
       "      <td>1.090000</td>\n",
       "      <td>0.750000</td>\n",
       "      <td>0.940000</td>\n",
       "      <td>0.743333</td>\n",
       "      <td>0.346667</td>\n",
       "      <td>0.956667</td>\n",
       "      <td>0.633333</td>\n",
       "      <td>...</td>\n",
       "      <td>0.900000</td>\n",
       "      <td>0.680000</td>\n",
       "      <td>0.846667</td>\n",
       "      <td>0.423333</td>\n",
       "      <td>0.520000</td>\n",
       "      <td>0.846667</td>\n",
       "      <td>0.760000</td>\n",
       "      <td>-249.7775</td>\n",
       "      <td>0.0</td>\n",
       "      <td>train</td>\n",
       "    </tr>\n",
       "    <tr>\n",
       "      <th>4</th>\n",
       "      <td>184244</td>\n",
       "      <td>Grp228</td>\n",
       "      <td>0.560000</td>\n",
       "      <td>1.013333</td>\n",
       "      <td>0.593333</td>\n",
       "      <td>0.416667</td>\n",
       "      <td>0.773333</td>\n",
       "      <td>0.460000</td>\n",
       "      <td>0.853333</td>\n",
       "      <td>0.796667</td>\n",
       "      <td>...</td>\n",
       "      <td>0.486667</td>\n",
       "      <td>0.693333</td>\n",
       "      <td>0.526667</td>\n",
       "      <td>0.520000</td>\n",
       "      <td>0.716667</td>\n",
       "      <td>0.706667</td>\n",
       "      <td>0.673333</td>\n",
       "      <td>-247.5775</td>\n",
       "      <td>0.0</td>\n",
       "      <td>train</td>\n",
       "    </tr>\n",
       "  </tbody>\n",
       "</table>\n",
       "<p>5 rows × 29 columns</p>\n",
       "</div>"
      ],
      "text/plain": [
       "       id   Group      Per1      Per2      Per3      Per4      Per5      Per6  \\\n",
       "0  112751  Grp169  1.070000  0.580000  0.480000  0.766667  1.233333  1.993333   \n",
       "1   18495  Grp161  0.473333  1.206667  0.883333  1.430000  0.726667  0.626667   \n",
       "2   23915  Grp261  1.130000  0.143333  0.946667  0.123333  0.080000  0.836667   \n",
       "3   50806  Grp198  0.636667  1.090000  0.750000  0.940000  0.743333  0.346667   \n",
       "4  184244  Grp228  0.560000  1.013333  0.593333  0.416667  0.773333  0.460000   \n",
       "\n",
       "       Per7      Per8  ...      Dem9     Cred1     Cred2     Cred3     Cred4  \\\n",
       "0  0.340000  1.010000  ...  0.726667  0.606667  1.010000  0.933333  0.603333   \n",
       "1  0.810000  0.783333  ...  0.743333  0.680000  0.690000  0.560000  0.670000   \n",
       "2  0.056667  0.756667  ...  0.820000  0.600000  0.383333  0.763333  0.670000   \n",
       "3  0.956667  0.633333  ...  0.900000  0.680000  0.846667  0.423333  0.520000   \n",
       "4  0.853333  0.796667  ...  0.486667  0.693333  0.526667  0.520000  0.716667   \n",
       "\n",
       "      Cred5     Cred6  Normalised_FNT  Target   data  \n",
       "0  0.686667  0.673333       -245.7500     0.0  train  \n",
       "1  0.553333  0.653333       -248.0000     0.0  train  \n",
       "2  0.686667  0.673333       -233.1250     0.0  train  \n",
       "3  0.846667  0.760000       -249.7775     0.0  train  \n",
       "4  0.706667  0.673333       -247.5775     0.0  train  \n",
       "\n",
       "[5 rows x 29 columns]"
      ]
     },
     "execution_count": 45,
     "metadata": {},
     "output_type": "execute_result"
    }
   ],
   "source": [
    "all_data.head()"
   ]
  },
  {
   "cell_type": "code",
   "execution_count": null,
   "id": "bc989ad7",
   "metadata": {
    "id": "bc989ad7",
    "outputId": "69435959-7f23-4254-bb17-67cb805723fb"
   },
   "outputs": [
    {
     "data": {
      "text/html": [
       "<div>\n",
       "<style scoped>\n",
       "    .dataframe tbody tr th:only-of-type {\n",
       "        vertical-align: middle;\n",
       "    }\n",
       "\n",
       "    .dataframe tbody tr th {\n",
       "        vertical-align: top;\n",
       "    }\n",
       "\n",
       "    .dataframe thead th {\n",
       "        text-align: right;\n",
       "    }\n",
       "</style>\n",
       "<table border=\"1\" class=\"dataframe\">\n",
       "  <thead>\n",
       "    <tr style=\"text-align: right;\">\n",
       "      <th></th>\n",
       "      <th>id</th>\n",
       "      <th>Group</th>\n",
       "      <th>Per1</th>\n",
       "      <th>Per2</th>\n",
       "      <th>Per3</th>\n",
       "      <th>Per4</th>\n",
       "      <th>Per5</th>\n",
       "      <th>Per6</th>\n",
       "      <th>Per7</th>\n",
       "      <th>Per8</th>\n",
       "      <th>...</th>\n",
       "      <th>Dem9</th>\n",
       "      <th>Cred1</th>\n",
       "      <th>Cred2</th>\n",
       "      <th>Cred3</th>\n",
       "      <th>Cred4</th>\n",
       "      <th>Cred5</th>\n",
       "      <th>Cred6</th>\n",
       "      <th>Normalised_FNT</th>\n",
       "      <th>Target</th>\n",
       "      <th>data</th>\n",
       "    </tr>\n",
       "  </thead>\n",
       "  <tbody>\n",
       "    <tr>\n",
       "      <th>56957</th>\n",
       "      <td>18333</td>\n",
       "      <td>Grp102</td>\n",
       "      <td>0.553333</td>\n",
       "      <td>1.043333</td>\n",
       "      <td>1.096667</td>\n",
       "      <td>0.686667</td>\n",
       "      <td>0.673333</td>\n",
       "      <td>0.340000</td>\n",
       "      <td>0.900000</td>\n",
       "      <td>0.643333</td>\n",
       "      <td>...</td>\n",
       "      <td>0.433333</td>\n",
       "      <td>0.660000</td>\n",
       "      <td>0.776667</td>\n",
       "      <td>0.610000</td>\n",
       "      <td>0.690000</td>\n",
       "      <td>0.750000</td>\n",
       "      <td>0.700000</td>\n",
       "      <td>-249.5050</td>\n",
       "      <td>NaN</td>\n",
       "      <td>test</td>\n",
       "    </tr>\n",
       "    <tr>\n",
       "      <th>56958</th>\n",
       "      <td>244207</td>\n",
       "      <td>Grp504</td>\n",
       "      <td>1.353333</td>\n",
       "      <td>0.616667</td>\n",
       "      <td>0.276667</td>\n",
       "      <td>0.783333</td>\n",
       "      <td>0.690000</td>\n",
       "      <td>0.650000</td>\n",
       "      <td>0.473333</td>\n",
       "      <td>0.670000</td>\n",
       "      <td>...</td>\n",
       "      <td>0.870000</td>\n",
       "      <td>0.683333</td>\n",
       "      <td>0.690000</td>\n",
       "      <td>0.640000</td>\n",
       "      <td>0.883333</td>\n",
       "      <td>0.663333</td>\n",
       "      <td>0.660000</td>\n",
       "      <td>-248.7525</td>\n",
       "      <td>NaN</td>\n",
       "      <td>test</td>\n",
       "    </tr>\n",
       "    <tr>\n",
       "      <th>56959</th>\n",
       "      <td>103277</td>\n",
       "      <td>Grp78</td>\n",
       "      <td>1.083333</td>\n",
       "      <td>0.433333</td>\n",
       "      <td>0.806667</td>\n",
       "      <td>0.490000</td>\n",
       "      <td>0.243333</td>\n",
       "      <td>0.316667</td>\n",
       "      <td>0.533333</td>\n",
       "      <td>0.606667</td>\n",
       "      <td>...</td>\n",
       "      <td>0.063333</td>\n",
       "      <td>0.753333</td>\n",
       "      <td>0.780000</td>\n",
       "      <td>0.603333</td>\n",
       "      <td>0.880000</td>\n",
       "      <td>0.643333</td>\n",
       "      <td>0.676667</td>\n",
       "      <td>-231.0500</td>\n",
       "      <td>NaN</td>\n",
       "      <td>test</td>\n",
       "    </tr>\n",
       "    <tr>\n",
       "      <th>56960</th>\n",
       "      <td>273294</td>\n",
       "      <td>Grp134</td>\n",
       "      <td>0.566667</td>\n",
       "      <td>1.153333</td>\n",
       "      <td>0.370000</td>\n",
       "      <td>0.616667</td>\n",
       "      <td>0.793333</td>\n",
       "      <td>0.226667</td>\n",
       "      <td>0.910000</td>\n",
       "      <td>0.696667</td>\n",
       "      <td>...</td>\n",
       "      <td>1.026667</td>\n",
       "      <td>0.626667</td>\n",
       "      <td>0.646667</td>\n",
       "      <td>0.566667</td>\n",
       "      <td>0.616667</td>\n",
       "      <td>0.713333</td>\n",
       "      <td>0.706667</td>\n",
       "      <td>-246.3150</td>\n",
       "      <td>NaN</td>\n",
       "      <td>test</td>\n",
       "    </tr>\n",
       "    <tr>\n",
       "      <th>56961</th>\n",
       "      <td>223337</td>\n",
       "      <td>Grp18</td>\n",
       "      <td>1.426667</td>\n",
       "      <td>0.110000</td>\n",
       "      <td>-0.006667</td>\n",
       "      <td>-0.200000</td>\n",
       "      <td>0.983333</td>\n",
       "      <td>1.870000</td>\n",
       "      <td>0.033333</td>\n",
       "      <td>0.963333</td>\n",
       "      <td>...</td>\n",
       "      <td>0.670000</td>\n",
       "      <td>0.770000</td>\n",
       "      <td>0.893333</td>\n",
       "      <td>0.586667</td>\n",
       "      <td>0.616667</td>\n",
       "      <td>0.683333</td>\n",
       "      <td>0.650000</td>\n",
       "      <td>-248.4500</td>\n",
       "      <td>NaN</td>\n",
       "      <td>test</td>\n",
       "    </tr>\n",
       "  </tbody>\n",
       "</table>\n",
       "<p>5 rows × 29 columns</p>\n",
       "</div>"
      ],
      "text/plain": [
       "           id   Group      Per1      Per2      Per3      Per4      Per5  \\\n",
       "56957   18333  Grp102  0.553333  1.043333  1.096667  0.686667  0.673333   \n",
       "56958  244207  Grp504  1.353333  0.616667  0.276667  0.783333  0.690000   \n",
       "56959  103277   Grp78  1.083333  0.433333  0.806667  0.490000  0.243333   \n",
       "56960  273294  Grp134  0.566667  1.153333  0.370000  0.616667  0.793333   \n",
       "56961  223337   Grp18  1.426667  0.110000 -0.006667 -0.200000  0.983333   \n",
       "\n",
       "           Per6      Per7      Per8  ...      Dem9     Cred1     Cred2  \\\n",
       "56957  0.340000  0.900000  0.643333  ...  0.433333  0.660000  0.776667   \n",
       "56958  0.650000  0.473333  0.670000  ...  0.870000  0.683333  0.690000   \n",
       "56959  0.316667  0.533333  0.606667  ...  0.063333  0.753333  0.780000   \n",
       "56960  0.226667  0.910000  0.696667  ...  1.026667  0.626667  0.646667   \n",
       "56961  1.870000  0.033333  0.963333  ...  0.670000  0.770000  0.893333   \n",
       "\n",
       "          Cred3     Cred4     Cred5     Cred6  Normalised_FNT  Target  data  \n",
       "56957  0.610000  0.690000  0.750000  0.700000       -249.5050     NaN  test  \n",
       "56958  0.640000  0.883333  0.663333  0.660000       -248.7525     NaN  test  \n",
       "56959  0.603333  0.880000  0.643333  0.676667       -231.0500     NaN  test  \n",
       "56960  0.566667  0.616667  0.713333  0.706667       -246.3150     NaN  test  \n",
       "56961  0.586667  0.616667  0.683333  0.650000       -248.4500     NaN  test  \n",
       "\n",
       "[5 rows x 29 columns]"
      ]
     },
     "execution_count": 46,
     "metadata": {},
     "output_type": "execute_result"
    }
   ],
   "source": [
    "all_data.tail()"
   ]
  },
  {
   "cell_type": "code",
   "execution_count": null,
   "id": "7c660260",
   "metadata": {
    "id": "7c660260",
    "outputId": "05c8a240-2e96-48a8-ebc3-aa8253945951"
   },
   "outputs": [
    {
     "data": {
      "text/plain": [
       "(284807, 29)"
      ]
     },
     "execution_count": 47,
     "metadata": {},
     "output_type": "execute_result"
    }
   ],
   "source": [
    "all_data.shape"
   ]
  },
  {
   "cell_type": "code",
   "execution_count": null,
   "id": "06ca0e97",
   "metadata": {
    "id": "06ca0e97",
    "outputId": "4b86a51c-f04e-4ccf-fcdd-cb6532edbf23"
   },
   "outputs": [
    {
     "data": {
      "text/html": [
       "<div>\n",
       "<style scoped>\n",
       "    .dataframe tbody tr th:only-of-type {\n",
       "        vertical-align: middle;\n",
       "    }\n",
       "\n",
       "    .dataframe tbody tr th {\n",
       "        vertical-align: top;\n",
       "    }\n",
       "\n",
       "    .dataframe thead th {\n",
       "        text-align: right;\n",
       "    }\n",
       "</style>\n",
       "<table border=\"1\" class=\"dataframe\">\n",
       "  <thead>\n",
       "    <tr style=\"text-align: right;\">\n",
       "      <th></th>\n",
       "      <th>geo_score</th>\n",
       "    </tr>\n",
       "    <tr>\n",
       "      <th>id</th>\n",
       "      <th></th>\n",
       "    </tr>\n",
       "  </thead>\n",
       "  <tbody>\n",
       "    <tr>\n",
       "      <th>0</th>\n",
       "      <td>-0.62</td>\n",
       "    </tr>\n",
       "    <tr>\n",
       "      <th>1</th>\n",
       "      <td>1.07</td>\n",
       "    </tr>\n",
       "  </tbody>\n",
       "</table>\n",
       "</div>"
      ],
      "text/plain": [
       "    geo_score\n",
       "id           \n",
       "0       -0.62\n",
       "1        1.07"
      ]
     },
     "execution_count": 48,
     "metadata": {},
     "output_type": "execute_result"
    }
   ],
   "source": [
    "geo.head(2)"
   ]
  },
  {
   "cell_type": "code",
   "execution_count": null,
   "id": "6cee45b4",
   "metadata": {
    "id": "6cee45b4"
   },
   "outputs": [],
   "source": [
    "# append geo dataset with all_data\n",
    "all_data = pd.merge(all_data, geo, on='id', how='left')"
   ]
  },
  {
   "cell_type": "code",
   "execution_count": null,
   "id": "beb8ffbb",
   "metadata": {
    "id": "beb8ffbb",
    "outputId": "ba6fceef-94fd-4e3f-bdaf-69dfc69c406e"
   },
   "outputs": [
    {
     "data": {
      "text/html": [
       "<div>\n",
       "<style scoped>\n",
       "    .dataframe tbody tr th:only-of-type {\n",
       "        vertical-align: middle;\n",
       "    }\n",
       "\n",
       "    .dataframe tbody tr th {\n",
       "        vertical-align: top;\n",
       "    }\n",
       "\n",
       "    .dataframe thead th {\n",
       "        text-align: right;\n",
       "    }\n",
       "</style>\n",
       "<table border=\"1\" class=\"dataframe\">\n",
       "  <thead>\n",
       "    <tr style=\"text-align: right;\">\n",
       "      <th></th>\n",
       "      <th>id</th>\n",
       "      <th>Group</th>\n",
       "      <th>Per1</th>\n",
       "      <th>Per2</th>\n",
       "      <th>Per3</th>\n",
       "      <th>Per4</th>\n",
       "      <th>Per5</th>\n",
       "      <th>Per6</th>\n",
       "      <th>Per7</th>\n",
       "      <th>Per8</th>\n",
       "      <th>...</th>\n",
       "      <th>Cred1</th>\n",
       "      <th>Cred2</th>\n",
       "      <th>Cred3</th>\n",
       "      <th>Cred4</th>\n",
       "      <th>Cred5</th>\n",
       "      <th>Cred6</th>\n",
       "      <th>Normalised_FNT</th>\n",
       "      <th>Target</th>\n",
       "      <th>data</th>\n",
       "      <th>geo_score</th>\n",
       "    </tr>\n",
       "  </thead>\n",
       "  <tbody>\n",
       "    <tr>\n",
       "      <th>0</th>\n",
       "      <td>112751</td>\n",
       "      <td>Grp169</td>\n",
       "      <td>1.070000</td>\n",
       "      <td>0.580000</td>\n",
       "      <td>0.480000</td>\n",
       "      <td>0.766667</td>\n",
       "      <td>1.233333</td>\n",
       "      <td>1.993333</td>\n",
       "      <td>0.340000</td>\n",
       "      <td>1.010000</td>\n",
       "      <td>...</td>\n",
       "      <td>0.606667</td>\n",
       "      <td>1.010000</td>\n",
       "      <td>0.933333</td>\n",
       "      <td>0.603333</td>\n",
       "      <td>0.686667</td>\n",
       "      <td>0.673333</td>\n",
       "      <td>-245.7500</td>\n",
       "      <td>0.0</td>\n",
       "      <td>train</td>\n",
       "      <td>0.22</td>\n",
       "    </tr>\n",
       "    <tr>\n",
       "      <th>1</th>\n",
       "      <td>18495</td>\n",
       "      <td>Grp161</td>\n",
       "      <td>0.473333</td>\n",
       "      <td>1.206667</td>\n",
       "      <td>0.883333</td>\n",
       "      <td>1.430000</td>\n",
       "      <td>0.726667</td>\n",
       "      <td>0.626667</td>\n",
       "      <td>0.810000</td>\n",
       "      <td>0.783333</td>\n",
       "      <td>...</td>\n",
       "      <td>0.680000</td>\n",
       "      <td>0.690000</td>\n",
       "      <td>0.560000</td>\n",
       "      <td>0.670000</td>\n",
       "      <td>0.553333</td>\n",
       "      <td>0.653333</td>\n",
       "      <td>-248.0000</td>\n",
       "      <td>0.0</td>\n",
       "      <td>train</td>\n",
       "      <td>-0.25</td>\n",
       "    </tr>\n",
       "    <tr>\n",
       "      <th>2</th>\n",
       "      <td>23915</td>\n",
       "      <td>Grp261</td>\n",
       "      <td>1.130000</td>\n",
       "      <td>0.143333</td>\n",
       "      <td>0.946667</td>\n",
       "      <td>0.123333</td>\n",
       "      <td>0.080000</td>\n",
       "      <td>0.836667</td>\n",
       "      <td>0.056667</td>\n",
       "      <td>0.756667</td>\n",
       "      <td>...</td>\n",
       "      <td>0.600000</td>\n",
       "      <td>0.383333</td>\n",
       "      <td>0.763333</td>\n",
       "      <td>0.670000</td>\n",
       "      <td>0.686667</td>\n",
       "      <td>0.673333</td>\n",
       "      <td>-233.1250</td>\n",
       "      <td>0.0</td>\n",
       "      <td>train</td>\n",
       "      <td>-0.95</td>\n",
       "    </tr>\n",
       "    <tr>\n",
       "      <th>3</th>\n",
       "      <td>50806</td>\n",
       "      <td>Grp198</td>\n",
       "      <td>0.636667</td>\n",
       "      <td>1.090000</td>\n",
       "      <td>0.750000</td>\n",
       "      <td>0.940000</td>\n",
       "      <td>0.743333</td>\n",
       "      <td>0.346667</td>\n",
       "      <td>0.956667</td>\n",
       "      <td>0.633333</td>\n",
       "      <td>...</td>\n",
       "      <td>0.680000</td>\n",
       "      <td>0.846667</td>\n",
       "      <td>0.423333</td>\n",
       "      <td>0.520000</td>\n",
       "      <td>0.846667</td>\n",
       "      <td>0.760000</td>\n",
       "      <td>-249.7775</td>\n",
       "      <td>0.0</td>\n",
       "      <td>train</td>\n",
       "      <td>0.49</td>\n",
       "    </tr>\n",
       "    <tr>\n",
       "      <th>4</th>\n",
       "      <td>184244</td>\n",
       "      <td>Grp228</td>\n",
       "      <td>0.560000</td>\n",
       "      <td>1.013333</td>\n",
       "      <td>0.593333</td>\n",
       "      <td>0.416667</td>\n",
       "      <td>0.773333</td>\n",
       "      <td>0.460000</td>\n",
       "      <td>0.853333</td>\n",
       "      <td>0.796667</td>\n",
       "      <td>...</td>\n",
       "      <td>0.693333</td>\n",
       "      <td>0.526667</td>\n",
       "      <td>0.520000</td>\n",
       "      <td>0.716667</td>\n",
       "      <td>0.706667</td>\n",
       "      <td>0.673333</td>\n",
       "      <td>-247.5775</td>\n",
       "      <td>0.0</td>\n",
       "      <td>train</td>\n",
       "      <td>0.85</td>\n",
       "    </tr>\n",
       "  </tbody>\n",
       "</table>\n",
       "<p>5 rows × 30 columns</p>\n",
       "</div>"
      ],
      "text/plain": [
       "       id   Group      Per1      Per2      Per3      Per4      Per5      Per6  \\\n",
       "0  112751  Grp169  1.070000  0.580000  0.480000  0.766667  1.233333  1.993333   \n",
       "1   18495  Grp161  0.473333  1.206667  0.883333  1.430000  0.726667  0.626667   \n",
       "2   23915  Grp261  1.130000  0.143333  0.946667  0.123333  0.080000  0.836667   \n",
       "3   50806  Grp198  0.636667  1.090000  0.750000  0.940000  0.743333  0.346667   \n",
       "4  184244  Grp228  0.560000  1.013333  0.593333  0.416667  0.773333  0.460000   \n",
       "\n",
       "       Per7      Per8  ...     Cred1     Cred2     Cred3     Cred4     Cred5  \\\n",
       "0  0.340000  1.010000  ...  0.606667  1.010000  0.933333  0.603333  0.686667   \n",
       "1  0.810000  0.783333  ...  0.680000  0.690000  0.560000  0.670000  0.553333   \n",
       "2  0.056667  0.756667  ...  0.600000  0.383333  0.763333  0.670000  0.686667   \n",
       "3  0.956667  0.633333  ...  0.680000  0.846667  0.423333  0.520000  0.846667   \n",
       "4  0.853333  0.796667  ...  0.693333  0.526667  0.520000  0.716667  0.706667   \n",
       "\n",
       "      Cred6  Normalised_FNT  Target   data  geo_score  \n",
       "0  0.673333       -245.7500     0.0  train       0.22  \n",
       "1  0.653333       -248.0000     0.0  train      -0.25  \n",
       "2  0.673333       -233.1250     0.0  train      -0.95  \n",
       "3  0.760000       -249.7775     0.0  train       0.49  \n",
       "4  0.673333       -247.5775     0.0  train       0.85  \n",
       "\n",
       "[5 rows x 30 columns]"
      ]
     },
     "execution_count": 50,
     "metadata": {},
     "output_type": "execute_result"
    }
   ],
   "source": [
    "all_data.head()"
   ]
  },
  {
   "cell_type": "code",
   "execution_count": null,
   "id": "e056db90",
   "metadata": {
    "id": "e056db90",
    "outputId": "93f055c7-8920-4270-fad7-eedeadef8875"
   },
   "outputs": [
    {
     "data": {
      "text/plain": [
       "(284807, 30)"
      ]
     },
     "execution_count": 51,
     "metadata": {},
     "output_type": "execute_result"
    }
   ],
   "source": [
    "all_data.shape"
   ]
  },
  {
   "cell_type": "code",
   "execution_count": null,
   "id": "be48879b",
   "metadata": {
    "id": "be48879b"
   },
   "outputs": [],
   "source": [
    "# append instance dataset with all_data\n",
    "# append quests dataset with all_data\n",
    "\n",
    "all_data = pd.merge(all_data, instance, on='id', how='left')"
   ]
  },
  {
   "cell_type": "code",
   "execution_count": null,
   "id": "9e34c3a0",
   "metadata": {
    "id": "9e34c3a0",
    "outputId": "7de2cace-e601-48dd-d634-b888058aec60"
   },
   "outputs": [
    {
     "data": {
      "text/html": [
       "<div>\n",
       "<style scoped>\n",
       "    .dataframe tbody tr th:only-of-type {\n",
       "        vertical-align: middle;\n",
       "    }\n",
       "\n",
       "    .dataframe tbody tr th {\n",
       "        vertical-align: top;\n",
       "    }\n",
       "\n",
       "    .dataframe thead th {\n",
       "        text-align: right;\n",
       "    }\n",
       "</style>\n",
       "<table border=\"1\" class=\"dataframe\">\n",
       "  <thead>\n",
       "    <tr style=\"text-align: right;\">\n",
       "      <th></th>\n",
       "      <th>id</th>\n",
       "      <th>Group</th>\n",
       "      <th>Per1</th>\n",
       "      <th>Per2</th>\n",
       "      <th>Per3</th>\n",
       "      <th>Per4</th>\n",
       "      <th>Per5</th>\n",
       "      <th>Per6</th>\n",
       "      <th>Per7</th>\n",
       "      <th>Per8</th>\n",
       "      <th>...</th>\n",
       "      <th>Cred2</th>\n",
       "      <th>Cred3</th>\n",
       "      <th>Cred4</th>\n",
       "      <th>Cred5</th>\n",
       "      <th>Cred6</th>\n",
       "      <th>Normalised_FNT</th>\n",
       "      <th>Target</th>\n",
       "      <th>data</th>\n",
       "      <th>geo_score</th>\n",
       "      <th>instance_scores</th>\n",
       "    </tr>\n",
       "  </thead>\n",
       "  <tbody>\n",
       "    <tr>\n",
       "      <th>0</th>\n",
       "      <td>112751</td>\n",
       "      <td>Grp169</td>\n",
       "      <td>1.070000</td>\n",
       "      <td>0.580000</td>\n",
       "      <td>0.480000</td>\n",
       "      <td>0.766667</td>\n",
       "      <td>1.233333</td>\n",
       "      <td>1.993333</td>\n",
       "      <td>0.340000</td>\n",
       "      <td>1.010000</td>\n",
       "      <td>...</td>\n",
       "      <td>1.010000</td>\n",
       "      <td>0.933333</td>\n",
       "      <td>0.603333</td>\n",
       "      <td>0.686667</td>\n",
       "      <td>0.673333</td>\n",
       "      <td>-245.7500</td>\n",
       "      <td>0.0</td>\n",
       "      <td>train</td>\n",
       "      <td>0.22</td>\n",
       "      <td>-0.06</td>\n",
       "    </tr>\n",
       "    <tr>\n",
       "      <th>1</th>\n",
       "      <td>18495</td>\n",
       "      <td>Grp161</td>\n",
       "      <td>0.473333</td>\n",
       "      <td>1.206667</td>\n",
       "      <td>0.883333</td>\n",
       "      <td>1.430000</td>\n",
       "      <td>0.726667</td>\n",
       "      <td>0.626667</td>\n",
       "      <td>0.810000</td>\n",
       "      <td>0.783333</td>\n",
       "      <td>...</td>\n",
       "      <td>0.690000</td>\n",
       "      <td>0.560000</td>\n",
       "      <td>0.670000</td>\n",
       "      <td>0.553333</td>\n",
       "      <td>0.653333</td>\n",
       "      <td>-248.0000</td>\n",
       "      <td>0.0</td>\n",
       "      <td>train</td>\n",
       "      <td>-0.25</td>\n",
       "      <td>0.52</td>\n",
       "    </tr>\n",
       "    <tr>\n",
       "      <th>2</th>\n",
       "      <td>23915</td>\n",
       "      <td>Grp261</td>\n",
       "      <td>1.130000</td>\n",
       "      <td>0.143333</td>\n",
       "      <td>0.946667</td>\n",
       "      <td>0.123333</td>\n",
       "      <td>0.080000</td>\n",
       "      <td>0.836667</td>\n",
       "      <td>0.056667</td>\n",
       "      <td>0.756667</td>\n",
       "      <td>...</td>\n",
       "      <td>0.383333</td>\n",
       "      <td>0.763333</td>\n",
       "      <td>0.670000</td>\n",
       "      <td>0.686667</td>\n",
       "      <td>0.673333</td>\n",
       "      <td>-233.1250</td>\n",
       "      <td>0.0</td>\n",
       "      <td>train</td>\n",
       "      <td>-0.95</td>\n",
       "      <td>1.56</td>\n",
       "    </tr>\n",
       "    <tr>\n",
       "      <th>3</th>\n",
       "      <td>50806</td>\n",
       "      <td>Grp198</td>\n",
       "      <td>0.636667</td>\n",
       "      <td>1.090000</td>\n",
       "      <td>0.750000</td>\n",
       "      <td>0.940000</td>\n",
       "      <td>0.743333</td>\n",
       "      <td>0.346667</td>\n",
       "      <td>0.956667</td>\n",
       "      <td>0.633333</td>\n",
       "      <td>...</td>\n",
       "      <td>0.846667</td>\n",
       "      <td>0.423333</td>\n",
       "      <td>0.520000</td>\n",
       "      <td>0.846667</td>\n",
       "      <td>0.760000</td>\n",
       "      <td>-249.7775</td>\n",
       "      <td>0.0</td>\n",
       "      <td>train</td>\n",
       "      <td>0.49</td>\n",
       "      <td>0.70</td>\n",
       "    </tr>\n",
       "    <tr>\n",
       "      <th>4</th>\n",
       "      <td>184244</td>\n",
       "      <td>Grp228</td>\n",
       "      <td>0.560000</td>\n",
       "      <td>1.013333</td>\n",
       "      <td>0.593333</td>\n",
       "      <td>0.416667</td>\n",
       "      <td>0.773333</td>\n",
       "      <td>0.460000</td>\n",
       "      <td>0.853333</td>\n",
       "      <td>0.796667</td>\n",
       "      <td>...</td>\n",
       "      <td>0.526667</td>\n",
       "      <td>0.520000</td>\n",
       "      <td>0.716667</td>\n",
       "      <td>0.706667</td>\n",
       "      <td>0.673333</td>\n",
       "      <td>-247.5775</td>\n",
       "      <td>0.0</td>\n",
       "      <td>train</td>\n",
       "      <td>0.85</td>\n",
       "      <td>-0.47</td>\n",
       "    </tr>\n",
       "  </tbody>\n",
       "</table>\n",
       "<p>5 rows × 31 columns</p>\n",
       "</div>"
      ],
      "text/plain": [
       "       id   Group      Per1      Per2      Per3      Per4      Per5      Per6  \\\n",
       "0  112751  Grp169  1.070000  0.580000  0.480000  0.766667  1.233333  1.993333   \n",
       "1   18495  Grp161  0.473333  1.206667  0.883333  1.430000  0.726667  0.626667   \n",
       "2   23915  Grp261  1.130000  0.143333  0.946667  0.123333  0.080000  0.836667   \n",
       "3   50806  Grp198  0.636667  1.090000  0.750000  0.940000  0.743333  0.346667   \n",
       "4  184244  Grp228  0.560000  1.013333  0.593333  0.416667  0.773333  0.460000   \n",
       "\n",
       "       Per7      Per8  ...     Cred2     Cred3     Cred4     Cred5     Cred6  \\\n",
       "0  0.340000  1.010000  ...  1.010000  0.933333  0.603333  0.686667  0.673333   \n",
       "1  0.810000  0.783333  ...  0.690000  0.560000  0.670000  0.553333  0.653333   \n",
       "2  0.056667  0.756667  ...  0.383333  0.763333  0.670000  0.686667  0.673333   \n",
       "3  0.956667  0.633333  ...  0.846667  0.423333  0.520000  0.846667  0.760000   \n",
       "4  0.853333  0.796667  ...  0.526667  0.520000  0.716667  0.706667  0.673333   \n",
       "\n",
       "   Normalised_FNT  Target   data  geo_score  instance_scores  \n",
       "0       -245.7500     0.0  train       0.22            -0.06  \n",
       "1       -248.0000     0.0  train      -0.25             0.52  \n",
       "2       -233.1250     0.0  train      -0.95             1.56  \n",
       "3       -249.7775     0.0  train       0.49             0.70  \n",
       "4       -247.5775     0.0  train       0.85            -0.47  \n",
       "\n",
       "[5 rows x 31 columns]"
      ]
     },
     "execution_count": 53,
     "metadata": {},
     "output_type": "execute_result"
    }
   ],
   "source": [
    "all_data.head()"
   ]
  },
  {
   "cell_type": "code",
   "execution_count": null,
   "id": "16c85105",
   "metadata": {
    "id": "16c85105"
   },
   "outputs": [],
   "source": [
    "all_data = pd.merge(all_data, qsets, on='id', how='left')"
   ]
  },
  {
   "cell_type": "code",
   "execution_count": null,
   "id": "c68ebed0",
   "metadata": {
    "id": "c68ebed0",
    "outputId": "5aa56b05-4fc5-4602-ffd0-ee5b695460bb"
   },
   "outputs": [
    {
     "data": {
      "text/html": [
       "<div>\n",
       "<style scoped>\n",
       "    .dataframe tbody tr th:only-of-type {\n",
       "        vertical-align: middle;\n",
       "    }\n",
       "\n",
       "    .dataframe tbody tr th {\n",
       "        vertical-align: top;\n",
       "    }\n",
       "\n",
       "    .dataframe thead th {\n",
       "        text-align: right;\n",
       "    }\n",
       "</style>\n",
       "<table border=\"1\" class=\"dataframe\">\n",
       "  <thead>\n",
       "    <tr style=\"text-align: right;\">\n",
       "      <th></th>\n",
       "      <th>id</th>\n",
       "      <th>Group</th>\n",
       "      <th>Per1</th>\n",
       "      <th>Per2</th>\n",
       "      <th>Per3</th>\n",
       "      <th>Per4</th>\n",
       "      <th>Per5</th>\n",
       "      <th>Per6</th>\n",
       "      <th>Per7</th>\n",
       "      <th>Per8</th>\n",
       "      <th>...</th>\n",
       "      <th>Cred3</th>\n",
       "      <th>Cred4</th>\n",
       "      <th>Cred5</th>\n",
       "      <th>Cred6</th>\n",
       "      <th>Normalised_FNT</th>\n",
       "      <th>Target</th>\n",
       "      <th>data</th>\n",
       "      <th>geo_score</th>\n",
       "      <th>instance_scores</th>\n",
       "      <th>qsets_normalized_tat</th>\n",
       "    </tr>\n",
       "  </thead>\n",
       "  <tbody>\n",
       "    <tr>\n",
       "      <th>0</th>\n",
       "      <td>112751</td>\n",
       "      <td>Grp169</td>\n",
       "      <td>1.070000</td>\n",
       "      <td>0.580000</td>\n",
       "      <td>0.480000</td>\n",
       "      <td>0.766667</td>\n",
       "      <td>1.233333</td>\n",
       "      <td>1.993333</td>\n",
       "      <td>0.340000</td>\n",
       "      <td>1.010000</td>\n",
       "      <td>...</td>\n",
       "      <td>0.933333</td>\n",
       "      <td>0.603333</td>\n",
       "      <td>0.686667</td>\n",
       "      <td>0.673333</td>\n",
       "      <td>-245.7500</td>\n",
       "      <td>0.0</td>\n",
       "      <td>train</td>\n",
       "      <td>0.22</td>\n",
       "      <td>-0.06</td>\n",
       "      <td>-0.70</td>\n",
       "    </tr>\n",
       "    <tr>\n",
       "      <th>1</th>\n",
       "      <td>18495</td>\n",
       "      <td>Grp161</td>\n",
       "      <td>0.473333</td>\n",
       "      <td>1.206667</td>\n",
       "      <td>0.883333</td>\n",
       "      <td>1.430000</td>\n",
       "      <td>0.726667</td>\n",
       "      <td>0.626667</td>\n",
       "      <td>0.810000</td>\n",
       "      <td>0.783333</td>\n",
       "      <td>...</td>\n",
       "      <td>0.560000</td>\n",
       "      <td>0.670000</td>\n",
       "      <td>0.553333</td>\n",
       "      <td>0.653333</td>\n",
       "      <td>-248.0000</td>\n",
       "      <td>0.0</td>\n",
       "      <td>train</td>\n",
       "      <td>-0.25</td>\n",
       "      <td>0.52</td>\n",
       "      <td>0.14</td>\n",
       "    </tr>\n",
       "    <tr>\n",
       "      <th>2</th>\n",
       "      <td>23915</td>\n",
       "      <td>Grp261</td>\n",
       "      <td>1.130000</td>\n",
       "      <td>0.143333</td>\n",
       "      <td>0.946667</td>\n",
       "      <td>0.123333</td>\n",
       "      <td>0.080000</td>\n",
       "      <td>0.836667</td>\n",
       "      <td>0.056667</td>\n",
       "      <td>0.756667</td>\n",
       "      <td>...</td>\n",
       "      <td>0.763333</td>\n",
       "      <td>0.670000</td>\n",
       "      <td>0.686667</td>\n",
       "      <td>0.673333</td>\n",
       "      <td>-233.1250</td>\n",
       "      <td>0.0</td>\n",
       "      <td>train</td>\n",
       "      <td>-0.95</td>\n",
       "      <td>1.56</td>\n",
       "      <td>-0.43</td>\n",
       "    </tr>\n",
       "    <tr>\n",
       "      <th>3</th>\n",
       "      <td>50806</td>\n",
       "      <td>Grp198</td>\n",
       "      <td>0.636667</td>\n",
       "      <td>1.090000</td>\n",
       "      <td>0.750000</td>\n",
       "      <td>0.940000</td>\n",
       "      <td>0.743333</td>\n",
       "      <td>0.346667</td>\n",
       "      <td>0.956667</td>\n",
       "      <td>0.633333</td>\n",
       "      <td>...</td>\n",
       "      <td>0.423333</td>\n",
       "      <td>0.520000</td>\n",
       "      <td>0.846667</td>\n",
       "      <td>0.760000</td>\n",
       "      <td>-249.7775</td>\n",
       "      <td>0.0</td>\n",
       "      <td>train</td>\n",
       "      <td>0.49</td>\n",
       "      <td>0.70</td>\n",
       "      <td>-0.31</td>\n",
       "    </tr>\n",
       "    <tr>\n",
       "      <th>4</th>\n",
       "      <td>184244</td>\n",
       "      <td>Grp228</td>\n",
       "      <td>0.560000</td>\n",
       "      <td>1.013333</td>\n",
       "      <td>0.593333</td>\n",
       "      <td>0.416667</td>\n",
       "      <td>0.773333</td>\n",
       "      <td>0.460000</td>\n",
       "      <td>0.853333</td>\n",
       "      <td>0.796667</td>\n",
       "      <td>...</td>\n",
       "      <td>0.520000</td>\n",
       "      <td>0.716667</td>\n",
       "      <td>0.706667</td>\n",
       "      <td>0.673333</td>\n",
       "      <td>-247.5775</td>\n",
       "      <td>0.0</td>\n",
       "      <td>train</td>\n",
       "      <td>0.85</td>\n",
       "      <td>-0.47</td>\n",
       "      <td>-0.63</td>\n",
       "    </tr>\n",
       "  </tbody>\n",
       "</table>\n",
       "<p>5 rows × 32 columns</p>\n",
       "</div>"
      ],
      "text/plain": [
       "       id   Group      Per1      Per2      Per3      Per4      Per5      Per6  \\\n",
       "0  112751  Grp169  1.070000  0.580000  0.480000  0.766667  1.233333  1.993333   \n",
       "1   18495  Grp161  0.473333  1.206667  0.883333  1.430000  0.726667  0.626667   \n",
       "2   23915  Grp261  1.130000  0.143333  0.946667  0.123333  0.080000  0.836667   \n",
       "3   50806  Grp198  0.636667  1.090000  0.750000  0.940000  0.743333  0.346667   \n",
       "4  184244  Grp228  0.560000  1.013333  0.593333  0.416667  0.773333  0.460000   \n",
       "\n",
       "       Per7      Per8  ...     Cred3     Cred4     Cred5     Cred6  \\\n",
       "0  0.340000  1.010000  ...  0.933333  0.603333  0.686667  0.673333   \n",
       "1  0.810000  0.783333  ...  0.560000  0.670000  0.553333  0.653333   \n",
       "2  0.056667  0.756667  ...  0.763333  0.670000  0.686667  0.673333   \n",
       "3  0.956667  0.633333  ...  0.423333  0.520000  0.846667  0.760000   \n",
       "4  0.853333  0.796667  ...  0.520000  0.716667  0.706667  0.673333   \n",
       "\n",
       "   Normalised_FNT  Target   data  geo_score  instance_scores  \\\n",
       "0       -245.7500     0.0  train       0.22            -0.06   \n",
       "1       -248.0000     0.0  train      -0.25             0.52   \n",
       "2       -233.1250     0.0  train      -0.95             1.56   \n",
       "3       -249.7775     0.0  train       0.49             0.70   \n",
       "4       -247.5775     0.0  train       0.85            -0.47   \n",
       "\n",
       "   qsets_normalized_tat  \n",
       "0                 -0.70  \n",
       "1                  0.14  \n",
       "2                 -0.43  \n",
       "3                 -0.31  \n",
       "4                 -0.63  \n",
       "\n",
       "[5 rows x 32 columns]"
      ]
     },
     "execution_count": 55,
     "metadata": {},
     "output_type": "execute_result"
    }
   ],
   "source": [
    "all_data.head()"
   ]
  },
  {
   "cell_type": "code",
   "execution_count": null,
   "id": "8232019c",
   "metadata": {
    "id": "8232019c",
    "outputId": "d0c290f6-5f0b-49d5-cf9c-520d146ffe4e"
   },
   "outputs": [
    {
     "data": {
      "text/html": [
       "<div>\n",
       "<style scoped>\n",
       "    .dataframe tbody tr th:only-of-type {\n",
       "        vertical-align: middle;\n",
       "    }\n",
       "\n",
       "    .dataframe tbody tr th {\n",
       "        vertical-align: top;\n",
       "    }\n",
       "\n",
       "    .dataframe thead th {\n",
       "        text-align: right;\n",
       "    }\n",
       "</style>\n",
       "<table border=\"1\" class=\"dataframe\">\n",
       "  <thead>\n",
       "    <tr style=\"text-align: right;\">\n",
       "      <th></th>\n",
       "      <th>Group</th>\n",
       "      <th>lambda_wt</th>\n",
       "    </tr>\n",
       "  </thead>\n",
       "  <tbody>\n",
       "    <tr>\n",
       "      <th>0</th>\n",
       "      <td>Grp936</td>\n",
       "      <td>3.41</td>\n",
       "    </tr>\n",
       "    <tr>\n",
       "      <th>1</th>\n",
       "      <td>Grp347</td>\n",
       "      <td>-2.88</td>\n",
       "    </tr>\n",
       "  </tbody>\n",
       "</table>\n",
       "</div>"
      ],
      "text/plain": [
       "    Group  lambda_wt\n",
       "0  Grp936       3.41\n",
       "1  Grp347      -2.88"
      ]
     },
     "execution_count": 56,
     "metadata": {},
     "output_type": "execute_result"
    }
   ],
   "source": [
    "lambdawts.head(2)"
   ]
  },
  {
   "cell_type": "code",
   "execution_count": null,
   "id": "9f105044",
   "metadata": {
    "id": "9f105044",
    "outputId": "56cd840c-4fdf-4129-c67f-60248fe9e35e"
   },
   "outputs": [
    {
     "data": {
      "text/plain": [
       "Grp108     1847\n",
       "Grp184     1786\n",
       "Grp70      1771\n",
       "Grp36      1768\n",
       "Grp42      1768\n",
       "           ... \n",
       "Grp730        1\n",
       "Grp1253       1\n",
       "Grp1378       1\n",
       "Grp1364       1\n",
       "Grp996        1\n",
       "Name: Group, Length: 1400, dtype: int64"
      ]
     },
     "execution_count": 57,
     "metadata": {},
     "output_type": "execute_result"
    }
   ],
   "source": [
    "all_data['Group'].value_counts()"
   ]
  },
  {
   "cell_type": "code",
   "execution_count": null,
   "id": "593f1a2f",
   "metadata": {
    "id": "593f1a2f",
    "outputId": "0b8045fd-3e4e-4238-f5b3-84a7a5aab981"
   },
   "outputs": [
    {
     "data": {
      "text/plain": [
       "Grp936     1\n",
       "Grp1128    1\n",
       "Grp341     1\n",
       "Grp63      1\n",
       "Grp173     1\n",
       "          ..\n",
       "Grp337     1\n",
       "Grp649     1\n",
       "Grp1183    1\n",
       "Grp46      1\n",
       "Grp37      1\n",
       "Name: Group, Length: 1400, dtype: int64"
      ]
     },
     "execution_count": 58,
     "metadata": {},
     "output_type": "execute_result"
    }
   ],
   "source": [
    "lambdawts['Group'].value_counts()"
   ]
  },
  {
   "cell_type": "code",
   "execution_count": null,
   "id": "badaa9b5",
   "metadata": {
    "id": "badaa9b5"
   },
   "outputs": [],
   "source": [
    "# lambdawts\n",
    "all_data = pd.merge(all_data, lambdawts, on='Group', how='left')"
   ]
  },
  {
   "cell_type": "code",
   "execution_count": null,
   "id": "fdc73907",
   "metadata": {
    "id": "fdc73907",
    "outputId": "e6369c7c-a10b-41cf-c2b3-71008feb80c1"
   },
   "outputs": [
    {
     "data": {
      "text/html": [
       "<div>\n",
       "<style scoped>\n",
       "    .dataframe tbody tr th:only-of-type {\n",
       "        vertical-align: middle;\n",
       "    }\n",
       "\n",
       "    .dataframe tbody tr th {\n",
       "        vertical-align: top;\n",
       "    }\n",
       "\n",
       "    .dataframe thead th {\n",
       "        text-align: right;\n",
       "    }\n",
       "</style>\n",
       "<table border=\"1\" class=\"dataframe\">\n",
       "  <thead>\n",
       "    <tr style=\"text-align: right;\">\n",
       "      <th></th>\n",
       "      <th>id</th>\n",
       "      <th>Group</th>\n",
       "      <th>Per1</th>\n",
       "      <th>Per2</th>\n",
       "      <th>Per3</th>\n",
       "      <th>Per4</th>\n",
       "      <th>Per5</th>\n",
       "      <th>Per6</th>\n",
       "      <th>Per7</th>\n",
       "      <th>Per8</th>\n",
       "      <th>...</th>\n",
       "      <th>Cred4</th>\n",
       "      <th>Cred5</th>\n",
       "      <th>Cred6</th>\n",
       "      <th>Normalised_FNT</th>\n",
       "      <th>Target</th>\n",
       "      <th>data</th>\n",
       "      <th>geo_score</th>\n",
       "      <th>instance_scores</th>\n",
       "      <th>qsets_normalized_tat</th>\n",
       "      <th>lambda_wt</th>\n",
       "    </tr>\n",
       "  </thead>\n",
       "  <tbody>\n",
       "    <tr>\n",
       "      <th>0</th>\n",
       "      <td>112751</td>\n",
       "      <td>Grp169</td>\n",
       "      <td>1.070000</td>\n",
       "      <td>0.580000</td>\n",
       "      <td>0.480000</td>\n",
       "      <td>0.766667</td>\n",
       "      <td>1.233333</td>\n",
       "      <td>1.993333</td>\n",
       "      <td>0.340000</td>\n",
       "      <td>1.010000</td>\n",
       "      <td>...</td>\n",
       "      <td>0.603333</td>\n",
       "      <td>0.686667</td>\n",
       "      <td>0.673333</td>\n",
       "      <td>-245.7500</td>\n",
       "      <td>0.0</td>\n",
       "      <td>train</td>\n",
       "      <td>0.22</td>\n",
       "      <td>-0.06</td>\n",
       "      <td>-0.70</td>\n",
       "      <td>-0.13</td>\n",
       "    </tr>\n",
       "    <tr>\n",
       "      <th>1</th>\n",
       "      <td>18495</td>\n",
       "      <td>Grp161</td>\n",
       "      <td>0.473333</td>\n",
       "      <td>1.206667</td>\n",
       "      <td>0.883333</td>\n",
       "      <td>1.430000</td>\n",
       "      <td>0.726667</td>\n",
       "      <td>0.626667</td>\n",
       "      <td>0.810000</td>\n",
       "      <td>0.783333</td>\n",
       "      <td>...</td>\n",
       "      <td>0.670000</td>\n",
       "      <td>0.553333</td>\n",
       "      <td>0.653333</td>\n",
       "      <td>-248.0000</td>\n",
       "      <td>0.0</td>\n",
       "      <td>train</td>\n",
       "      <td>-0.25</td>\n",
       "      <td>0.52</td>\n",
       "      <td>0.14</td>\n",
       "      <td>0.66</td>\n",
       "    </tr>\n",
       "    <tr>\n",
       "      <th>2</th>\n",
       "      <td>23915</td>\n",
       "      <td>Grp261</td>\n",
       "      <td>1.130000</td>\n",
       "      <td>0.143333</td>\n",
       "      <td>0.946667</td>\n",
       "      <td>0.123333</td>\n",
       "      <td>0.080000</td>\n",
       "      <td>0.836667</td>\n",
       "      <td>0.056667</td>\n",
       "      <td>0.756667</td>\n",
       "      <td>...</td>\n",
       "      <td>0.670000</td>\n",
       "      <td>0.686667</td>\n",
       "      <td>0.673333</td>\n",
       "      <td>-233.1250</td>\n",
       "      <td>0.0</td>\n",
       "      <td>train</td>\n",
       "      <td>-0.95</td>\n",
       "      <td>1.56</td>\n",
       "      <td>-0.43</td>\n",
       "      <td>-0.51</td>\n",
       "    </tr>\n",
       "    <tr>\n",
       "      <th>3</th>\n",
       "      <td>50806</td>\n",
       "      <td>Grp198</td>\n",
       "      <td>0.636667</td>\n",
       "      <td>1.090000</td>\n",
       "      <td>0.750000</td>\n",
       "      <td>0.940000</td>\n",
       "      <td>0.743333</td>\n",
       "      <td>0.346667</td>\n",
       "      <td>0.956667</td>\n",
       "      <td>0.633333</td>\n",
       "      <td>...</td>\n",
       "      <td>0.520000</td>\n",
       "      <td>0.846667</td>\n",
       "      <td>0.760000</td>\n",
       "      <td>-249.7775</td>\n",
       "      <td>0.0</td>\n",
       "      <td>train</td>\n",
       "      <td>0.49</td>\n",
       "      <td>0.70</td>\n",
       "      <td>-0.31</td>\n",
       "      <td>0.72</td>\n",
       "    </tr>\n",
       "    <tr>\n",
       "      <th>4</th>\n",
       "      <td>184244</td>\n",
       "      <td>Grp228</td>\n",
       "      <td>0.560000</td>\n",
       "      <td>1.013333</td>\n",
       "      <td>0.593333</td>\n",
       "      <td>0.416667</td>\n",
       "      <td>0.773333</td>\n",
       "      <td>0.460000</td>\n",
       "      <td>0.853333</td>\n",
       "      <td>0.796667</td>\n",
       "      <td>...</td>\n",
       "      <td>0.716667</td>\n",
       "      <td>0.706667</td>\n",
       "      <td>0.673333</td>\n",
       "      <td>-247.5775</td>\n",
       "      <td>0.0</td>\n",
       "      <td>train</td>\n",
       "      <td>0.85</td>\n",
       "      <td>-0.47</td>\n",
       "      <td>-0.63</td>\n",
       "      <td>0.60</td>\n",
       "    </tr>\n",
       "  </tbody>\n",
       "</table>\n",
       "<p>5 rows × 33 columns</p>\n",
       "</div>"
      ],
      "text/plain": [
       "       id   Group      Per1      Per2      Per3      Per4      Per5      Per6  \\\n",
       "0  112751  Grp169  1.070000  0.580000  0.480000  0.766667  1.233333  1.993333   \n",
       "1   18495  Grp161  0.473333  1.206667  0.883333  1.430000  0.726667  0.626667   \n",
       "2   23915  Grp261  1.130000  0.143333  0.946667  0.123333  0.080000  0.836667   \n",
       "3   50806  Grp198  0.636667  1.090000  0.750000  0.940000  0.743333  0.346667   \n",
       "4  184244  Grp228  0.560000  1.013333  0.593333  0.416667  0.773333  0.460000   \n",
       "\n",
       "       Per7      Per8  ...     Cred4     Cred5     Cred6  Normalised_FNT  \\\n",
       "0  0.340000  1.010000  ...  0.603333  0.686667  0.673333       -245.7500   \n",
       "1  0.810000  0.783333  ...  0.670000  0.553333  0.653333       -248.0000   \n",
       "2  0.056667  0.756667  ...  0.670000  0.686667  0.673333       -233.1250   \n",
       "3  0.956667  0.633333  ...  0.520000  0.846667  0.760000       -249.7775   \n",
       "4  0.853333  0.796667  ...  0.716667  0.706667  0.673333       -247.5775   \n",
       "\n",
       "   Target   data  geo_score  instance_scores  qsets_normalized_tat  lambda_wt  \n",
       "0     0.0  train       0.22            -0.06                 -0.70      -0.13  \n",
       "1     0.0  train      -0.25             0.52                  0.14       0.66  \n",
       "2     0.0  train      -0.95             1.56                 -0.43      -0.51  \n",
       "3     0.0  train       0.49             0.70                 -0.31       0.72  \n",
       "4     0.0  train       0.85            -0.47                 -0.63       0.60  \n",
       "\n",
       "[5 rows x 33 columns]"
      ]
     },
     "execution_count": 60,
     "metadata": {},
     "output_type": "execute_result"
    }
   ],
   "source": [
    "all_data.head()"
   ]
  },
  {
   "cell_type": "code",
   "execution_count": null,
   "id": "276ea4df",
   "metadata": {
    "id": "276ea4df",
    "outputId": "2c936ca3-2111-439c-e6a1-46944a740fb5"
   },
   "outputs": [
    {
     "data": {
      "text/plain": [
       "id                          0\n",
       "Group                       0\n",
       "Per1                        0\n",
       "Per2                        0\n",
       "Per3                        0\n",
       "Per4                        0\n",
       "Per5                        0\n",
       "Per6                        0\n",
       "Per7                        0\n",
       "Per8                        0\n",
       "Per9                        0\n",
       "Dem1                        0\n",
       "Dem2                        0\n",
       "Dem3                        0\n",
       "Dem4                        0\n",
       "Dem5                        0\n",
       "Dem6                        0\n",
       "Dem7                        0\n",
       "Dem8                        0\n",
       "Dem9                        0\n",
       "Cred1                       0\n",
       "Cred2                       0\n",
       "Cred3                       0\n",
       "Cred4                       0\n",
       "Cred5                       0\n",
       "Cred6                       0\n",
       "Normalised_FNT              0\n",
       "Target                  56962\n",
       "data                        0\n",
       "geo_score                   0\n",
       "instance_scores             0\n",
       "qsets_normalized_tat        0\n",
       "lambda_wt                   0\n",
       "dtype: int64"
      ]
     },
     "execution_count": 61,
     "metadata": {},
     "output_type": "execute_result"
    }
   ],
   "source": [
    "all_data.isnull().sum()"
   ]
  },
  {
   "cell_type": "code",
   "execution_count": null,
   "id": "7420853a",
   "metadata": {
    "id": "7420853a",
    "outputId": "3aec61fe-087c-44a2-c4b2-2b3ce89f0dfa"
   },
   "outputs": [
    {
     "name": "stdout",
     "output_type": "stream",
     "text": [
      "<class 'pandas.core.frame.DataFrame'>\n",
      "Int64Index: 284807 entries, 0 to 284806\n",
      "Data columns (total 33 columns):\n",
      " #   Column                Non-Null Count   Dtype  \n",
      "---  ------                --------------   -----  \n",
      " 0   id                    284807 non-null  int64  \n",
      " 1   Group                 284807 non-null  object \n",
      " 2   Per1                  284807 non-null  float64\n",
      " 3   Per2                  284807 non-null  float64\n",
      " 4   Per3                  284807 non-null  float64\n",
      " 5   Per4                  284807 non-null  float64\n",
      " 6   Per5                  284807 non-null  float64\n",
      " 7   Per6                  284807 non-null  float64\n",
      " 8   Per7                  284807 non-null  float64\n",
      " 9   Per8                  284807 non-null  float64\n",
      " 10  Per9                  284807 non-null  float64\n",
      " 11  Dem1                  284807 non-null  float64\n",
      " 12  Dem2                  284807 non-null  float64\n",
      " 13  Dem3                  284807 non-null  float64\n",
      " 14  Dem4                  284807 non-null  float64\n",
      " 15  Dem5                  284807 non-null  float64\n",
      " 16  Dem6                  284807 non-null  float64\n",
      " 17  Dem7                  284807 non-null  float64\n",
      " 18  Dem8                  284807 non-null  float64\n",
      " 19  Dem9                  284807 non-null  float64\n",
      " 20  Cred1                 284807 non-null  float64\n",
      " 21  Cred2                 284807 non-null  float64\n",
      " 22  Cred3                 284807 non-null  float64\n",
      " 23  Cred4                 284807 non-null  float64\n",
      " 24  Cred5                 284807 non-null  float64\n",
      " 25  Cred6                 284807 non-null  float64\n",
      " 26  Normalised_FNT        284807 non-null  float64\n",
      " 27  Target                227845 non-null  float64\n",
      " 28  data                  284807 non-null  object \n",
      " 29  geo_score             284807 non-null  float64\n",
      " 30  instance_scores       284807 non-null  float64\n",
      " 31  qsets_normalized_tat  284807 non-null  float64\n",
      " 32  lambda_wt             284807 non-null  float64\n",
      "dtypes: float64(30), int64(1), object(2)\n",
      "memory usage: 73.9+ MB\n"
     ]
    }
   ],
   "source": [
    "# check the info\n",
    "all_data.info()"
   ]
  },
  {
   "cell_type": "code",
   "execution_count": null,
   "id": "83c0ec94",
   "metadata": {
    "id": "83c0ec94"
   },
   "outputs": [],
   "source": [
    "# split the data into training and test basis the data variable\n",
    "train = all_data[all_data['data']=='train']\n",
    "test = all_data[all_data['data']=='test']"
   ]
  },
  {
   "cell_type": "code",
   "execution_count": null,
   "id": "97c77e3b",
   "metadata": {
    "id": "97c77e3b",
    "outputId": "08748c0b-9348-4474-a925-c3f3066b06f7"
   },
   "outputs": [
    {
     "data": {
      "text/plain": [
       "(227845, 33)"
      ]
     },
     "execution_count": 64,
     "metadata": {},
     "output_type": "execute_result"
    }
   ],
   "source": [
    "train.shape"
   ]
  },
  {
   "cell_type": "code",
   "execution_count": null,
   "id": "62d13a20",
   "metadata": {
    "id": "62d13a20",
    "outputId": "d4a45799-0523-4899-a583-d369349b49b8"
   },
   "outputs": [
    {
     "data": {
      "text/plain": [
       "(56962, 33)"
      ]
     },
     "execution_count": 65,
     "metadata": {},
     "output_type": "execute_result"
    }
   ],
   "source": [
    "test.shape"
   ]
  },
  {
   "cell_type": "code",
   "execution_count": null,
   "id": "6652d948",
   "metadata": {
    "id": "6652d948",
    "outputId": "a64182f1-4601-452b-e4f5-5c8773830b5e"
   },
   "outputs": [
    {
     "data": {
      "text/html": [
       "<div>\n",
       "<style scoped>\n",
       "    .dataframe tbody tr th:only-of-type {\n",
       "        vertical-align: middle;\n",
       "    }\n",
       "\n",
       "    .dataframe tbody tr th {\n",
       "        vertical-align: top;\n",
       "    }\n",
       "\n",
       "    .dataframe thead th {\n",
       "        text-align: right;\n",
       "    }\n",
       "</style>\n",
       "<table border=\"1\" class=\"dataframe\">\n",
       "  <thead>\n",
       "    <tr style=\"text-align: right;\">\n",
       "      <th></th>\n",
       "      <th>id</th>\n",
       "      <th>Group</th>\n",
       "      <th>Per1</th>\n",
       "      <th>Per2</th>\n",
       "      <th>Per3</th>\n",
       "      <th>Per4</th>\n",
       "      <th>Per5</th>\n",
       "      <th>Per6</th>\n",
       "      <th>Per7</th>\n",
       "      <th>Per8</th>\n",
       "      <th>...</th>\n",
       "      <th>Cred4</th>\n",
       "      <th>Cred5</th>\n",
       "      <th>Cred6</th>\n",
       "      <th>Normalised_FNT</th>\n",
       "      <th>Target</th>\n",
       "      <th>data</th>\n",
       "      <th>geo_score</th>\n",
       "      <th>instance_scores</th>\n",
       "      <th>qsets_normalized_tat</th>\n",
       "      <th>lambda_wt</th>\n",
       "    </tr>\n",
       "  </thead>\n",
       "  <tbody>\n",
       "    <tr>\n",
       "      <th>0</th>\n",
       "      <td>112751</td>\n",
       "      <td>Grp169</td>\n",
       "      <td>1.070000</td>\n",
       "      <td>0.580000</td>\n",
       "      <td>0.480000</td>\n",
       "      <td>0.766667</td>\n",
       "      <td>1.233333</td>\n",
       "      <td>1.993333</td>\n",
       "      <td>0.340000</td>\n",
       "      <td>1.010000</td>\n",
       "      <td>...</td>\n",
       "      <td>0.603333</td>\n",
       "      <td>0.686667</td>\n",
       "      <td>0.673333</td>\n",
       "      <td>-245.7500</td>\n",
       "      <td>0.0</td>\n",
       "      <td>train</td>\n",
       "      <td>0.22</td>\n",
       "      <td>-0.06</td>\n",
       "      <td>-0.70</td>\n",
       "      <td>-0.13</td>\n",
       "    </tr>\n",
       "    <tr>\n",
       "      <th>1</th>\n",
       "      <td>18495</td>\n",
       "      <td>Grp161</td>\n",
       "      <td>0.473333</td>\n",
       "      <td>1.206667</td>\n",
       "      <td>0.883333</td>\n",
       "      <td>1.430000</td>\n",
       "      <td>0.726667</td>\n",
       "      <td>0.626667</td>\n",
       "      <td>0.810000</td>\n",
       "      <td>0.783333</td>\n",
       "      <td>...</td>\n",
       "      <td>0.670000</td>\n",
       "      <td>0.553333</td>\n",
       "      <td>0.653333</td>\n",
       "      <td>-248.0000</td>\n",
       "      <td>0.0</td>\n",
       "      <td>train</td>\n",
       "      <td>-0.25</td>\n",
       "      <td>0.52</td>\n",
       "      <td>0.14</td>\n",
       "      <td>0.66</td>\n",
       "    </tr>\n",
       "    <tr>\n",
       "      <th>2</th>\n",
       "      <td>23915</td>\n",
       "      <td>Grp261</td>\n",
       "      <td>1.130000</td>\n",
       "      <td>0.143333</td>\n",
       "      <td>0.946667</td>\n",
       "      <td>0.123333</td>\n",
       "      <td>0.080000</td>\n",
       "      <td>0.836667</td>\n",
       "      <td>0.056667</td>\n",
       "      <td>0.756667</td>\n",
       "      <td>...</td>\n",
       "      <td>0.670000</td>\n",
       "      <td>0.686667</td>\n",
       "      <td>0.673333</td>\n",
       "      <td>-233.1250</td>\n",
       "      <td>0.0</td>\n",
       "      <td>train</td>\n",
       "      <td>-0.95</td>\n",
       "      <td>1.56</td>\n",
       "      <td>-0.43</td>\n",
       "      <td>-0.51</td>\n",
       "    </tr>\n",
       "    <tr>\n",
       "      <th>3</th>\n",
       "      <td>50806</td>\n",
       "      <td>Grp198</td>\n",
       "      <td>0.636667</td>\n",
       "      <td>1.090000</td>\n",
       "      <td>0.750000</td>\n",
       "      <td>0.940000</td>\n",
       "      <td>0.743333</td>\n",
       "      <td>0.346667</td>\n",
       "      <td>0.956667</td>\n",
       "      <td>0.633333</td>\n",
       "      <td>...</td>\n",
       "      <td>0.520000</td>\n",
       "      <td>0.846667</td>\n",
       "      <td>0.760000</td>\n",
       "      <td>-249.7775</td>\n",
       "      <td>0.0</td>\n",
       "      <td>train</td>\n",
       "      <td>0.49</td>\n",
       "      <td>0.70</td>\n",
       "      <td>-0.31</td>\n",
       "      <td>0.72</td>\n",
       "    </tr>\n",
       "    <tr>\n",
       "      <th>4</th>\n",
       "      <td>184244</td>\n",
       "      <td>Grp228</td>\n",
       "      <td>0.560000</td>\n",
       "      <td>1.013333</td>\n",
       "      <td>0.593333</td>\n",
       "      <td>0.416667</td>\n",
       "      <td>0.773333</td>\n",
       "      <td>0.460000</td>\n",
       "      <td>0.853333</td>\n",
       "      <td>0.796667</td>\n",
       "      <td>...</td>\n",
       "      <td>0.716667</td>\n",
       "      <td>0.706667</td>\n",
       "      <td>0.673333</td>\n",
       "      <td>-247.5775</td>\n",
       "      <td>0.0</td>\n",
       "      <td>train</td>\n",
       "      <td>0.85</td>\n",
       "      <td>-0.47</td>\n",
       "      <td>-0.63</td>\n",
       "      <td>0.60</td>\n",
       "    </tr>\n",
       "  </tbody>\n",
       "</table>\n",
       "<p>5 rows × 33 columns</p>\n",
       "</div>"
      ],
      "text/plain": [
       "       id   Group      Per1      Per2      Per3      Per4      Per5      Per6  \\\n",
       "0  112751  Grp169  1.070000  0.580000  0.480000  0.766667  1.233333  1.993333   \n",
       "1   18495  Grp161  0.473333  1.206667  0.883333  1.430000  0.726667  0.626667   \n",
       "2   23915  Grp261  1.130000  0.143333  0.946667  0.123333  0.080000  0.836667   \n",
       "3   50806  Grp198  0.636667  1.090000  0.750000  0.940000  0.743333  0.346667   \n",
       "4  184244  Grp228  0.560000  1.013333  0.593333  0.416667  0.773333  0.460000   \n",
       "\n",
       "       Per7      Per8  ...     Cred4     Cred5     Cred6  Normalised_FNT  \\\n",
       "0  0.340000  1.010000  ...  0.603333  0.686667  0.673333       -245.7500   \n",
       "1  0.810000  0.783333  ...  0.670000  0.553333  0.653333       -248.0000   \n",
       "2  0.056667  0.756667  ...  0.670000  0.686667  0.673333       -233.1250   \n",
       "3  0.956667  0.633333  ...  0.520000  0.846667  0.760000       -249.7775   \n",
       "4  0.853333  0.796667  ...  0.716667  0.706667  0.673333       -247.5775   \n",
       "\n",
       "   Target   data  geo_score  instance_scores  qsets_normalized_tat  lambda_wt  \n",
       "0     0.0  train       0.22            -0.06                 -0.70      -0.13  \n",
       "1     0.0  train      -0.25             0.52                  0.14       0.66  \n",
       "2     0.0  train      -0.95             1.56                 -0.43      -0.51  \n",
       "3     0.0  train       0.49             0.70                 -0.31       0.72  \n",
       "4     0.0  train       0.85            -0.47                 -0.63       0.60  \n",
       "\n",
       "[5 rows x 33 columns]"
      ]
     },
     "execution_count": 66,
     "metadata": {},
     "output_type": "execute_result"
    }
   ],
   "source": [
    "train.head()"
   ]
  },
  {
   "cell_type": "code",
   "execution_count": null,
   "id": "e0d1877d",
   "metadata": {
    "id": "e0d1877d",
    "outputId": "642a2f77-b6a8-49ec-96c2-25b6d1c23693"
   },
   "outputs": [
    {
     "data": {
      "text/html": [
       "<div>\n",
       "<style scoped>\n",
       "    .dataframe tbody tr th:only-of-type {\n",
       "        vertical-align: middle;\n",
       "    }\n",
       "\n",
       "    .dataframe tbody tr th {\n",
       "        vertical-align: top;\n",
       "    }\n",
       "\n",
       "    .dataframe thead th {\n",
       "        text-align: right;\n",
       "    }\n",
       "</style>\n",
       "<table border=\"1\" class=\"dataframe\">\n",
       "  <thead>\n",
       "    <tr style=\"text-align: right;\">\n",
       "      <th></th>\n",
       "      <th>id</th>\n",
       "      <th>Group</th>\n",
       "      <th>Per1</th>\n",
       "      <th>Per2</th>\n",
       "      <th>Per3</th>\n",
       "      <th>Per4</th>\n",
       "      <th>Per5</th>\n",
       "      <th>Per6</th>\n",
       "      <th>Per7</th>\n",
       "      <th>Per8</th>\n",
       "      <th>...</th>\n",
       "      <th>Cred4</th>\n",
       "      <th>Cred5</th>\n",
       "      <th>Cred6</th>\n",
       "      <th>Normalised_FNT</th>\n",
       "      <th>Target</th>\n",
       "      <th>data</th>\n",
       "      <th>geo_score</th>\n",
       "      <th>instance_scores</th>\n",
       "      <th>qsets_normalized_tat</th>\n",
       "      <th>lambda_wt</th>\n",
       "    </tr>\n",
       "  </thead>\n",
       "  <tbody>\n",
       "    <tr>\n",
       "      <th>227845</th>\n",
       "      <td>146574</td>\n",
       "      <td>Grp229</td>\n",
       "      <td>-0.300000</td>\n",
       "      <td>1.540000</td>\n",
       "      <td>0.220000</td>\n",
       "      <td>-0.280000</td>\n",
       "      <td>0.570000</td>\n",
       "      <td>0.260000</td>\n",
       "      <td>0.700000</td>\n",
       "      <td>1.076667</td>\n",
       "      <td>...</td>\n",
       "      <td>0.796667</td>\n",
       "      <td>0.823333</td>\n",
       "      <td>0.783333</td>\n",
       "      <td>-249.7500</td>\n",
       "      <td>NaN</td>\n",
       "      <td>test</td>\n",
       "      <td>0.25</td>\n",
       "      <td>-0.04</td>\n",
       "      <td>-0.43</td>\n",
       "      <td>0.76</td>\n",
       "    </tr>\n",
       "    <tr>\n",
       "      <th>227846</th>\n",
       "      <td>268759</td>\n",
       "      <td>Grp141</td>\n",
       "      <td>0.633333</td>\n",
       "      <td>0.953333</td>\n",
       "      <td>0.810000</td>\n",
       "      <td>0.466667</td>\n",
       "      <td>0.910000</td>\n",
       "      <td>0.253333</td>\n",
       "      <td>1.040000</td>\n",
       "      <td>0.550000</td>\n",
       "      <td>...</td>\n",
       "      <td>0.630000</td>\n",
       "      <td>0.673333</td>\n",
       "      <td>0.673333</td>\n",
       "      <td>-249.8125</td>\n",
       "      <td>NaN</td>\n",
       "      <td>test</td>\n",
       "      <td>0.43</td>\n",
       "      <td>-0.77</td>\n",
       "      <td>-0.62</td>\n",
       "      <td>0.18</td>\n",
       "    </tr>\n",
       "    <tr>\n",
       "      <th>227847</th>\n",
       "      <td>59727</td>\n",
       "      <td>Grp188</td>\n",
       "      <td>1.043333</td>\n",
       "      <td>0.740000</td>\n",
       "      <td>0.860000</td>\n",
       "      <td>1.006667</td>\n",
       "      <td>0.583333</td>\n",
       "      <td>0.616667</td>\n",
       "      <td>0.630000</td>\n",
       "      <td>0.686667</td>\n",
       "      <td>...</td>\n",
       "      <td>0.596667</td>\n",
       "      <td>0.680000</td>\n",
       "      <td>0.670000</td>\n",
       "      <td>-248.1200</td>\n",
       "      <td>NaN</td>\n",
       "      <td>test</td>\n",
       "      <td>1.32</td>\n",
       "      <td>0.11</td>\n",
       "      <td>-0.41</td>\n",
       "      <td>0.39</td>\n",
       "    </tr>\n",
       "    <tr>\n",
       "      <th>227848</th>\n",
       "      <td>151544</td>\n",
       "      <td>Grp426</td>\n",
       "      <td>1.283333</td>\n",
       "      <td>0.300000</td>\n",
       "      <td>0.576667</td>\n",
       "      <td>0.636667</td>\n",
       "      <td>0.256667</td>\n",
       "      <td>0.543333</td>\n",
       "      <td>0.356667</td>\n",
       "      <td>0.663333</td>\n",
       "      <td>...</td>\n",
       "      <td>0.320000</td>\n",
       "      <td>0.676667</td>\n",
       "      <td>0.660000</td>\n",
       "      <td>-222.9875</td>\n",
       "      <td>NaN</td>\n",
       "      <td>test</td>\n",
       "      <td>-2.11</td>\n",
       "      <td>0.33</td>\n",
       "      <td>0.37</td>\n",
       "      <td>1.80</td>\n",
       "    </tr>\n",
       "    <tr>\n",
       "      <th>227849</th>\n",
       "      <td>155008</td>\n",
       "      <td>Grp443</td>\n",
       "      <td>1.186667</td>\n",
       "      <td>0.326667</td>\n",
       "      <td>0.476667</td>\n",
       "      <td>0.866667</td>\n",
       "      <td>0.436667</td>\n",
       "      <td>0.680000</td>\n",
       "      <td>0.476667</td>\n",
       "      <td>0.686667</td>\n",
       "      <td>...</td>\n",
       "      <td>0.546667</td>\n",
       "      <td>0.650000</td>\n",
       "      <td>0.663333</td>\n",
       "      <td>-196.2200</td>\n",
       "      <td>NaN</td>\n",
       "      <td>test</td>\n",
       "      <td>-2.11</td>\n",
       "      <td>-0.37</td>\n",
       "      <td>-0.13</td>\n",
       "      <td>1.89</td>\n",
       "    </tr>\n",
       "  </tbody>\n",
       "</table>\n",
       "<p>5 rows × 33 columns</p>\n",
       "</div>"
      ],
      "text/plain": [
       "            id   Group      Per1      Per2      Per3      Per4      Per5  \\\n",
       "227845  146574  Grp229 -0.300000  1.540000  0.220000 -0.280000  0.570000   \n",
       "227846  268759  Grp141  0.633333  0.953333  0.810000  0.466667  0.910000   \n",
       "227847   59727  Grp188  1.043333  0.740000  0.860000  1.006667  0.583333   \n",
       "227848  151544  Grp426  1.283333  0.300000  0.576667  0.636667  0.256667   \n",
       "227849  155008  Grp443  1.186667  0.326667  0.476667  0.866667  0.436667   \n",
       "\n",
       "            Per6      Per7      Per8  ...     Cred4     Cred5     Cred6  \\\n",
       "227845  0.260000  0.700000  1.076667  ...  0.796667  0.823333  0.783333   \n",
       "227846  0.253333  1.040000  0.550000  ...  0.630000  0.673333  0.673333   \n",
       "227847  0.616667  0.630000  0.686667  ...  0.596667  0.680000  0.670000   \n",
       "227848  0.543333  0.356667  0.663333  ...  0.320000  0.676667  0.660000   \n",
       "227849  0.680000  0.476667  0.686667  ...  0.546667  0.650000  0.663333   \n",
       "\n",
       "        Normalised_FNT  Target  data  geo_score  instance_scores  \\\n",
       "227845       -249.7500     NaN  test       0.25            -0.04   \n",
       "227846       -249.8125     NaN  test       0.43            -0.77   \n",
       "227847       -248.1200     NaN  test       1.32             0.11   \n",
       "227848       -222.9875     NaN  test      -2.11             0.33   \n",
       "227849       -196.2200     NaN  test      -2.11            -0.37   \n",
       "\n",
       "        qsets_normalized_tat  lambda_wt  \n",
       "227845                 -0.43       0.76  \n",
       "227846                 -0.62       0.18  \n",
       "227847                 -0.41       0.39  \n",
       "227848                  0.37       1.80  \n",
       "227849                 -0.13       1.89  \n",
       "\n",
       "[5 rows x 33 columns]"
      ]
     },
     "execution_count": 67,
     "metadata": {},
     "output_type": "execute_result"
    }
   ],
   "source": [
    "test.head()"
   ]
  },
  {
   "cell_type": "code",
   "execution_count": null,
   "id": "32da1974",
   "metadata": {
    "id": "32da1974",
    "outputId": "b82e78f9-e1ab-4558-c0c5-900a68832da4"
   },
   "outputs": [
    {
     "data": {
      "text/plain": [
       "Index(['id', 'Group', 'Per1', 'Per2', 'Per3', 'Per4', 'Per5', 'Per6', 'Per7',\n",
       "       'Per8', 'Per9', 'Dem1', 'Dem2', 'Dem3', 'Dem4', 'Dem5', 'Dem6', 'Dem7',\n",
       "       'Dem8', 'Dem9', 'Cred1', 'Cred2', 'Cred3', 'Cred4', 'Cred5', 'Cred6',\n",
       "       'Normalised_FNT', 'Target', 'data', 'geo_score', 'instance_scores',\n",
       "       'qsets_normalized_tat', 'lambda_wt'],\n",
       "      dtype='object')"
      ]
     },
     "execution_count": 68,
     "metadata": {},
     "output_type": "execute_result"
    }
   ],
   "source": [
    "train.columns"
   ]
  },
  {
   "cell_type": "code",
   "execution_count": null,
   "id": "5771af7f",
   "metadata": {
    "id": "5771af7f"
   },
   "outputs": [],
   "source": [
    "x_train = train.drop(['id','Group','Target','data'], axis=1)\n",
    "y_train = train['Target']"
   ]
  },
  {
   "cell_type": "code",
   "execution_count": null,
   "id": "535aba22",
   "metadata": {
    "id": "535aba22",
    "outputId": "6f187607-17e9-495f-b464-46538ce395fd"
   },
   "outputs": [
    {
     "data": {
      "text/plain": [
       "Index(['id', 'Group', 'Per1', 'Per2', 'Per3', 'Per4', 'Per5', 'Per6', 'Per7',\n",
       "       'Per8', 'Per9', 'Dem1', 'Dem2', 'Dem3', 'Dem4', 'Dem5', 'Dem6', 'Dem7',\n",
       "       'Dem8', 'Dem9', 'Cred1', 'Cred2', 'Cred3', 'Cred4', 'Cred5', 'Cred6',\n",
       "       'Normalised_FNT', 'Target', 'data', 'geo_score', 'instance_scores',\n",
       "       'qsets_normalized_tat', 'lambda_wt'],\n",
       "      dtype='object')"
      ]
     },
     "execution_count": 70,
     "metadata": {},
     "output_type": "execute_result"
    }
   ],
   "source": [
    "test.columns"
   ]
  },
  {
   "cell_type": "code",
   "execution_count": null,
   "id": "d548e67a",
   "metadata": {
    "id": "d548e67a"
   },
   "outputs": [],
   "source": [
    "x_test = test.drop(['id','Group','Target','data'], axis=1)\n",
    "y_test = test['Target']"
   ]
  },
  {
   "cell_type": "code",
   "execution_count": null,
   "id": "6de3cab4",
   "metadata": {
    "id": "6de3cab4",
    "outputId": "e21a8fc8-3065-4407-84a5-86975eb46516"
   },
   "outputs": [
    {
     "data": {
      "text/html": [
       "<div>\n",
       "<style scoped>\n",
       "    .dataframe tbody tr th:only-of-type {\n",
       "        vertical-align: middle;\n",
       "    }\n",
       "\n",
       "    .dataframe tbody tr th {\n",
       "        vertical-align: top;\n",
       "    }\n",
       "\n",
       "    .dataframe thead th {\n",
       "        text-align: right;\n",
       "    }\n",
       "</style>\n",
       "<table border=\"1\" class=\"dataframe\">\n",
       "  <thead>\n",
       "    <tr style=\"text-align: right;\">\n",
       "      <th></th>\n",
       "      <th>Per1</th>\n",
       "      <th>Per2</th>\n",
       "      <th>Per3</th>\n",
       "      <th>Per4</th>\n",
       "      <th>Per5</th>\n",
       "      <th>Per6</th>\n",
       "      <th>Per7</th>\n",
       "      <th>Per8</th>\n",
       "      <th>Per9</th>\n",
       "      <th>Dem1</th>\n",
       "      <th>...</th>\n",
       "      <th>Cred2</th>\n",
       "      <th>Cred3</th>\n",
       "      <th>Cred4</th>\n",
       "      <th>Cred5</th>\n",
       "      <th>Cred6</th>\n",
       "      <th>Normalised_FNT</th>\n",
       "      <th>geo_score</th>\n",
       "      <th>instance_scores</th>\n",
       "      <th>qsets_normalized_tat</th>\n",
       "      <th>lambda_wt</th>\n",
       "    </tr>\n",
       "  </thead>\n",
       "  <tbody>\n",
       "    <tr>\n",
       "      <th>0</th>\n",
       "      <td>1.070000</td>\n",
       "      <td>0.580000</td>\n",
       "      <td>0.480000</td>\n",
       "      <td>0.766667</td>\n",
       "      <td>1.233333</td>\n",
       "      <td>1.993333</td>\n",
       "      <td>0.340000</td>\n",
       "      <td>1.010000</td>\n",
       "      <td>0.863333</td>\n",
       "      <td>0.460000</td>\n",
       "      <td>...</td>\n",
       "      <td>1.010000</td>\n",
       "      <td>0.933333</td>\n",
       "      <td>0.603333</td>\n",
       "      <td>0.686667</td>\n",
       "      <td>0.673333</td>\n",
       "      <td>-245.7500</td>\n",
       "      <td>0.22</td>\n",
       "      <td>-0.06</td>\n",
       "      <td>-0.70</td>\n",
       "      <td>-0.13</td>\n",
       "    </tr>\n",
       "    <tr>\n",
       "      <th>1</th>\n",
       "      <td>0.473333</td>\n",
       "      <td>1.206667</td>\n",
       "      <td>0.883333</td>\n",
       "      <td>1.430000</td>\n",
       "      <td>0.726667</td>\n",
       "      <td>0.626667</td>\n",
       "      <td>0.810000</td>\n",
       "      <td>0.783333</td>\n",
       "      <td>0.190000</td>\n",
       "      <td>0.470000</td>\n",
       "      <td>...</td>\n",
       "      <td>0.690000</td>\n",
       "      <td>0.560000</td>\n",
       "      <td>0.670000</td>\n",
       "      <td>0.553333</td>\n",
       "      <td>0.653333</td>\n",
       "      <td>-248.0000</td>\n",
       "      <td>-0.25</td>\n",
       "      <td>0.52</td>\n",
       "      <td>0.14</td>\n",
       "      <td>0.66</td>\n",
       "    </tr>\n",
       "    <tr>\n",
       "      <th>2</th>\n",
       "      <td>1.130000</td>\n",
       "      <td>0.143333</td>\n",
       "      <td>0.946667</td>\n",
       "      <td>0.123333</td>\n",
       "      <td>0.080000</td>\n",
       "      <td>0.836667</td>\n",
       "      <td>0.056667</td>\n",
       "      <td>0.756667</td>\n",
       "      <td>0.226667</td>\n",
       "      <td>0.660000</td>\n",
       "      <td>...</td>\n",
       "      <td>0.383333</td>\n",
       "      <td>0.763333</td>\n",
       "      <td>0.670000</td>\n",
       "      <td>0.686667</td>\n",
       "      <td>0.673333</td>\n",
       "      <td>-233.1250</td>\n",
       "      <td>-0.95</td>\n",
       "      <td>1.56</td>\n",
       "      <td>-0.43</td>\n",
       "      <td>-0.51</td>\n",
       "    </tr>\n",
       "    <tr>\n",
       "      <th>3</th>\n",
       "      <td>0.636667</td>\n",
       "      <td>1.090000</td>\n",
       "      <td>0.750000</td>\n",
       "      <td>0.940000</td>\n",
       "      <td>0.743333</td>\n",
       "      <td>0.346667</td>\n",
       "      <td>0.956667</td>\n",
       "      <td>0.633333</td>\n",
       "      <td>0.486667</td>\n",
       "      <td>1.096667</td>\n",
       "      <td>...</td>\n",
       "      <td>0.846667</td>\n",
       "      <td>0.423333</td>\n",
       "      <td>0.520000</td>\n",
       "      <td>0.846667</td>\n",
       "      <td>0.760000</td>\n",
       "      <td>-249.7775</td>\n",
       "      <td>0.49</td>\n",
       "      <td>0.70</td>\n",
       "      <td>-0.31</td>\n",
       "      <td>0.72</td>\n",
       "    </tr>\n",
       "    <tr>\n",
       "      <th>4</th>\n",
       "      <td>0.560000</td>\n",
       "      <td>1.013333</td>\n",
       "      <td>0.593333</td>\n",
       "      <td>0.416667</td>\n",
       "      <td>0.773333</td>\n",
       "      <td>0.460000</td>\n",
       "      <td>0.853333</td>\n",
       "      <td>0.796667</td>\n",
       "      <td>0.516667</td>\n",
       "      <td>0.756667</td>\n",
       "      <td>...</td>\n",
       "      <td>0.526667</td>\n",
       "      <td>0.520000</td>\n",
       "      <td>0.716667</td>\n",
       "      <td>0.706667</td>\n",
       "      <td>0.673333</td>\n",
       "      <td>-247.5775</td>\n",
       "      <td>0.85</td>\n",
       "      <td>-0.47</td>\n",
       "      <td>-0.63</td>\n",
       "      <td>0.60</td>\n",
       "    </tr>\n",
       "  </tbody>\n",
       "</table>\n",
       "<p>5 rows × 29 columns</p>\n",
       "</div>"
      ],
      "text/plain": [
       "       Per1      Per2      Per3      Per4      Per5      Per6      Per7  \\\n",
       "0  1.070000  0.580000  0.480000  0.766667  1.233333  1.993333  0.340000   \n",
       "1  0.473333  1.206667  0.883333  1.430000  0.726667  0.626667  0.810000   \n",
       "2  1.130000  0.143333  0.946667  0.123333  0.080000  0.836667  0.056667   \n",
       "3  0.636667  1.090000  0.750000  0.940000  0.743333  0.346667  0.956667   \n",
       "4  0.560000  1.013333  0.593333  0.416667  0.773333  0.460000  0.853333   \n",
       "\n",
       "       Per8      Per9      Dem1  ...     Cred2     Cred3     Cred4     Cred5  \\\n",
       "0  1.010000  0.863333  0.460000  ...  1.010000  0.933333  0.603333  0.686667   \n",
       "1  0.783333  0.190000  0.470000  ...  0.690000  0.560000  0.670000  0.553333   \n",
       "2  0.756667  0.226667  0.660000  ...  0.383333  0.763333  0.670000  0.686667   \n",
       "3  0.633333  0.486667  1.096667  ...  0.846667  0.423333  0.520000  0.846667   \n",
       "4  0.796667  0.516667  0.756667  ...  0.526667  0.520000  0.716667  0.706667   \n",
       "\n",
       "      Cred6  Normalised_FNT  geo_score  instance_scores  qsets_normalized_tat  \\\n",
       "0  0.673333       -245.7500       0.22            -0.06                 -0.70   \n",
       "1  0.653333       -248.0000      -0.25             0.52                  0.14   \n",
       "2  0.673333       -233.1250      -0.95             1.56                 -0.43   \n",
       "3  0.760000       -249.7775       0.49             0.70                 -0.31   \n",
       "4  0.673333       -247.5775       0.85            -0.47                 -0.63   \n",
       "\n",
       "   lambda_wt  \n",
       "0      -0.13  \n",
       "1       0.66  \n",
       "2      -0.51  \n",
       "3       0.72  \n",
       "4       0.60  \n",
       "\n",
       "[5 rows x 29 columns]"
      ]
     },
     "execution_count": 72,
     "metadata": {},
     "output_type": "execute_result"
    }
   ],
   "source": [
    "x_train.head()"
   ]
  },
  {
   "cell_type": "code",
   "execution_count": null,
   "id": "f97bece9",
   "metadata": {
    "id": "f97bece9",
    "outputId": "e7582a6e-f1f1-45ad-9cad-dc704dbc086b"
   },
   "outputs": [
    {
     "data": {
      "text/html": [
       "<div>\n",
       "<style scoped>\n",
       "    .dataframe tbody tr th:only-of-type {\n",
       "        vertical-align: middle;\n",
       "    }\n",
       "\n",
       "    .dataframe tbody tr th {\n",
       "        vertical-align: top;\n",
       "    }\n",
       "\n",
       "    .dataframe thead th {\n",
       "        text-align: right;\n",
       "    }\n",
       "</style>\n",
       "<table border=\"1\" class=\"dataframe\">\n",
       "  <thead>\n",
       "    <tr style=\"text-align: right;\">\n",
       "      <th></th>\n",
       "      <th>Per1</th>\n",
       "      <th>Per2</th>\n",
       "      <th>Per3</th>\n",
       "      <th>Per4</th>\n",
       "      <th>Per5</th>\n",
       "      <th>Per6</th>\n",
       "      <th>Per7</th>\n",
       "      <th>Per8</th>\n",
       "      <th>Per9</th>\n",
       "      <th>Dem1</th>\n",
       "      <th>...</th>\n",
       "      <th>Cred2</th>\n",
       "      <th>Cred3</th>\n",
       "      <th>Cred4</th>\n",
       "      <th>Cred5</th>\n",
       "      <th>Cred6</th>\n",
       "      <th>Normalised_FNT</th>\n",
       "      <th>geo_score</th>\n",
       "      <th>instance_scores</th>\n",
       "      <th>qsets_normalized_tat</th>\n",
       "      <th>lambda_wt</th>\n",
       "    </tr>\n",
       "  </thead>\n",
       "  <tbody>\n",
       "    <tr>\n",
       "      <th>count</th>\n",
       "      <td>227845.000000</td>\n",
       "      <td>227845.000000</td>\n",
       "      <td>227845.000000</td>\n",
       "      <td>227845.000000</td>\n",
       "      <td>227845.000000</td>\n",
       "      <td>227845.000000</td>\n",
       "      <td>227845.000000</td>\n",
       "      <td>227845.000000</td>\n",
       "      <td>227845.000000</td>\n",
       "      <td>227845.000000</td>\n",
       "      <td>...</td>\n",
       "      <td>227845.000000</td>\n",
       "      <td>227845.000000</td>\n",
       "      <td>227845.000000</td>\n",
       "      <td>227845.000000</td>\n",
       "      <td>227845.000000</td>\n",
       "      <td>227845.000000</td>\n",
       "      <td>227845.000000</td>\n",
       "      <td>227845.000000</td>\n",
       "      <td>227845.000000</td>\n",
       "      <td>227845.000000</td>\n",
       "    </tr>\n",
       "    <tr>\n",
       "      <th>mean</th>\n",
       "      <td>0.666006</td>\n",
       "      <td>0.667701</td>\n",
       "      <td>0.666315</td>\n",
       "      <td>0.666687</td>\n",
       "      <td>0.666723</td>\n",
       "      <td>0.667378</td>\n",
       "      <td>0.666934</td>\n",
       "      <td>0.666279</td>\n",
       "      <td>0.666688</td>\n",
       "      <td>0.666576</td>\n",
       "      <td>...</td>\n",
       "      <td>0.666264</td>\n",
       "      <td>0.666755</td>\n",
       "      <td>0.666878</td>\n",
       "      <td>0.666566</td>\n",
       "      <td>0.666776</td>\n",
       "      <td>-227.954170</td>\n",
       "      <td>-0.000135</td>\n",
       "      <td>-0.000123</td>\n",
       "      <td>-0.000103</td>\n",
       "      <td>0.000350</td>\n",
       "    </tr>\n",
       "    <tr>\n",
       "      <th>std</th>\n",
       "      <td>0.654133</td>\n",
       "      <td>0.548305</td>\n",
       "      <td>0.506357</td>\n",
       "      <td>0.471956</td>\n",
       "      <td>0.461393</td>\n",
       "      <td>0.444573</td>\n",
       "      <td>0.415657</td>\n",
       "      <td>0.401546</td>\n",
       "      <td>0.366537</td>\n",
       "      <td>0.340436</td>\n",
       "      <td>...</td>\n",
       "      <td>0.202204</td>\n",
       "      <td>0.174204</td>\n",
       "      <td>0.160803</td>\n",
       "      <td>0.135762</td>\n",
       "      <td>0.111612</td>\n",
       "      <td>61.951661</td>\n",
       "      <td>0.997518</td>\n",
       "      <td>1.091488</td>\n",
       "      <td>0.850163</td>\n",
       "      <td>0.957957</td>\n",
       "    </tr>\n",
       "    <tr>\n",
       "      <th>min</th>\n",
       "      <td>-18.136667</td>\n",
       "      <td>-23.573333</td>\n",
       "      <td>-15.443333</td>\n",
       "      <td>-1.226667</td>\n",
       "      <td>-37.246667</td>\n",
       "      <td>-8.053333</td>\n",
       "      <td>-13.853333</td>\n",
       "      <td>-23.740000</td>\n",
       "      <td>-3.810000</td>\n",
       "      <td>-0.893333</td>\n",
       "      <td>...</td>\n",
       "      <td>-0.280000</td>\n",
       "      <td>-2.766667</td>\n",
       "      <td>-0.080000</td>\n",
       "      <td>-6.856667</td>\n",
       "      <td>-4.476667</td>\n",
       "      <td>-250.000000</td>\n",
       "      <td>-18.680000</td>\n",
       "      <td>-24.590000</td>\n",
       "      <td>-25.160000</td>\n",
       "      <td>-19.210000</td>\n",
       "    </tr>\n",
       "    <tr>\n",
       "      <th>25%</th>\n",
       "      <td>0.360000</td>\n",
       "      <td>0.470000</td>\n",
       "      <td>0.370000</td>\n",
       "      <td>0.383333</td>\n",
       "      <td>0.436667</td>\n",
       "      <td>0.410000</td>\n",
       "      <td>0.483333</td>\n",
       "      <td>0.596667</td>\n",
       "      <td>0.453333</td>\n",
       "      <td>0.413333</td>\n",
       "      <td>...</td>\n",
       "      <td>0.546667</td>\n",
       "      <td>0.560000</td>\n",
       "      <td>0.556667</td>\n",
       "      <td>0.643333</td>\n",
       "      <td>0.650000</td>\n",
       "      <td>-248.617500</td>\n",
       "      <td>-0.410000</td>\n",
       "      <td>-0.540000</td>\n",
       "      <td>-0.480000</td>\n",
       "      <td>-0.430000</td>\n",
       "    </tr>\n",
       "    <tr>\n",
       "      <th>50%</th>\n",
       "      <td>0.670000</td>\n",
       "      <td>0.690000</td>\n",
       "      <td>0.726667</td>\n",
       "      <td>0.660000</td>\n",
       "      <td>0.650000</td>\n",
       "      <td>0.576667</td>\n",
       "      <td>0.680000</td>\n",
       "      <td>0.673333</td>\n",
       "      <td>0.650000</td>\n",
       "      <td>0.656667</td>\n",
       "      <td>...</td>\n",
       "      <td>0.680000</td>\n",
       "      <td>0.673333</td>\n",
       "      <td>0.650000</td>\n",
       "      <td>0.666667</td>\n",
       "      <td>0.670000</td>\n",
       "      <td>-244.510000</td>\n",
       "      <td>0.140000</td>\n",
       "      <td>-0.090000</td>\n",
       "      <td>-0.070000</td>\n",
       "      <td>0.050000</td>\n",
       "    </tr>\n",
       "    <tr>\n",
       "      <th>75%</th>\n",
       "      <td>1.103333</td>\n",
       "      <td>0.933333</td>\n",
       "      <td>1.010000</td>\n",
       "      <td>0.913333</td>\n",
       "      <td>0.870000</td>\n",
       "      <td>0.800000</td>\n",
       "      <td>0.856667</td>\n",
       "      <td>0.776667</td>\n",
       "      <td>0.866667</td>\n",
       "      <td>0.913333</td>\n",
       "      <td>...</td>\n",
       "      <td>0.813333</td>\n",
       "      <td>0.783333</td>\n",
       "      <td>0.746667</td>\n",
       "      <td>0.696667</td>\n",
       "      <td>0.693333</td>\n",
       "      <td>-230.750000</td>\n",
       "      <td>0.620000</td>\n",
       "      <td>0.450000</td>\n",
       "      <td>0.400000</td>\n",
       "      <td>0.490000</td>\n",
       "    </tr>\n",
       "    <tr>\n",
       "      <th>max</th>\n",
       "      <td>1.483333</td>\n",
       "      <td>8.020000</td>\n",
       "      <td>3.793333</td>\n",
       "      <td>6.163333</td>\n",
       "      <td>12.266667</td>\n",
       "      <td>25.100000</td>\n",
       "      <td>40.863333</td>\n",
       "      <td>7.336667</td>\n",
       "      <td>5.863333</td>\n",
       "      <td>4.673333</td>\n",
       "      <td>...</td>\n",
       "      <td>2.193333</td>\n",
       "      <td>3.173333</td>\n",
       "      <td>1.840000</td>\n",
       "      <td>11.203333</td>\n",
       "      <td>11.950000</td>\n",
       "      <td>6172.790000</td>\n",
       "      <td>7.850000</td>\n",
       "      <td>23.750000</td>\n",
       "      <td>8.540000</td>\n",
       "      <td>10.530000</td>\n",
       "    </tr>\n",
       "  </tbody>\n",
       "</table>\n",
       "<p>8 rows × 29 columns</p>\n",
       "</div>"
      ],
      "text/plain": [
       "                Per1           Per2           Per3           Per4  \\\n",
       "count  227845.000000  227845.000000  227845.000000  227845.000000   \n",
       "mean        0.666006       0.667701       0.666315       0.666687   \n",
       "std         0.654133       0.548305       0.506357       0.471956   \n",
       "min       -18.136667     -23.573333     -15.443333      -1.226667   \n",
       "25%         0.360000       0.470000       0.370000       0.383333   \n",
       "50%         0.670000       0.690000       0.726667       0.660000   \n",
       "75%         1.103333       0.933333       1.010000       0.913333   \n",
       "max         1.483333       8.020000       3.793333       6.163333   \n",
       "\n",
       "                Per5           Per6           Per7           Per8  \\\n",
       "count  227845.000000  227845.000000  227845.000000  227845.000000   \n",
       "mean        0.666723       0.667378       0.666934       0.666279   \n",
       "std         0.461393       0.444573       0.415657       0.401546   \n",
       "min       -37.246667      -8.053333     -13.853333     -23.740000   \n",
       "25%         0.436667       0.410000       0.483333       0.596667   \n",
       "50%         0.650000       0.576667       0.680000       0.673333   \n",
       "75%         0.870000       0.800000       0.856667       0.776667   \n",
       "max        12.266667      25.100000      40.863333       7.336667   \n",
       "\n",
       "                Per9           Dem1  ...          Cred2          Cred3  \\\n",
       "count  227845.000000  227845.000000  ...  227845.000000  227845.000000   \n",
       "mean        0.666688       0.666576  ...       0.666264       0.666755   \n",
       "std         0.366537       0.340436  ...       0.202204       0.174204   \n",
       "min        -3.810000      -0.893333  ...      -0.280000      -2.766667   \n",
       "25%         0.453333       0.413333  ...       0.546667       0.560000   \n",
       "50%         0.650000       0.656667  ...       0.680000       0.673333   \n",
       "75%         0.866667       0.913333  ...       0.813333       0.783333   \n",
       "max         5.863333       4.673333  ...       2.193333       3.173333   \n",
       "\n",
       "               Cred4          Cred5          Cred6  Normalised_FNT  \\\n",
       "count  227845.000000  227845.000000  227845.000000   227845.000000   \n",
       "mean        0.666878       0.666566       0.666776     -227.954170   \n",
       "std         0.160803       0.135762       0.111612       61.951661   \n",
       "min        -0.080000      -6.856667      -4.476667     -250.000000   \n",
       "25%         0.556667       0.643333       0.650000     -248.617500   \n",
       "50%         0.650000       0.666667       0.670000     -244.510000   \n",
       "75%         0.746667       0.696667       0.693333     -230.750000   \n",
       "max         1.840000      11.203333      11.950000     6172.790000   \n",
       "\n",
       "           geo_score  instance_scores  qsets_normalized_tat      lambda_wt  \n",
       "count  227845.000000    227845.000000         227845.000000  227845.000000  \n",
       "mean       -0.000135        -0.000123             -0.000103       0.000350  \n",
       "std         0.997518         1.091488              0.850163       0.957957  \n",
       "min       -18.680000       -24.590000            -25.160000     -19.210000  \n",
       "25%        -0.410000        -0.540000             -0.480000      -0.430000  \n",
       "50%         0.140000        -0.090000             -0.070000       0.050000  \n",
       "75%         0.620000         0.450000              0.400000       0.490000  \n",
       "max         7.850000        23.750000              8.540000      10.530000  \n",
       "\n",
       "[8 rows x 29 columns]"
      ]
     },
     "execution_count": 73,
     "metadata": {},
     "output_type": "execute_result"
    }
   ],
   "source": [
    "x_train.describe()"
   ]
  },
  {
   "cell_type": "code",
   "execution_count": null,
   "id": "4eb3e1ac",
   "metadata": {
    "id": "4eb3e1ac",
    "outputId": "bf5cabe5-0373-436b-a6ba-4ce2e8fd4998"
   },
   "outputs": [
    {
     "data": {
      "text/plain": [
       "0.0    227451\n",
       "1.0       394\n",
       "Name: Target, dtype: int64"
      ]
     },
     "execution_count": 74,
     "metadata": {},
     "output_type": "execute_result"
    }
   ],
   "source": [
    "# pls check pre-processing steps, if required\n",
    "# imbalance dataset\n",
    "y_train.value_counts()"
   ]
  },
  {
   "cell_type": "code",
   "execution_count": null,
   "id": "12dfa0cc",
   "metadata": {
    "id": "12dfa0cc",
    "outputId": "c4270f96-25e9-49dd-b1de-1aae120a1d7f"
   },
   "outputs": [
    {
     "data": {
      "text/plain": [
       "0.0    99.827075\n",
       "1.0     0.172925\n",
       "Name: Target, dtype: float64"
      ]
     },
     "execution_count": 75,
     "metadata": {},
     "output_type": "execute_result"
    }
   ],
   "source": [
    "y_train.value_counts()/len(y_train)*100"
   ]
  },
  {
   "cell_type": "code",
   "execution_count": null,
   "id": "a62d8194",
   "metadata": {
    "id": "a62d8194"
   },
   "outputs": [],
   "source": [
    "# handling imbalance dataset"
   ]
  },
  {
   "cell_type": "code",
   "execution_count": null,
   "id": "4b0629ff",
   "metadata": {
    "id": "4b0629ff"
   },
   "outputs": [],
   "source": [
    "import imblearn"
   ]
  },
  {
   "cell_type": "code",
   "execution_count": null,
   "id": "68dc2f4f",
   "metadata": {
    "id": "68dc2f4f"
   },
   "outputs": [],
   "source": [
    "from imblearn.over_sampling import RandomOverSampler\n",
    "over = RandomOverSampler()\n",
    "x_train_over, y_train_over = over.fit_resample(x_train, y_train) "
   ]
  },
  {
   "cell_type": "code",
   "execution_count": null,
   "id": "55d286a7",
   "metadata": {
    "id": "55d286a7",
    "outputId": "665283b0-0da6-47bb-f1cf-2f75d8c9ad84"
   },
   "outputs": [
    {
     "name": "stdout",
     "output_type": "stream",
     "text": [
      "0.0    227451\n",
      "1.0       394\n",
      "Name: Target, dtype: int64\n",
      "0.0    227451\n",
      "1.0    227451\n",
      "Name: Target, dtype: int64\n"
     ]
    }
   ],
   "source": [
    "print(y_train.value_counts())\n",
    "print(y_train_over.value_counts())"
   ]
  },
  {
   "cell_type": "code",
   "execution_count": null,
   "id": "a53bc413",
   "metadata": {
    "id": "a53bc413"
   },
   "outputs": [],
   "source": [
    "# feature scaling is required \n",
    "from sklearn.preprocessing import StandardScaler\n",
    "sc = StandardScaler()\n",
    "sc_x_train = sc.fit_transform(x_train_over)\n",
    "sc_x_test = sc.fit_transform(x_test)"
   ]
  },
  {
   "cell_type": "code",
   "execution_count": null,
   "id": "2e716ca6",
   "metadata": {
    "id": "2e716ca6"
   },
   "outputs": [],
   "source": [
    "x_train1 = pd.DataFrame(sc_x_train)\n",
    "x_test1 = pd.DataFrame(sc_x_test)"
   ]
  },
  {
   "cell_type": "code",
   "execution_count": null,
   "id": "462f6efd",
   "metadata": {
    "id": "462f6efd"
   },
   "outputs": [],
   "source": [
    "# split the data into training and test again for building the model and prediction \n",
    "from sklearn.model_selection import train_test_split\n",
    "x_train2, x_test2, y_train2, y_test2 = train_test_split(x_train1, y_train_over, test_size=0.2,random_state=51)"
   ]
  },
  {
   "cell_type": "code",
   "execution_count": null,
   "id": "ab39cfcc",
   "metadata": {
    "id": "ab39cfcc"
   },
   "outputs": [],
   "source": []
  },
  {
   "cell_type": "markdown",
   "id": "c4cdbb14",
   "metadata": {
    "id": "c4cdbb14"
   },
   "source": [
    "# Model Building"
   ]
  },
  {
   "cell_type": "markdown",
   "id": "a50f5d05",
   "metadata": {
    "id": "a50f5d05"
   },
   "source": [
    "# Stacking model"
   ]
  },
  {
   "cell_type": "code",
   "execution_count": null,
   "id": "d5d7fd0c",
   "metadata": {
    "id": "d5d7fd0c"
   },
   "outputs": [],
   "source": [
    "from mlxtend.classifier import StackingClassifier\n",
    "from sklearn.ensemble import RandomForestClassifier\n",
    "from sklearn.neighbors import KNeighborsClassifier\n",
    "from sklearn.naive_bayes import GaussianNB\n",
    "from sklearn.linear_model import LogisticRegression\n",
    "from sklearn.tree import DecisionTreeClassifier\n",
    "from sklearn.model_selection import cross_val_score"
   ]
  },
  {
   "cell_type": "code",
   "execution_count": null,
   "id": "51d4b0b3",
   "metadata": {
    "id": "51d4b0b3",
    "outputId": "9db181e5-1316-40aa-db98-6625d3b5790c"
   },
   "outputs": [
    {
     "name": "stdout",
     "output_type": "stream",
     "text": [
      "2-fold cross validation : \n",
      "\n",
      "Accuracy : 1.00 (+/-0.00)[RandomForest]\n",
      "Accuracy : 0.91 (+/-0.00)[NaiveBayes]\n",
      "Accuracy : 1.00 (+/-0.00)[DecisionTree]\n",
      "Accuracy : 1.00 (+/-0.00)[StackingClassifier]\n"
     ]
    }
   ],
   "source": [
    "clf1 = RandomForestClassifier()\n",
    "#clf2 = KNeighborsClassifier()\n",
    "clf3 = GaussianNB()\n",
    "clf4 = LogisticRegression()\n",
    "clf5 = DecisionTreeClassifier()\n",
    "sclf = StackingClassifier(classifiers = [clf1,  clf3, clf5], meta_classifier=clf4)\n",
    "print('2-fold cross validation : \\n')\n",
    "\n",
    "for clf, label in zip([clf1,  clf3, clf5, sclf], ['RandomForest','NaiveBayes',\n",
    "                                                      'DecisionTree', 'StackingClassifier']):\n",
    "    scores=cross_val_score(clf, x_train2, y_train2, cv=2, scoring ='accuracy')\n",
    "    print(\"Accuracy : %0.2f (+/-%0.2f)[%s]\" %(scores.mean(), scores.std(), label))"
   ]
  },
  {
   "cell_type": "markdown",
   "id": "80965fa5",
   "metadata": {
    "id": "80965fa5"
   },
   "source": [
    "# Home Work\n",
    "### pls make classification report basis best model"
   ]
  },
  {
   "cell_type": "markdown",
   "id": "4406c847",
   "metadata": {
    "id": "4406c847"
   },
   "source": [
    "# PyCaret - is one of the best and automation model"
   ]
  },
  {
   "cell_type": "markdown",
   "id": "27dc87d9",
   "metadata": {
    "id": "27dc87d9"
   },
   "source": [
    "# IsolationForest , LocalOutlierFactor, OneClassSVM - can handle anomaly/fraud deduction"
   ]
  },
  {
   "cell_type": "code",
   "execution_count": null,
   "id": "b29db15c",
   "metadata": {
    "id": "b29db15c",
    "outputId": "2e68d5f0-5eb7-4cc1-9a3e-f6f352793ef7"
   },
   "outputs": [
    {
     "name": "stdout",
     "output_type": "stream",
     "text": [
      "0.0    227451\n",
      "1.0       394\n",
      "Name: Target, dtype: int64\n"
     ]
    }
   ],
   "source": [
    "print(y_train.value_counts())"
   ]
  },
  {
   "cell_type": "code",
   "execution_count": null,
   "id": "d97d2a83",
   "metadata": {
    "id": "d97d2a83",
    "outputId": "a125af07-d982-469d-c087-20dd7833d9ee"
   },
   "outputs": [
    {
     "data": {
      "text/plain": [
       "0.001729245759178389"
      ]
     },
     "execution_count": 86,
     "metadata": {},
     "output_type": "execute_result"
    }
   ],
   "source": [
    "outlier_faction = 394 / (394+227451)\n",
    "outlier_faction"
   ]
  },
  {
   "cell_type": "code",
   "execution_count": null,
   "id": "b3b72db8",
   "metadata": {
    "id": "b3b72db8"
   },
   "outputs": [],
   "source": [
    "from sklearn.ensemble import IsolationForest\n",
    "from sklearn.neighbors import LocalOutlierFactor\n",
    "from sklearn.svm import OneClassSVM"
   ]
  },
  {
   "cell_type": "code",
   "execution_count": null,
   "id": "c35a4670",
   "metadata": {
    "id": "c35a4670",
    "outputId": "a65f7c5b-6527-4eb7-fd92-90bf0b8ca394"
   },
   "outputs": [
    {
     "data": {
      "text/plain": [
       "227845"
      ]
     },
     "execution_count": 89,
     "metadata": {},
     "output_type": "execute_result"
    }
   ],
   "source": [
    "len(x_train)"
   ]
  },
  {
   "cell_type": "code",
   "execution_count": null,
   "id": "dba15e06",
   "metadata": {
    "id": "dba15e06"
   },
   "outputs": [],
   "source": [
    "Classification = {\"Isolation Forest\" : IsolationForest(n_estimators=100, \n",
    "                                                       max_samples=len(x_train),\n",
    "                                                      contamination=outlier_faction),\n",
    "                 \"Local Outlier Factor\" : LocalOutlierFactor(n_neighbors=20,\n",
    "                                                             contamination=outlier_faction),\n",
    "                 \"One Class SVM\" : OneClassSVM()}"
   ]
  },
  {
   "cell_type": "code",
   "execution_count": null,
   "id": "0132be48",
   "metadata": {
    "id": "0132be48",
    "outputId": "9632fd1f-afb1-4af8-f44e-e89c60d812f4"
   },
   "outputs": [
    {
     "data": {
      "text/plain": [
       "(394, 33)"
      ]
     },
     "execution_count": 92,
     "metadata": {},
     "output_type": "execute_result"
    }
   ],
   "source": [
    "fraud = train[train['Target']==1]\n",
    "fraud.shape"
   ]
  },
  {
   "cell_type": "code",
   "execution_count": null,
   "id": "a04b504b",
   "metadata": {
    "id": "a04b504b",
    "outputId": "0ae15313-9126-4148-f712-b789e037f22e"
   },
   "outputs": [
    {
     "name": "stderr",
     "output_type": "stream",
     "text": [
      "C:\\Users\\Lenovo\\anaconda3\\lib\\site-packages\\sklearn\\base.py:450: UserWarning: X does not have valid feature names, but IsolationForest was fitted with feature names\n",
      "  warnings.warn(\n"
     ]
    },
    {
     "name": "stdout",
     "output_type": "stream",
     "text": [
      "Isolation Forest : 556\n"
     ]
    }
   ],
   "source": [
    "n_outlier = len(fraud)\n",
    "\n",
    "for i, (clf_name, clf) in enumerate(Classification.items()):\n",
    "    if clf_name =='Local Outlier Factor' :\n",
    "        y_pred = clf.fit_predict(x_train)\n",
    "        score_prediction = clf.negative_outlier_factor_\n",
    "        \n",
    "    elif clf_name =='One Class SVM' :\n",
    "        clf.fit(x_train)\n",
    "        y_pred = clf.predict(x_train)\n",
    "    else:\n",
    "        clf.fit(x_train)\n",
    "        score_prediction = clf.decision_function(x_train)\n",
    "        y_pred = clf.predict(x_train)\n",
    "        \n",
    "    y_pred[y_pred==1] = 0\n",
    "    y_pred[y_pred==-1]=1\n",
    "    n_error = (y_pred!=y_train).sum()\n",
    "    \n",
    "    print(\"{} : {}\".format(clf_name, n_error))"
   ]
  },
  {
   "cell_type": "code",
   "execution_count": null,
   "id": "5cd72c5e",
   "metadata": {
    "id": "5cd72c5e"
   },
   "outputs": [],
   "source": []
  }
 ],
 "metadata": {
  "colab": {
   "provenance": []
  },
  "kernelspec": {
   "display_name": "Python 3 (ipykernel)",
   "language": "python",
   "name": "python3"
  },
  "language_info": {
   "codemirror_mode": {
    "name": "ipython",
    "version": 3
   },
   "file_extension": ".py",
   "mimetype": "text/x-python",
   "name": "python",
   "nbconvert_exporter": "python",
   "pygments_lexer": "ipython3",
   "version": "3.9.12"
  }
 },
 "nbformat": 4,
 "nbformat_minor": 5
}
